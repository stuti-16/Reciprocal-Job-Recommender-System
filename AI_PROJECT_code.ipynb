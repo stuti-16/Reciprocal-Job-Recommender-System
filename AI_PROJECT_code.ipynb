{
  "nbformat": 4,
  "nbformat_minor": 0,
  "metadata": {
    "colab": {
      "provenance": []
    },
    "kernelspec": {
      "name": "python3",
      "display_name": "Python 3"
    },
    "language_info": {
      "name": "python"
    }
  },
  "cells": [
    {
      "cell_type": "markdown",
      "source": [
        "Extracting data from resume using Resume Parser Library</h2>"
      ],
      "metadata": {
        "id": "x56MrNpUokpx"
      }
    },
    {
      "cell_type": "code",
      "source": [
        "%%capture\n",
        "!pip install nltk\n",
        "!pip install spacy==2.3.5\n",
        "!pip install https://github.com/explosion/spacy-models/releases/download/en_core_web_sm-2.3.1/en_core_web_sm-2.3.1.tar.gz"
      ],
      "metadata": {
        "id": "rsJUtomJe6aT"
      },
      "execution_count": null,
      "outputs": []
    },
    {
      "cell_type": "code",
      "source": [
        "%%capture\n",
        "!apt-get -qq install -y graphviz && pip install pyresparser\n",
        "!apt-get -qq install -y graphviz && pip install python_docx"
      ],
      "metadata": {
        "id": "AX05PfybIUyh"
      },
      "execution_count": null,
      "outputs": []
    },
    {
      "cell_type": "code",
      "source": [
        "import numpy as np\n",
        "import pandas as pd\n",
        "import nltk\n",
        "nltk.download('stopwords')\n",
        "from nltk.corpus import stopwords\n",
        "from pyresparser import ResumeParser\n",
        "import os\n",
        "from docx import Document"
      ],
      "metadata": {
        "colab": {
          "base_uri": "https://localhost:8080/"
        },
        "id": "p_ZlsDB2GcCl",
        "outputId": "7856391d-82dc-40c7-dbf4-bc545093f004"
      },
      "execution_count": null,
      "outputs": [
        {
          "output_type": "stream",
          "name": "stderr",
          "text": [
            "[nltk_data] Downloading package stopwords to /root/nltk_data...\n",
            "[nltk_data]   Package stopwords is already up-to-date!\n"
          ]
        }
      ]
    },
    {
      "cell_type": "code",
      "source": [
        "# %%capture\n",
        "# !git clone https://github.com/jsvine/pdfplumber.git"
      ],
      "metadata": {
        "id": "qmvZrycL8y2S"
      },
      "execution_count": null,
      "outputs": []
    },
    {
      "cell_type": "code",
      "source": [
        "# %%capture\n",
        "# !cd pdfplumber; pip install .; cd .."
      ],
      "metadata": {
        "id": "k8fTwLdb9U3N"
      },
      "execution_count": null,
      "outputs": []
    },
    {
      "cell_type": "code",
      "source": [
        "# %%capture\n",
        "# !pip3 install pdfplumber"
      ],
      "metadata": {
        "id": "0RwrH2E792f0"
      },
      "execution_count": null,
      "outputs": []
    },
    {
      "cell_type": "code",
      "source": [
        "from google.colab import drive\n",
        "drive.mount('/content/drive')"
      ],
      "metadata": {
        "colab": {
          "base_uri": "https://localhost:8080/"
        },
        "id": "Z3zFXmAO6X89",
        "outputId": "5ffe1b91-e27d-4450-f207-e2fa10c010b6"
      },
      "execution_count": null,
      "outputs": [
        {
          "output_type": "stream",
          "name": "stdout",
          "text": [
            "Mounted at /content/drive\n"
          ]
        }
      ]
    },
    {
      "cell_type": "markdown",
      "source": [
        "# JOB SEEKER"
      ],
      "metadata": {
        "id": "qUqRKubelpEn"
      }
    },
    {
      "cell_type": "markdown",
      "source": [
        "**Upload Resume Module**"
      ],
      "metadata": {
        "id": "rIfTyBx9pQJR"
      }
    },
    {
      "cell_type": "code",
      "source": [
        "from google.colab import files\n",
        "uploaded = files.upload()\n",
        "# type(uploaded)"
      ],
      "metadata": {
        "colab": {
          "base_uri": "https://localhost:8080/",
          "height": 73
        },
        "id": "QyqZlIi8Ycai",
        "outputId": "b0c1836b-7d57-4e2f-9dd4-b0e5340ace27"
      },
      "execution_count": null,
      "outputs": [
        {
          "output_type": "display_data",
          "data": {
            "text/plain": [
              "<IPython.core.display.HTML object>"
            ],
            "text/html": [
              "\n",
              "     <input type=\"file\" id=\"files-9b4647d7-2d04-4550-a274-8177618d75fd\" name=\"files[]\" multiple disabled\n",
              "        style=\"border:none\" />\n",
              "     <output id=\"result-9b4647d7-2d04-4550-a274-8177618d75fd\">\n",
              "      Upload widget is only available when the cell has been executed in the\n",
              "      current browser session. Please rerun this cell to enable.\n",
              "      </output>\n",
              "      <script>// Copyright 2017 Google LLC\n",
              "//\n",
              "// Licensed under the Apache License, Version 2.0 (the \"License\");\n",
              "// you may not use this file except in compliance with the License.\n",
              "// You may obtain a copy of the License at\n",
              "//\n",
              "//      http://www.apache.org/licenses/LICENSE-2.0\n",
              "//\n",
              "// Unless required by applicable law or agreed to in writing, software\n",
              "// distributed under the License is distributed on an \"AS IS\" BASIS,\n",
              "// WITHOUT WARRANTIES OR CONDITIONS OF ANY KIND, either express or implied.\n",
              "// See the License for the specific language governing permissions and\n",
              "// limitations under the License.\n",
              "\n",
              "/**\n",
              " * @fileoverview Helpers for google.colab Python module.\n",
              " */\n",
              "(function(scope) {\n",
              "function span(text, styleAttributes = {}) {\n",
              "  const element = document.createElement('span');\n",
              "  element.textContent = text;\n",
              "  for (const key of Object.keys(styleAttributes)) {\n",
              "    element.style[key] = styleAttributes[key];\n",
              "  }\n",
              "  return element;\n",
              "}\n",
              "\n",
              "// Max number of bytes which will be uploaded at a time.\n",
              "const MAX_PAYLOAD_SIZE = 100 * 1024;\n",
              "\n",
              "function _uploadFiles(inputId, outputId) {\n",
              "  const steps = uploadFilesStep(inputId, outputId);\n",
              "  const outputElement = document.getElementById(outputId);\n",
              "  // Cache steps on the outputElement to make it available for the next call\n",
              "  // to uploadFilesContinue from Python.\n",
              "  outputElement.steps = steps;\n",
              "\n",
              "  return _uploadFilesContinue(outputId);\n",
              "}\n",
              "\n",
              "// This is roughly an async generator (not supported in the browser yet),\n",
              "// where there are multiple asynchronous steps and the Python side is going\n",
              "// to poll for completion of each step.\n",
              "// This uses a Promise to block the python side on completion of each step,\n",
              "// then passes the result of the previous step as the input to the next step.\n",
              "function _uploadFilesContinue(outputId) {\n",
              "  const outputElement = document.getElementById(outputId);\n",
              "  const steps = outputElement.steps;\n",
              "\n",
              "  const next = steps.next(outputElement.lastPromiseValue);\n",
              "  return Promise.resolve(next.value.promise).then((value) => {\n",
              "    // Cache the last promise value to make it available to the next\n",
              "    // step of the generator.\n",
              "    outputElement.lastPromiseValue = value;\n",
              "    return next.value.response;\n",
              "  });\n",
              "}\n",
              "\n",
              "/**\n",
              " * Generator function which is called between each async step of the upload\n",
              " * process.\n",
              " * @param {string} inputId Element ID of the input file picker element.\n",
              " * @param {string} outputId Element ID of the output display.\n",
              " * @return {!Iterable<!Object>} Iterable of next steps.\n",
              " */\n",
              "function* uploadFilesStep(inputId, outputId) {\n",
              "  const inputElement = document.getElementById(inputId);\n",
              "  inputElement.disabled = false;\n",
              "\n",
              "  const outputElement = document.getElementById(outputId);\n",
              "  outputElement.innerHTML = '';\n",
              "\n",
              "  const pickedPromise = new Promise((resolve) => {\n",
              "    inputElement.addEventListener('change', (e) => {\n",
              "      resolve(e.target.files);\n",
              "    });\n",
              "  });\n",
              "\n",
              "  const cancel = document.createElement('button');\n",
              "  inputElement.parentElement.appendChild(cancel);\n",
              "  cancel.textContent = 'Cancel upload';\n",
              "  const cancelPromise = new Promise((resolve) => {\n",
              "    cancel.onclick = () => {\n",
              "      resolve(null);\n",
              "    };\n",
              "  });\n",
              "\n",
              "  // Wait for the user to pick the files.\n",
              "  const files = yield {\n",
              "    promise: Promise.race([pickedPromise, cancelPromise]),\n",
              "    response: {\n",
              "      action: 'starting',\n",
              "    }\n",
              "  };\n",
              "\n",
              "  cancel.remove();\n",
              "\n",
              "  // Disable the input element since further picks are not allowed.\n",
              "  inputElement.disabled = true;\n",
              "\n",
              "  if (!files) {\n",
              "    return {\n",
              "      response: {\n",
              "        action: 'complete',\n",
              "      }\n",
              "    };\n",
              "  }\n",
              "\n",
              "  for (const file of files) {\n",
              "    const li = document.createElement('li');\n",
              "    li.append(span(file.name, {fontWeight: 'bold'}));\n",
              "    li.append(span(\n",
              "        `(${file.type || 'n/a'}) - ${file.size} bytes, ` +\n",
              "        `last modified: ${\n",
              "            file.lastModifiedDate ? file.lastModifiedDate.toLocaleDateString() :\n",
              "                                    'n/a'} - `));\n",
              "    const percent = span('0% done');\n",
              "    li.appendChild(percent);\n",
              "\n",
              "    outputElement.appendChild(li);\n",
              "\n",
              "    const fileDataPromise = new Promise((resolve) => {\n",
              "      const reader = new FileReader();\n",
              "      reader.onload = (e) => {\n",
              "        resolve(e.target.result);\n",
              "      };\n",
              "      reader.readAsArrayBuffer(file);\n",
              "    });\n",
              "    // Wait for the data to be ready.\n",
              "    let fileData = yield {\n",
              "      promise: fileDataPromise,\n",
              "      response: {\n",
              "        action: 'continue',\n",
              "      }\n",
              "    };\n",
              "\n",
              "    // Use a chunked sending to avoid message size limits. See b/62115660.\n",
              "    let position = 0;\n",
              "    do {\n",
              "      const length = Math.min(fileData.byteLength - position, MAX_PAYLOAD_SIZE);\n",
              "      const chunk = new Uint8Array(fileData, position, length);\n",
              "      position += length;\n",
              "\n",
              "      const base64 = btoa(String.fromCharCode.apply(null, chunk));\n",
              "      yield {\n",
              "        response: {\n",
              "          action: 'append',\n",
              "          file: file.name,\n",
              "          data: base64,\n",
              "        },\n",
              "      };\n",
              "\n",
              "      let percentDone = fileData.byteLength === 0 ?\n",
              "          100 :\n",
              "          Math.round((position / fileData.byteLength) * 100);\n",
              "      percent.textContent = `${percentDone}% done`;\n",
              "\n",
              "    } while (position < fileData.byteLength);\n",
              "  }\n",
              "\n",
              "  // All done.\n",
              "  yield {\n",
              "    response: {\n",
              "      action: 'complete',\n",
              "    }\n",
              "  };\n",
              "}\n",
              "\n",
              "scope.google = scope.google || {};\n",
              "scope.google.colab = scope.google.colab || {};\n",
              "scope.google.colab._files = {\n",
              "  _uploadFiles,\n",
              "  _uploadFilesContinue,\n",
              "};\n",
              "})(self);\n",
              "</script> "
            ]
          },
          "metadata": {}
        },
        {
          "output_type": "stream",
          "name": "stdout",
          "text": [
            "Saving 10810913.pdf to 10810913.pdf\n"
          ]
        }
      ]
    },
    {
      "cell_type": "code",
      "source": [
        "type(uploaded)\n",
        "next(iter(uploaded))"
      ],
      "metadata": {
        "colab": {
          "base_uri": "https://localhost:8080/",
          "height": 36
        },
        "id": "-0rOCF2AZ9-Y",
        "outputId": "0590fac3-6d30-4c38-a395-6bfcb45d879f"
      },
      "execution_count": null,
      "outputs": [
        {
          "output_type": "execute_result",
          "data": {
            "text/plain": [
              "'10810913.pdf'"
            ],
            "application/vnd.google.colaboratory.intrinsic+json": {
              "type": "string"
            }
          },
          "metadata": {},
          "execution_count": 163
        }
      ]
    },
    {
      "cell_type": "code",
      "source": [
        "# save resume file in drive\n",
        "\n",
        "import shutil\n",
        "colab_link = \"/content/\"+next(iter(uploaded))\n",
        "gdrive_link = \"/content/drive/MyDrive/Colab/AI_project/resumes\"\n",
        "filed = shutil.copy(colab_link, gdrive_link)"
      ],
      "metadata": {
        "id": "JPneYfHqaILL"
      },
      "execution_count": null,
      "outputs": []
    },
    {
      "cell_type": "code",
      "source": [
        "try:\n",
        "    doc = Document()\n",
        "    # if file is in .txt format\n",
        "    with open(filed, 'r') as file:\n",
        "        doc.add_paragraph(file.read())\n",
        "    doc.save(\"text.docx\")\n",
        "    data = ResumeParser('text.docx').get_extracted_data()\n",
        "except:\n",
        "    data = ResumeParser(filed).get_extracted_data()"
      ],
      "metadata": {
        "colab": {
          "base_uri": "https://localhost:8080/"
        },
        "id": "1Oy4GgGSFiYY",
        "outputId": "7a575631-4a49-4547-a9e6-8977f59836f6"
      },
      "execution_count": null,
      "outputs": [
        {
          "output_type": "stream",
          "name": "stderr",
          "text": [
            "/usr/local/lib/python3.8/dist-packages/spacy/util.py:275: UserWarning: [W031] Model 'en_training' (0.0.0) requires spaCy v2.1 and is incompatible with the current spaCy version (2.3.5). This may lead to unexpected results or runtime errors. To resolve this, download a newer compatible model or retrain your custom model with the current spaCy version. For more details and available updates, run: python -m spacy validate\n",
            "  warnings.warn(warn_msg)\n"
          ]
        }
      ]
    },
    {
      "cell_type": "code",
      "source": [
        "print(type(data))\n",
        "\n",
        "# listd1 = []\n",
        "# for i in data.keys():\n",
        "#   listd1.append(i)\n",
        "#   # print(i+\",\", end='')\n",
        "\n",
        "# listd1"
      ],
      "metadata": {
        "colab": {
          "base_uri": "https://localhost:8080/"
        },
        "id": "M3ERTtZsq6eA",
        "outputId": "17353238-9dea-4eab-ebb1-9014214862f7"
      },
      "execution_count": null,
      "outputs": [
        {
          "output_type": "stream",
          "name": "stdout",
          "text": [
            "<class 'dict'>\n"
          ]
        }
      ]
    },
    {
      "cell_type": "code",
      "source": [
        "print(data)"
      ],
      "metadata": {
        "id": "71_Y1iPdHy9E",
        "colab": {
          "base_uri": "https://localhost:8080/"
        },
        "outputId": "9d5562b1-6b0f-4b9d-cf72-12be0a38ffb7"
      },
      "execution_count": null,
      "outputs": [
        {
          "output_type": "stream",
          "name": "stdout",
          "text": [
            "{'name': 'Harsha Himani', 'email': 'himaniftb@gmail.com', 'mobile_number': '9182371544', 'skills': ['Policies', 'Engagement', 'Agile', 'Engineering', 'Plan', 'Scrum', 'Analytical', 'Payments', 'Testing', 'Process', 'Analysis', 'Windows', 'Database', 'Administration', 'Programming', 'Computer science', 'System'], 'college_name': None, 'degree': ['B.Tech (Bachelor of Technology)'], 'designation': ['System Engineer'], 'experience': ['System Engineer', 'Infosys', 'Apr 2021 - Present (1 year 10 months)', 'System Engineer', 'Project Name- McCamish System About Client:', 'John Hancock Life Insurance Company, U.S.A. a is Boston-based insurance company. Company', 'provides', 'life insurance, mutual fund long-term care, retirement plan service, and institutional investment', 'products.', 'Size of Engagement : More than 100 resources', 'Project Title : John Hancock; Team Size :20', 'Environment(Technical): Progress OpenEdge 11.x, Round Table.', 'About Project:', 'VPAS is a progress application that manages the financial and nonfinancial history of the policies. We', 'can create events like premium payments and process those events by running the batch on different', 'levels.', '•Worked on various tickets based on the requirement', '•Involved in changing functionality and fixing bugs on existing screens.', '•Tested the functionality with changes.', 'Harsha Himani - page 1', 'Responsibilities:', '•Requirement analysis and Estimation.', '•Coding.', '•Involved in Sending Daily report activities to the Stakeholders.', '•Manual unit testing.', '•Committing the code in RTB.', '•Peer code review.', '•Attending daily Scrum, Groom meeting and Sprint Planning meeting.'], 'company_names': ['Infosys'], 'no_of_pages': 2, 'total_experience': 1.92}\n"
          ]
        }
      ]
    },
    {
      "cell_type": "code",
      "source": [
        "# d1 ={}\n",
        "counter =0\n",
        "for key, val in data.items():\n",
        "    print(key,\" : \",val)\n",
        "    # d1.update( {key : listd1[counter]} )\n",
        "    # counter = counter+1"
      ],
      "metadata": {
        "colab": {
          "base_uri": "https://localhost:8080/"
        },
        "id": "Ym_d25tx7oTe",
        "outputId": "a3604a00-b22d-47ef-fabc-2f206d47a6e9"
      },
      "execution_count": null,
      "outputs": [
        {
          "output_type": "stream",
          "name": "stdout",
          "text": [
            "name  :  Harsha Himani\n",
            "email  :  himaniftb@gmail.com\n",
            "mobile_number  :  9182371544\n",
            "skills  :  ['Policies', 'Engagement', 'Agile', 'Engineering', 'Plan', 'Scrum', 'Analytical', 'Payments', 'Testing', 'Process', 'Analysis', 'Windows', 'Database', 'Administration', 'Programming', 'Computer science', 'System']\n",
            "college_name  :  None\n",
            "degree  :  ['B.Tech (Bachelor of Technology)']\n",
            "designation  :  ['System Engineer']\n",
            "experience  :  ['System Engineer', 'Infosys', 'Apr 2021 - Present (1 year 10 months)', 'System Engineer', 'Project Name- McCamish System About Client:', 'John Hancock Life Insurance Company, U.S.A. a is Boston-based insurance company. Company', 'provides', 'life insurance, mutual fund long-term care, retirement plan service, and institutional investment', 'products.', 'Size of Engagement : More than 100 resources', 'Project Title : John Hancock; Team Size :20', 'Environment(Technical): Progress OpenEdge 11.x, Round Table.', 'About Project:', 'VPAS is a progress application that manages the financial and nonfinancial history of the policies. We', 'can create events like premium payments and process those events by running the batch on different', 'levels.', '•Worked on various tickets based on the requirement', '•Involved in changing functionality and fixing bugs on existing screens.', '•Tested the functionality with changes.', 'Harsha Himani - page 1', 'Responsibilities:', '•Requirement analysis and Estimation.', '•Coding.', '•Involved in Sending Daily report activities to the Stakeholders.', '•Manual unit testing.', '•Committing the code in RTB.', '•Peer code review.', '•Attending daily Scrum, Groom meeting and Sprint Planning meeting.']\n",
            "company_names  :  ['Infosys']\n",
            "no_of_pages  :  2\n",
            "total_experience  :  1.92\n"
          ]
        }
      ]
    },
    {
      "cell_type": "code",
      "source": [
        "from csv import DictWriter\n",
        " \n",
        "# list of column names\n",
        "field_names = data.keys()\n",
        " \n",
        "# Open CSV file in append mode\n",
        "# Create a file object for this file\n",
        "with open('/content/drive/MyDrive/Colab/AI_project/resumes/resume_dataset.csv', 'a') as f_object:\n",
        "  # TO ADD COLUMNS NAMES\n",
        "    # dictwriter_object = DictWriter(f_object, fieldnames=field_names)\n",
        "    # dictwriter_object.writerow(d1)\n",
        "    \n",
        "    # Pass the file object and a list of column names to DictWriter()\n",
        "    # You will get a object of DictWriter\n",
        "    dictwriter_object = DictWriter(f_object, fieldnames=field_names)\n",
        " \n",
        "    # Pass the dictionary as an argument to the Writerow()\n",
        "    dictwriter_object.writerow(data)\n",
        " \n",
        "    # Close the file object\n",
        "    f_object.close()"
      ],
      "metadata": {
        "id": "_0j83zgEifPO"
      },
      "execution_count": null,
      "outputs": []
    },
    {
      "cell_type": "code",
      "source": [
        "df =pd.read_csv('/content/drive/MyDrive/Colab/AI_project/resumes/resume_dataset.csv')\n",
        "df.tail()"
      ],
      "metadata": {
        "colab": {
          "base_uri": "https://localhost:8080/",
          "height": 513
        },
        "id": "CWNiUz1FmDCc",
        "outputId": "65430a53-8d3c-4076-f82a-29c3ddaa8c18"
      },
      "execution_count": null,
      "outputs": [
        {
          "output_type": "execute_result",
          "data": {
            "text/plain": [
              "             name                            email mobile_number  \\\n",
              "17        Lavanya  lavanya.adhinarayanan@gmail.com     988403855   \n",
              "18            NaN                              NaN           NaN   \n",
              "19          Rohan               rohan230@gmail.com      011-2014   \n",
              "20          Aneet           aneetatomy23@gmail.com    8129945395   \n",
              "21  Harsha Himani              himaniftb@gmail.com    9182371544   \n",
              "\n",
              "                                               skills  \\\n",
              "17  ['Sports', 'Engineering', 'Scrum', 'Payments',...   \n",
              "18                                                NaN   \n",
              "19  ['Ai', 'Content', 'Mysql', 'C', 'Oracle', 'Min...   \n",
              "20  ['Engineering', 'Windows', 'Java', 'Social med...   \n",
              "21  ['Policies', 'Engagement', 'Agile', 'Engineeri...   \n",
              "\n",
              "                                college_name  \\\n",
              "17  Dayal Singh College, University of Delhi   \n",
              "18                                       NaN   \n",
              "19                                       NaN   \n",
              "20                           NSIT, New Delhi   \n",
              "21                                       NaN   \n",
              "\n",
              "                                 degree          designation  \\\n",
              "17                           B.Sc. Hons                  NaN   \n",
              "18                                  NaN                  NaN   \n",
              "19                       ['BCA', 'MCA']                  NaN   \n",
              "20           B.Tech (Computer Science)                   NaN   \n",
              "21  ['B.Tech (Bachelor of Technology)']  ['System Engineer']   \n",
              "\n",
              "                                           experience company_names  \\\n",
              "17  ['▪', '▪ Worked with Insoft.com Private Ltd, C...           NaN   \n",
              "18                                                NaN           NaN   \n",
              "19  ['ESAF CO-OPERATIVE', ':IT Assistant :  2019 –...           NaN   \n",
              "20  ['PageMe Consultancy [Digital Marketing Analys...           NaN   \n",
              "21  ['System Engineer', 'Infosys', 'Apr 2021 - Pre...   ['Infosys']   \n",
              "\n",
              "    no_of_pages  total_experience  \n",
              "17          9.0              0.00  \n",
              "18          NaN               NaN  \n",
              "19          3.0              0.00  \n",
              "20          2.0              0.25  \n",
              "21          2.0              1.92  "
            ],
            "text/html": [
              "\n",
              "  <div id=\"df-6385c909-308d-434a-b6bb-1b9ab87d583e\">\n",
              "    <div class=\"colab-df-container\">\n",
              "      <div>\n",
              "<style scoped>\n",
              "    .dataframe tbody tr th:only-of-type {\n",
              "        vertical-align: middle;\n",
              "    }\n",
              "\n",
              "    .dataframe tbody tr th {\n",
              "        vertical-align: top;\n",
              "    }\n",
              "\n",
              "    .dataframe thead th {\n",
              "        text-align: right;\n",
              "    }\n",
              "</style>\n",
              "<table border=\"1\" class=\"dataframe\">\n",
              "  <thead>\n",
              "    <tr style=\"text-align: right;\">\n",
              "      <th></th>\n",
              "      <th>name</th>\n",
              "      <th>email</th>\n",
              "      <th>mobile_number</th>\n",
              "      <th>skills</th>\n",
              "      <th>college_name</th>\n",
              "      <th>degree</th>\n",
              "      <th>designation</th>\n",
              "      <th>experience</th>\n",
              "      <th>company_names</th>\n",
              "      <th>no_of_pages</th>\n",
              "      <th>total_experience</th>\n",
              "    </tr>\n",
              "  </thead>\n",
              "  <tbody>\n",
              "    <tr>\n",
              "      <th>17</th>\n",
              "      <td>Lavanya</td>\n",
              "      <td>lavanya.adhinarayanan@gmail.com</td>\n",
              "      <td>988403855</td>\n",
              "      <td>['Sports', 'Engineering', 'Scrum', 'Payments',...</td>\n",
              "      <td>Dayal Singh College, University of Delhi</td>\n",
              "      <td>B.Sc. Hons</td>\n",
              "      <td>NaN</td>\n",
              "      <td>['▪', '▪ Worked with Insoft.com Private Ltd, C...</td>\n",
              "      <td>NaN</td>\n",
              "      <td>9.0</td>\n",
              "      <td>0.00</td>\n",
              "    </tr>\n",
              "    <tr>\n",
              "      <th>18</th>\n",
              "      <td>NaN</td>\n",
              "      <td>NaN</td>\n",
              "      <td>NaN</td>\n",
              "      <td>NaN</td>\n",
              "      <td>NaN</td>\n",
              "      <td>NaN</td>\n",
              "      <td>NaN</td>\n",
              "      <td>NaN</td>\n",
              "      <td>NaN</td>\n",
              "      <td>NaN</td>\n",
              "      <td>NaN</td>\n",
              "    </tr>\n",
              "    <tr>\n",
              "      <th>19</th>\n",
              "      <td>Rohan</td>\n",
              "      <td>rohan230@gmail.com</td>\n",
              "      <td>011-2014</td>\n",
              "      <td>['Ai', 'Content', 'Mysql', 'C', 'Oracle', 'Min...</td>\n",
              "      <td>NaN</td>\n",
              "      <td>['BCA', 'MCA']</td>\n",
              "      <td>NaN</td>\n",
              "      <td>['ESAF CO-OPERATIVE', ':IT Assistant :  2019 –...</td>\n",
              "      <td>NaN</td>\n",
              "      <td>3.0</td>\n",
              "      <td>0.00</td>\n",
              "    </tr>\n",
              "    <tr>\n",
              "      <th>20</th>\n",
              "      <td>Aneet</td>\n",
              "      <td>aneetatomy23@gmail.com</td>\n",
              "      <td>8129945395</td>\n",
              "      <td>['Engineering', 'Windows', 'Java', 'Social med...</td>\n",
              "      <td>NSIT, New Delhi</td>\n",
              "      <td>B.Tech (Computer Science)</td>\n",
              "      <td>NaN</td>\n",
              "      <td>['PageMe Consultancy [Digital Marketing Analys...</td>\n",
              "      <td>NaN</td>\n",
              "      <td>2.0</td>\n",
              "      <td>0.25</td>\n",
              "    </tr>\n",
              "    <tr>\n",
              "      <th>21</th>\n",
              "      <td>Harsha Himani</td>\n",
              "      <td>himaniftb@gmail.com</td>\n",
              "      <td>9182371544</td>\n",
              "      <td>['Policies', 'Engagement', 'Agile', 'Engineeri...</td>\n",
              "      <td>NaN</td>\n",
              "      <td>['B.Tech (Bachelor of Technology)']</td>\n",
              "      <td>['System Engineer']</td>\n",
              "      <td>['System Engineer', 'Infosys', 'Apr 2021 - Pre...</td>\n",
              "      <td>['Infosys']</td>\n",
              "      <td>2.0</td>\n",
              "      <td>1.92</td>\n",
              "    </tr>\n",
              "  </tbody>\n",
              "</table>\n",
              "</div>\n",
              "      <button class=\"colab-df-convert\" onclick=\"convertToInteractive('df-6385c909-308d-434a-b6bb-1b9ab87d583e')\"\n",
              "              title=\"Convert this dataframe to an interactive table.\"\n",
              "              style=\"display:none;\">\n",
              "        \n",
              "  <svg xmlns=\"http://www.w3.org/2000/svg\" height=\"24px\"viewBox=\"0 0 24 24\"\n",
              "       width=\"24px\">\n",
              "    <path d=\"M0 0h24v24H0V0z\" fill=\"none\"/>\n",
              "    <path d=\"M18.56 5.44l.94 2.06.94-2.06 2.06-.94-2.06-.94-.94-2.06-.94 2.06-2.06.94zm-11 1L8.5 8.5l.94-2.06 2.06-.94-2.06-.94L8.5 2.5l-.94 2.06-2.06.94zm10 10l.94 2.06.94-2.06 2.06-.94-2.06-.94-.94-2.06-.94 2.06-2.06.94z\"/><path d=\"M17.41 7.96l-1.37-1.37c-.4-.4-.92-.59-1.43-.59-.52 0-1.04.2-1.43.59L10.3 9.45l-7.72 7.72c-.78.78-.78 2.05 0 2.83L4 21.41c.39.39.9.59 1.41.59.51 0 1.02-.2 1.41-.59l7.78-7.78 2.81-2.81c.8-.78.8-2.07 0-2.86zM5.41 20L4 18.59l7.72-7.72 1.47 1.35L5.41 20z\"/>\n",
              "  </svg>\n",
              "      </button>\n",
              "      \n",
              "  <style>\n",
              "    .colab-df-container {\n",
              "      display:flex;\n",
              "      flex-wrap:wrap;\n",
              "      gap: 12px;\n",
              "    }\n",
              "\n",
              "    .colab-df-convert {\n",
              "      background-color: #E8F0FE;\n",
              "      border: none;\n",
              "      border-radius: 50%;\n",
              "      cursor: pointer;\n",
              "      display: none;\n",
              "      fill: #1967D2;\n",
              "      height: 32px;\n",
              "      padding: 0 0 0 0;\n",
              "      width: 32px;\n",
              "    }\n",
              "\n",
              "    .colab-df-convert:hover {\n",
              "      background-color: #E2EBFA;\n",
              "      box-shadow: 0px 1px 2px rgba(60, 64, 67, 0.3), 0px 1px 3px 1px rgba(60, 64, 67, 0.15);\n",
              "      fill: #174EA6;\n",
              "    }\n",
              "\n",
              "    [theme=dark] .colab-df-convert {\n",
              "      background-color: #3B4455;\n",
              "      fill: #D2E3FC;\n",
              "    }\n",
              "\n",
              "    [theme=dark] .colab-df-convert:hover {\n",
              "      background-color: #434B5C;\n",
              "      box-shadow: 0px 1px 3px 1px rgba(0, 0, 0, 0.15);\n",
              "      filter: drop-shadow(0px 1px 2px rgba(0, 0, 0, 0.3));\n",
              "      fill: #FFFFFF;\n",
              "    }\n",
              "  </style>\n",
              "\n",
              "      <script>\n",
              "        const buttonEl =\n",
              "          document.querySelector('#df-6385c909-308d-434a-b6bb-1b9ab87d583e button.colab-df-convert');\n",
              "        buttonEl.style.display =\n",
              "          google.colab.kernel.accessAllowed ? 'block' : 'none';\n",
              "\n",
              "        async function convertToInteractive(key) {\n",
              "          const element = document.querySelector('#df-6385c909-308d-434a-b6bb-1b9ab87d583e');\n",
              "          const dataTable =\n",
              "            await google.colab.kernel.invokeFunction('convertToInteractive',\n",
              "                                                     [key], {});\n",
              "          if (!dataTable) return;\n",
              "\n",
              "          const docLinkHtml = 'Like what you see? Visit the ' +\n",
              "            '<a target=\"_blank\" href=https://colab.research.google.com/notebooks/data_table.ipynb>data table notebook</a>'\n",
              "            + ' to learn more about interactive tables.';\n",
              "          element.innerHTML = '';\n",
              "          dataTable['output_type'] = 'display_data';\n",
              "          await google.colab.output.renderOutput(dataTable, element);\n",
              "          const docLink = document.createElement('div');\n",
              "          docLink.innerHTML = docLinkHtml;\n",
              "          element.appendChild(docLink);\n",
              "        }\n",
              "      </script>\n",
              "    </div>\n",
              "  </div>\n",
              "  "
            ]
          },
          "metadata": {},
          "execution_count": 109
        }
      ]
    },
    {
      "cell_type": "markdown",
      "source": [
        "Skill extraction from job description"
      ],
      "metadata": {
        "id": "s9sSYjJBtHrx"
      }
    },
    {
      "cell_type": "code",
      "source": [
        "stopw  = set(stopwords.words('english'))\n",
        "type(stopw)\n",
        "# stopw"
      ],
      "metadata": {
        "id": "Qn2i-QLqCTI6",
        "colab": {
          "base_uri": "https://localhost:8080/"
        },
        "outputId": "6549ec0f-e6f1-4855-9a47-cebf387a17aa"
      },
      "execution_count": null,
      "outputs": [
        {
          "output_type": "execute_result",
          "data": {
            "text/plain": [
              "set"
            ]
          },
          "metadata": {},
          "execution_count": 18
        }
      ]
    },
    {
      "cell_type": "code",
      "source": [
        "all_jobs_df =pd.read_csv('https://raw.githubusercontent.com/pik1989/HRAnalytics-Project/main/job_final.csv') \n",
        "print(\"Size of the data set : \", all_jobs_df.shape)\n",
        "all_jobs_df.head()"
      ],
      "metadata": {
        "colab": {
          "base_uri": "https://localhost:8080/",
          "height": 223
        },
        "id": "cLRDtzG7r6A2",
        "outputId": "481a1e43-630a-4e58-cb41-bae685a1ae84"
      },
      "execution_count": null,
      "outputs": [
        {
          "output_type": "stream",
          "name": "stdout",
          "text": [
            "Size of the data set :  (1924, 6)\n"
          ]
        },
        {
          "output_type": "execute_result",
          "data": {
            "text/plain": [
              "   Unnamed: 0                                                url  \\\n",
              "0           0  https://www.glassdoor.co.in/partner/jobListing...   \n",
              "1           1  https://www.glassdoor.co.in/partner/jobListing...   \n",
              "2           2  https://www.glassdoor.co.in/partner/jobListing...   \n",
              "3           3  https://www.glassdoor.co.in/partner/jobListing...   \n",
              "4           4  https://www.glassdoor.co.in/partner/jobListing...   \n",
              "\n",
              "                                            Position  \\\n",
              "0                        Software Testing Internship   \n",
              "1                          Embedded Software Testing   \n",
              "2  Senior Engineer - Software Testing (Bangalore ...   \n",
              "3                          Software Testing Engineer   \n",
              "4           CIEL/SEL/1888: Software testing Engineer   \n",
              "\n",
              "                         Company      Location  \\\n",
              "0  Smart Food Safe Solutions Inc   – Bengaluru   \n",
              "1                       Mobiveil   – Bengaluru   \n",
              "2     Open Systems International   – Bengaluru   \n",
              "3                Bloom Solutions   – Bengaluru   \n",
              "4               CIEL HR Services   – Bengaluru   \n",
              "\n",
              "                                     Job_Description  \n",
              "0  About the company:\\nSmart Food Safe Solutions ...  \n",
              "1  Location : Bangalore\\nExperience : 4+ Years\\n\\...  \n",
              "2  Open Systems International, Inc. (OSI) www.osi...  \n",
              "3  About the Job\\n\\nSoftware Testing Engineer\\n\\n...  \n",
              "4  Location: Bangalore\\nExperience: 3 to 6Years\\n...  "
            ],
            "text/html": [
              "\n",
              "  <div id=\"df-14d15a0e-7615-433d-8278-e693ceb03a7d\">\n",
              "    <div class=\"colab-df-container\">\n",
              "      <div>\n",
              "<style scoped>\n",
              "    .dataframe tbody tr th:only-of-type {\n",
              "        vertical-align: middle;\n",
              "    }\n",
              "\n",
              "    .dataframe tbody tr th {\n",
              "        vertical-align: top;\n",
              "    }\n",
              "\n",
              "    .dataframe thead th {\n",
              "        text-align: right;\n",
              "    }\n",
              "</style>\n",
              "<table border=\"1\" class=\"dataframe\">\n",
              "  <thead>\n",
              "    <tr style=\"text-align: right;\">\n",
              "      <th></th>\n",
              "      <th>Unnamed: 0</th>\n",
              "      <th>url</th>\n",
              "      <th>Position</th>\n",
              "      <th>Company</th>\n",
              "      <th>Location</th>\n",
              "      <th>Job_Description</th>\n",
              "    </tr>\n",
              "  </thead>\n",
              "  <tbody>\n",
              "    <tr>\n",
              "      <th>0</th>\n",
              "      <td>0</td>\n",
              "      <td>https://www.glassdoor.co.in/partner/jobListing...</td>\n",
              "      <td>Software Testing Internship</td>\n",
              "      <td>Smart Food Safe Solutions Inc</td>\n",
              "      <td>– Bengaluru</td>\n",
              "      <td>About the company:\\nSmart Food Safe Solutions ...</td>\n",
              "    </tr>\n",
              "    <tr>\n",
              "      <th>1</th>\n",
              "      <td>1</td>\n",
              "      <td>https://www.glassdoor.co.in/partner/jobListing...</td>\n",
              "      <td>Embedded Software Testing</td>\n",
              "      <td>Mobiveil</td>\n",
              "      <td>– Bengaluru</td>\n",
              "      <td>Location : Bangalore\\nExperience : 4+ Years\\n\\...</td>\n",
              "    </tr>\n",
              "    <tr>\n",
              "      <th>2</th>\n",
              "      <td>2</td>\n",
              "      <td>https://www.glassdoor.co.in/partner/jobListing...</td>\n",
              "      <td>Senior Engineer - Software Testing (Bangalore ...</td>\n",
              "      <td>Open Systems International</td>\n",
              "      <td>– Bengaluru</td>\n",
              "      <td>Open Systems International, Inc. (OSI) www.osi...</td>\n",
              "    </tr>\n",
              "    <tr>\n",
              "      <th>3</th>\n",
              "      <td>3</td>\n",
              "      <td>https://www.glassdoor.co.in/partner/jobListing...</td>\n",
              "      <td>Software Testing Engineer</td>\n",
              "      <td>Bloom Solutions</td>\n",
              "      <td>– Bengaluru</td>\n",
              "      <td>About the Job\\n\\nSoftware Testing Engineer\\n\\n...</td>\n",
              "    </tr>\n",
              "    <tr>\n",
              "      <th>4</th>\n",
              "      <td>4</td>\n",
              "      <td>https://www.glassdoor.co.in/partner/jobListing...</td>\n",
              "      <td>CIEL/SEL/1888: Software testing Engineer</td>\n",
              "      <td>CIEL HR Services</td>\n",
              "      <td>– Bengaluru</td>\n",
              "      <td>Location: Bangalore\\nExperience: 3 to 6Years\\n...</td>\n",
              "    </tr>\n",
              "  </tbody>\n",
              "</table>\n",
              "</div>\n",
              "      <button class=\"colab-df-convert\" onclick=\"convertToInteractive('df-14d15a0e-7615-433d-8278-e693ceb03a7d')\"\n",
              "              title=\"Convert this dataframe to an interactive table.\"\n",
              "              style=\"display:none;\">\n",
              "        \n",
              "  <svg xmlns=\"http://www.w3.org/2000/svg\" height=\"24px\"viewBox=\"0 0 24 24\"\n",
              "       width=\"24px\">\n",
              "    <path d=\"M0 0h24v24H0V0z\" fill=\"none\"/>\n",
              "    <path d=\"M18.56 5.44l.94 2.06.94-2.06 2.06-.94-2.06-.94-.94-2.06-.94 2.06-2.06.94zm-11 1L8.5 8.5l.94-2.06 2.06-.94-2.06-.94L8.5 2.5l-.94 2.06-2.06.94zm10 10l.94 2.06.94-2.06 2.06-.94-2.06-.94-.94-2.06-.94 2.06-2.06.94z\"/><path d=\"M17.41 7.96l-1.37-1.37c-.4-.4-.92-.59-1.43-.59-.52 0-1.04.2-1.43.59L10.3 9.45l-7.72 7.72c-.78.78-.78 2.05 0 2.83L4 21.41c.39.39.9.59 1.41.59.51 0 1.02-.2 1.41-.59l7.78-7.78 2.81-2.81c.8-.78.8-2.07 0-2.86zM5.41 20L4 18.59l7.72-7.72 1.47 1.35L5.41 20z\"/>\n",
              "  </svg>\n",
              "      </button>\n",
              "      \n",
              "  <style>\n",
              "    .colab-df-container {\n",
              "      display:flex;\n",
              "      flex-wrap:wrap;\n",
              "      gap: 12px;\n",
              "    }\n",
              "\n",
              "    .colab-df-convert {\n",
              "      background-color: #E8F0FE;\n",
              "      border: none;\n",
              "      border-radius: 50%;\n",
              "      cursor: pointer;\n",
              "      display: none;\n",
              "      fill: #1967D2;\n",
              "      height: 32px;\n",
              "      padding: 0 0 0 0;\n",
              "      width: 32px;\n",
              "    }\n",
              "\n",
              "    .colab-df-convert:hover {\n",
              "      background-color: #E2EBFA;\n",
              "      box-shadow: 0px 1px 2px rgba(60, 64, 67, 0.3), 0px 1px 3px 1px rgba(60, 64, 67, 0.15);\n",
              "      fill: #174EA6;\n",
              "    }\n",
              "\n",
              "    [theme=dark] .colab-df-convert {\n",
              "      background-color: #3B4455;\n",
              "      fill: #D2E3FC;\n",
              "    }\n",
              "\n",
              "    [theme=dark] .colab-df-convert:hover {\n",
              "      background-color: #434B5C;\n",
              "      box-shadow: 0px 1px 3px 1px rgba(0, 0, 0, 0.15);\n",
              "      filter: drop-shadow(0px 1px 2px rgba(0, 0, 0, 0.3));\n",
              "      fill: #FFFFFF;\n",
              "    }\n",
              "  </style>\n",
              "\n",
              "      <script>\n",
              "        const buttonEl =\n",
              "          document.querySelector('#df-14d15a0e-7615-433d-8278-e693ceb03a7d button.colab-df-convert');\n",
              "        buttonEl.style.display =\n",
              "          google.colab.kernel.accessAllowed ? 'block' : 'none';\n",
              "\n",
              "        async function convertToInteractive(key) {\n",
              "          const element = document.querySelector('#df-14d15a0e-7615-433d-8278-e693ceb03a7d');\n",
              "          const dataTable =\n",
              "            await google.colab.kernel.invokeFunction('convertToInteractive',\n",
              "                                                     [key], {});\n",
              "          if (!dataTable) return;\n",
              "\n",
              "          const docLinkHtml = 'Like what you see? Visit the ' +\n",
              "            '<a target=\"_blank\" href=https://colab.research.google.com/notebooks/data_table.ipynb>data table notebook</a>'\n",
              "            + ' to learn more about interactive tables.';\n",
              "          element.innerHTML = '';\n",
              "          dataTable['output_type'] = 'display_data';\n",
              "          await google.colab.output.renderOutput(dataTable, element);\n",
              "          const docLink = document.createElement('div');\n",
              "          docLink.innerHTML = docLinkHtml;\n",
              "          element.appendChild(docLink);\n",
              "        }\n",
              "      </script>\n",
              "    </div>\n",
              "  </div>\n",
              "  "
            ]
          },
          "metadata": {},
          "execution_count": 111
        }
      ]
    },
    {
      "cell_type": "code",
      "source": [
        "all_jobs_df['Job_Description']"
      ],
      "metadata": {
        "colab": {
          "base_uri": "https://localhost:8080/"
        },
        "id": "8MNbL7AH3usu",
        "outputId": "18c593c6-8419-4e42-e83a-be1c50294053"
      },
      "execution_count": null,
      "outputs": [
        {
          "output_type": "stream",
          "name": "stdout",
          "text": [
            "Size of the data set :  (1924, 6)\n"
          ]
        },
        {
          "output_type": "execute_result",
          "data": {
            "text/plain": [
              "0       About the company:\\nSmart Food Safe Solutions ...\n",
              "1       Location : Bangalore\\nExperience : 4+ Years\\n\\...\n",
              "2       Open Systems International, Inc. (OSI) www.osi...\n",
              "3       About the Job\\n\\nSoftware Testing Engineer\\n\\n...\n",
              "4       Location: Bangalore\\nExperience: 3 to 6Years\\n...\n",
              "                              ...                        \n",
              "1919    Skills and Qualifications:\\n\\n2+ Years of expe...\n",
              "1920    Job ID : TH10519_13189\\n\\nPosted on: 29th of M...\n",
              "1921    Job Description\\nWe spend 90 percent of\\n\\nour...\n",
              "1922    (Job Number: 1905027)\\n\\nJob Title â€“ Web Dev...\n",
              "1923    We marry design and engineering language in wa...\n",
              "Name: Job_Description, Length: 1924, dtype: object"
            ]
          },
          "metadata": {},
          "execution_count": 120
        }
      ]
    },
    {
      "cell_type": "code",
      "source": [
        "print(all_jobs_df.columns)\n",
        "all_jobs_df.rename(columns = {'Unnamed: 0':'index'}, inplace = True)"
      ],
      "metadata": {
        "colab": {
          "base_uri": "https://localhost:8080/"
        },
        "id": "vQ4CMfxKB1sn",
        "outputId": "7cf8e276-c41d-46c1-aa07-ae94225c8944"
      },
      "execution_count": null,
      "outputs": [
        {
          "output_type": "stream",
          "name": "stdout",
          "text": [
            "Index(['Unnamed: 0', 'url', 'Position', 'Company', 'Location',\n",
            "       'Job_Description'],\n",
            "      dtype='object')\n"
          ]
        }
      ]
    },
    {
      "cell_type": "code",
      "source": [
        "all_jobs_df = all_jobs_df.dropna()\n",
        "print(\"Size of the data set : \", all_jobs_df.shape)"
      ],
      "metadata": {
        "colab": {
          "base_uri": "https://localhost:8080/"
        },
        "id": "ac6Q4YBClKKS",
        "outputId": "37ae57de-a84e-4fa8-ea0d-091e7e193d4d"
      },
      "execution_count": null,
      "outputs": [
        {
          "output_type": "stream",
          "name": "stdout",
          "text": [
            "Size of the data set :  (1923, 6)\n"
          ]
        }
      ]
    },
    {
      "cell_type": "code",
      "source": [
        "import spacy\n",
        "\n",
        "# load english language model and create nlp object from it\n",
        "nlp = spacy.load(\"en_core_web_sm\") \n",
        "\n",
        "def preprocess(text):\n",
        "    # remove stop words and lemmatize the text\n",
        "    doc = nlp(text)\n",
        "    filtered_tokens = []\n",
        "    for token in doc:\n",
        "        if token.is_stop or token.is_punct:\n",
        "            continue\n",
        "        filtered_tokens.append(token.lemma_)\n",
        "    \n",
        "    return \" \".join(filtered_tokens) "
      ],
      "metadata": {
        "id": "qIkabIC0BfXg"
      },
      "execution_count": null,
      "outputs": []
    },
    {
      "cell_type": "code",
      "source": [
        "# print(all_jobs_df['Job_Description'][0])\n",
        "# print(\"\")\n",
        "# print(\"\")\n",
        "# print(\"-----------------------------------AFTER PROCESSING------------------------------------\")\n",
        "# print(\"Processed Data :\",end='')\n",
        "# processes_jobdes = preprocess(all_jobs_df['Job_Description'][0])\n",
        "# print(processes_jobdes)"
      ],
      "metadata": {
        "id": "JngaQb17ZY3p"
      },
      "execution_count": null,
      "outputs": []
    },
    {
      "cell_type": "code",
      "source": [
        "from sklearn.feature_extraction.text import CountVectorizer"
      ],
      "metadata": {
        "id": "6K6d6QfkbjPm"
      },
      "execution_count": null,
      "outputs": []
    },
    {
      "cell_type": "code",
      "source": [
        "# from sklearn.feature_extraction.text import CountVectorizer\n",
        "\n",
        "# vtest = CountVectorizer()\n",
        "# vtest = CountVectorizer(ngram_range=(1,2))\n",
        "# vtest.fit([\"I am a robot who loves to play with people\"])\n",
        "# print(\"Length of frequency matrix :\",len(vtest.vocabulary_))\n",
        "# count = 1\n",
        "# print(\" \")\n",
        "# for key, val in vtest.vocabulary_.items():\n",
        "#   if count%5:\n",
        "#     print(key,\":\", val, end=\" \")\n",
        "#   else:\n",
        "#     print(key,\":\", val)\n",
        "#   count = count+1\n",
        "# tf_count = vtest.transform([\"I am a robot\"])\n",
        "# print(\" \")\n",
        "# print(\"Count Vector for sentence 'I am a robot' :\")\n",
        "# tf_count.toarray()"
      ],
      "metadata": {
        "id": "20NuJx5UhUxJ",
        "colab": {
          "base_uri": "https://localhost:8080/"
        },
        "outputId": "088ce78b-f03b-4344-abb6-6b3a752bcb6c"
      },
      "execution_count": null,
      "outputs": [
        {
          "output_type": "stream",
          "name": "stdout",
          "text": [
            "Length of frequency matrix : 15\n",
            " \n",
            "am : 0 robot : 7 who : 11 loves : 2 to : 9\n",
            "play : 5 with : 13 people : 4 am robot : 1 robot who : 8\n",
            "who loves : 12 loves to : 3 to play : 10 play with : 6 with people : 14\n",
            " \n",
            "Count Vector for sentence 'I am a robot' :\n"
          ]
        },
        {
          "output_type": "execute_result",
          "data": {
            "text/plain": [
              "array([[1, 1, 0, 0, 0, 0, 0, 1, 0, 0, 0, 0, 0, 0, 0]])"
            ]
          },
          "metadata": {},
          "execution_count": 22
        }
      ]
    },
    {
      "cell_type": "code",
      "source": [
        "# v = CountVectorizer(ngram_range=(1,2))\n",
        "# v.fit([processes_jobdes])\n",
        "# print(type(v.vocabulary_))\n",
        "# print(len(v.vocabulary_))\n",
        "# v.vocabulary_"
      ],
      "metadata": {
        "id": "6M0grvMv9kwH"
      },
      "execution_count": null,
      "outputs": []
    },
    {
      "cell_type": "code",
      "source": [
        "all_jobs_df['test']=all_jobs_df['Job_Description'].apply(preprocess)\n",
        "all_jobs_df['test']"
      ],
      "metadata": {
        "id": "pvNAtzUzBkOu",
        "colab": {
          "base_uri": "https://localhost:8080/"
        },
        "outputId": "6e5a25b1-5441-42b5-e2d5-892d7b48576f"
      },
      "execution_count": null,
      "outputs": [
        {
          "output_type": "execute_result",
          "data": {
            "text/plain": [
              "0       company \\n Smart Food Safe Solutions Inc. food...\n",
              "1       location bangalore \\n experience 4 + year \\n\\n...\n",
              "2       Open Systems International Inc. OSI www.osii.c...\n",
              "3       Job \\n\\n software Testing Engineer \\n\\n\\n Job ...\n",
              "4       location bangalore \\n experience 3 6year \\n sk...\n",
              "                              ...                        \n",
              "1919    skill qualification \\n\\n 2 + year experience \\...\n",
              "1920    Job ID th10519_13189 \\n\\n post 29th 2019Job Po...\n",
              "1921    Job Description \\n spend 90 percent \\n\\n life ...\n",
              "1922    Job number 1905027 \\n\\n Job Title â€ Web Devel...\n",
              "1923    marry design engineering language way produce ...\n",
              "Name: test, Length: 1923, dtype: object"
            ]
          },
          "metadata": {},
          "execution_count": 114
        }
      ]
    },
    {
      "cell_type": "code",
      "source": [
        "%%capture\n",
        "!pip install ftfy"
      ],
      "metadata": {
        "id": "CC2tlg2eunMF"
      },
      "execution_count": null,
      "outputs": []
    },
    {
      "cell_type": "code",
      "source": [
        "import re\n",
        "\n",
        "from ftfy import fix_text\n",
        "\n",
        "def string_process(string, n=2):\n",
        "    string = fix_text(string) # fix text\n",
        "    string = string.encode(\"ascii\", errors=\"ignore\").decode() #remove non ascii chars \n",
        "    chars_to_remove = [\")\",\"(\",\".\",\"|\",\"[\",\"]\",\"{\",\"}\",\"'\"]\n",
        "    rx = '[' + re.escape(''.join(chars_to_remove)) + ']'\n",
        "    string = re.sub(rx, '', string)\n",
        "    string = string.replace('&', 'and')\n",
        "    string = string.replace('\\n', ' ')\n",
        "    string = string.replace(',', ' ')\n",
        "    string = string.replace('-', ' ')\n",
        "    string = string.title()                       # normalise case - capital at start of each word\n",
        "    string = re.sub(' +',' ',string).strip()      # get rid of multiple spaces and replace with a single\n",
        "    string = ' '+ string +' '                     # pad names for ngrams...\n",
        "    string = re.sub(r'[,-./]|\\sBD',r'', string)\n",
        "    string = string.lower()\n",
        "    return string"
      ],
      "metadata": {
        "id": "Ab7UIFKOmQwQ"
      },
      "execution_count": null,
      "outputs": []
    },
    {
      "cell_type": "code",
      "source": [
        "# string_process(all_jobs_df['Job_Description'][2])"
      ],
      "metadata": {
        "id": "6WZLvwhGmkbS"
      },
      "execution_count": null,
      "outputs": []
    },
    {
      "cell_type": "code",
      "source": [
        "all_jobs_df['test']=all_jobs_df['Job_Description'].apply(string_process)\n",
        "all_jobs_df['test']"
      ],
      "metadata": {
        "colab": {
          "base_uri": "https://localhost:8080/"
        },
        "id": "FuEbGOT6maE0",
        "outputId": "ef99046d-13d9-4664-d90e-91312caef1b6"
      },
      "execution_count": null,
      "outputs": [
        {
          "output_type": "execute_result",
          "data": {
            "text/plain": [
              "0        about the company: smart food safe solutions ...\n",
              "1        location : bangalore experience : 4+ years jo...\n",
              "2        open systems international inc osi wwwosiicom...\n",
              "3        about the job software testing engineer job d...\n",
              "4        location: bangalore experience: 3 to 6years s...\n",
              "                              ...                        \n",
              "1919     skills and qualifications: 2+ years of experi...\n",
              "1920     job id : th10519_13189 posted on: 29th of may...\n",
              "1921     job description we spend 90 percent of our li...\n",
              "1922     job number: 1905027 job title web developer u...\n",
              "1923     we marry design and engineering language in w...\n",
              "Name: test, Length: 1923, dtype: object"
            ]
          },
          "metadata": {},
          "execution_count": 117
        }
      ]
    },
    {
      "cell_type": "code",
      "source": [
        "# print(data['skills'])\n",
        "\n",
        "data_lower = []\n",
        "for s in data['skills']:\n",
        "    data_lower.append(s.lower())\n",
        "\n",
        "jobseeker_skills = \" \"\n",
        "jobseeker_skills = jobseeker_skills.join(data_lower)\n",
        "j=1\n",
        "for i in jobseeker_skills:\n",
        "  if j%40:\n",
        "    print(i, end='')\n",
        "  else:\n",
        "    print(i)\n",
        "  j = j+1"
      ],
      "metadata": {
        "colab": {
          "base_uri": "https://localhost:8080/"
        },
        "id": "uOkpUUpWceFq",
        "outputId": "c33986ac-5611-4bc3-e7b0-12180a454082"
      },
      "execution_count": null,
      "outputs": [
        {
          "output_type": "stream",
          "name": "stdout",
          "text": [
            "affiliate visual content html python com\n",
            "puter science mobile android website pre\n",
            "sentation mysql php c++ java xml"
          ]
        }
      ]
    },
    {
      "cell_type": "code",
      "source": [
        "v = CountVectorizer()\n",
        "\n",
        "v = CountVectorizer(ngram_range=(1,2))\n",
        "v.fit([jobseeker_skills])\n",
        "print(type(v.vocabulary_))\n",
        "print(len(v.vocabulary_))\n",
        "v.vocabulary_"
      ],
      "metadata": {
        "colab": {
          "base_uri": "https://localhost:8080/"
        },
        "id": "SYAcaCJmnXtQ",
        "outputId": "ddc25401-ed0f-44ba-ce7b-3c8acb54216a"
      },
      "execution_count": null,
      "outputs": [
        {
          "output_type": "stream",
          "name": "stdout",
          "text": [
            "<class 'dict'>\n",
            "29\n"
          ]
        },
        {
          "output_type": "execute_result",
          "data": {
            "text/plain": [
              "{'affiliate': 0,\n",
              " 'visual': 24,\n",
              " 'content': 6,\n",
              " 'html': 8,\n",
              " 'python': 20,\n",
              " 'computer': 4,\n",
              " 'science': 22,\n",
              " 'mobile': 12,\n",
              " 'android': 2,\n",
              " 'website': 26,\n",
              " 'presentation': 18,\n",
              " 'mysql': 14,\n",
              " 'php': 16,\n",
              " 'java': 10,\n",
              " 'xml': 28,\n",
              " 'affiliate visual': 1,\n",
              " 'visual content': 25,\n",
              " 'content html': 7,\n",
              " 'html python': 9,\n",
              " 'python computer': 21,\n",
              " 'computer science': 5,\n",
              " 'science mobile': 23,\n",
              " 'mobile android': 13,\n",
              " 'android website': 3,\n",
              " 'website presentation': 27,\n",
              " 'presentation mysql': 19,\n",
              " 'mysql php': 15,\n",
              " 'php java': 17,\n",
              " 'java xml': 11}"
            ]
          },
          "metadata": {},
          "execution_count": 47
        }
      ]
    },
    {
      "cell_type": "code",
      "source": [
        "tf_count = v.transform(all_jobs_df['test'])\n",
        "tf_ud = tf_count.toarray()\n",
        "print(type(tf_count))\n",
        "print(tf_ud.shape)\n",
        "print(tf_ud)"
      ],
      "metadata": {
        "colab": {
          "base_uri": "https://localhost:8080/"
        },
        "id": "pe6o2T0CozLs",
        "outputId": "e54f09c4-510b-44f0-fdcc-d22237feed97"
      },
      "execution_count": null,
      "outputs": [
        {
          "output_type": "stream",
          "name": "stdout",
          "text": [
            "<class 'scipy.sparse.csr.csr_matrix'>\n",
            "(1923, 233)\n",
            "[[0 0 0 ... 0 1 0]\n",
            " [0 0 0 ... 0 0 0]\n",
            " [0 0 0 ... 0 0 0]\n",
            " ...\n",
            " [0 0 0 ... 0 0 0]\n",
            " [0 0 0 ... 0 0 0]\n",
            " [0 0 0 ... 0 0 0]]\n"
          ]
        }
      ]
    },
    {
      "cell_type": "code",
      "source": [
        "from sklearn.neighbors import NearestNeighbors\n",
        "\n",
        "nbrs = NearestNeighbors(n_neighbors=10, n_jobs=-1).fit(tf_count)"
      ],
      "metadata": {
        "id": "SNw6XsngvFwm"
      },
      "execution_count": null,
      "outputs": []
    },
    {
      "cell_type": "code",
      "source": [
        "def getNearestN(query):\n",
        "  q_tf_count = v.transform(query)\n",
        "  distances, indices = nbrs.kneighbors(q_tf_count)\n",
        "  return distances, indices"
      ],
      "metadata": {
        "id": "ix4bzJPlvKGO"
      },
      "execution_count": null,
      "outputs": []
    },
    {
      "cell_type": "code",
      "source": [
        "distances, indices = getNearestN([jobseeker_skills])"
      ],
      "metadata": {
        "id": "g2SxFZQMrQNn"
      },
      "execution_count": null,
      "outputs": []
    },
    {
      "cell_type": "code",
      "source": [
        "print(\"Distances          \", \"Indices\")\n",
        "for i in range(1,len(distances[0])):\n",
        "  print(distances[0][i],\"    \", indices[0][i])"
      ],
      "metadata": {
        "id": "kW6OBvu4vSpp",
        "colab": {
          "base_uri": "https://localhost:8080/"
        },
        "outputId": "83268642-6e8f-4e0b-dc83-de4d1d8bc4ef"
      },
      "execution_count": null,
      "outputs": [
        {
          "output_type": "stream",
          "name": "stdout",
          "text": [
            "Distances           Indices\n",
            "4.58257569495584      1426\n",
            "4.58257569495584      710\n",
            "4.58257569495584      1524\n",
            "4.69041575982343      1592\n",
            "4.69041575982343      1799\n",
            "4.69041575982343      1779\n",
            "4.69041575982343      1780\n",
            "4.795831523312719      500\n",
            "4.795831523312719      1099\n"
          ]
        }
      ]
    },
    {
      "cell_type": "code",
      "source": [
        "type(indices)\n",
        "for i in indices:\n",
        "    rec_jobs = all_jobs_df[['Position', 'Company','Location']].iloc[i] \n",
        "rec_jobs"
      ],
      "metadata": {
        "colab": {
          "base_uri": "https://localhost:8080/",
          "height": 363
        },
        "id": "E2BhIj4Wur0Q",
        "outputId": "f9eb1ff7-fb8f-4552-dafd-b27c045a3210"
      },
      "execution_count": null,
      "outputs": [
        {
          "output_type": "execute_result",
          "data": {
            "text/plain": [
              "                                              Position               Company  \\\n",
              "1900                              Full Stack Developer  Indian Angel network   \n",
              "1427                               Front-end Developer                Toolyt   \n",
              "710                   Staff Engineer, Data Engineering       Western Digital   \n",
              "1525                           Full stack UI developer              Netskope   \n",
              "1593                               Front-End Developer               Greytip   \n",
              "1800                         Front End Developer - F&R             Refinitiv   \n",
              "1780  Software Engineering - Senior Java Web Developer           J.P. Morgan   \n",
              "1781                            UI Developer (Angular)             Bengaluru   \n",
              "500           .Net/Sitecore Senior Solutions Architect            Rightpoint   \n",
              "1100                                     Data Engineer             Noodle.ai   \n",
              "\n",
              "            Location  \n",
              "1900       Bengaluru  \n",
              "1427       Bengaluru  \n",
              "710    â€“ Bengaluru  \n",
              "1525       Bengaluru  \n",
              "1593       Bengaluru  \n",
              "1800       Bengaluru  \n",
              "1780       Bengaluru  \n",
              "1781       Bengaluru  \n",
              "500         – Jaipur  \n",
              "1100       Bengaluru  "
            ],
            "text/html": [
              "\n",
              "  <div id=\"df-cb4490a0-78d5-4ade-8aff-f41619e05f18\">\n",
              "    <div class=\"colab-df-container\">\n",
              "      <div>\n",
              "<style scoped>\n",
              "    .dataframe tbody tr th:only-of-type {\n",
              "        vertical-align: middle;\n",
              "    }\n",
              "\n",
              "    .dataframe tbody tr th {\n",
              "        vertical-align: top;\n",
              "    }\n",
              "\n",
              "    .dataframe thead th {\n",
              "        text-align: right;\n",
              "    }\n",
              "</style>\n",
              "<table border=\"1\" class=\"dataframe\">\n",
              "  <thead>\n",
              "    <tr style=\"text-align: right;\">\n",
              "      <th></th>\n",
              "      <th>Position</th>\n",
              "      <th>Company</th>\n",
              "      <th>Location</th>\n",
              "    </tr>\n",
              "  </thead>\n",
              "  <tbody>\n",
              "    <tr>\n",
              "      <th>1900</th>\n",
              "      <td>Full Stack Developer</td>\n",
              "      <td>Indian Angel network</td>\n",
              "      <td>Bengaluru</td>\n",
              "    </tr>\n",
              "    <tr>\n",
              "      <th>1427</th>\n",
              "      <td>Front-end Developer</td>\n",
              "      <td>Toolyt</td>\n",
              "      <td>Bengaluru</td>\n",
              "    </tr>\n",
              "    <tr>\n",
              "      <th>710</th>\n",
              "      <td>Staff Engineer, Data Engineering</td>\n",
              "      <td>Western Digital</td>\n",
              "      <td>â€“ Bengaluru</td>\n",
              "    </tr>\n",
              "    <tr>\n",
              "      <th>1525</th>\n",
              "      <td>Full stack UI developer</td>\n",
              "      <td>Netskope</td>\n",
              "      <td>Bengaluru</td>\n",
              "    </tr>\n",
              "    <tr>\n",
              "      <th>1593</th>\n",
              "      <td>Front-End Developer</td>\n",
              "      <td>Greytip</td>\n",
              "      <td>Bengaluru</td>\n",
              "    </tr>\n",
              "    <tr>\n",
              "      <th>1800</th>\n",
              "      <td>Front End Developer - F&amp;R</td>\n",
              "      <td>Refinitiv</td>\n",
              "      <td>Bengaluru</td>\n",
              "    </tr>\n",
              "    <tr>\n",
              "      <th>1780</th>\n",
              "      <td>Software Engineering - Senior Java Web Developer</td>\n",
              "      <td>J.P. Morgan</td>\n",
              "      <td>Bengaluru</td>\n",
              "    </tr>\n",
              "    <tr>\n",
              "      <th>1781</th>\n",
              "      <td>UI Developer (Angular)</td>\n",
              "      <td>Bengaluru</td>\n",
              "      <td>Bengaluru</td>\n",
              "    </tr>\n",
              "    <tr>\n",
              "      <th>500</th>\n",
              "      <td>.Net/Sitecore Senior Solutions Architect</td>\n",
              "      <td>Rightpoint</td>\n",
              "      <td>– Jaipur</td>\n",
              "    </tr>\n",
              "    <tr>\n",
              "      <th>1100</th>\n",
              "      <td>Data Engineer</td>\n",
              "      <td>Noodle.ai</td>\n",
              "      <td>Bengaluru</td>\n",
              "    </tr>\n",
              "  </tbody>\n",
              "</table>\n",
              "</div>\n",
              "      <button class=\"colab-df-convert\" onclick=\"convertToInteractive('df-cb4490a0-78d5-4ade-8aff-f41619e05f18')\"\n",
              "              title=\"Convert this dataframe to an interactive table.\"\n",
              "              style=\"display:none;\">\n",
              "        \n",
              "  <svg xmlns=\"http://www.w3.org/2000/svg\" height=\"24px\"viewBox=\"0 0 24 24\"\n",
              "       width=\"24px\">\n",
              "    <path d=\"M0 0h24v24H0V0z\" fill=\"none\"/>\n",
              "    <path d=\"M18.56 5.44l.94 2.06.94-2.06 2.06-.94-2.06-.94-.94-2.06-.94 2.06-2.06.94zm-11 1L8.5 8.5l.94-2.06 2.06-.94-2.06-.94L8.5 2.5l-.94 2.06-2.06.94zm10 10l.94 2.06.94-2.06 2.06-.94-2.06-.94-.94-2.06-.94 2.06-2.06.94z\"/><path d=\"M17.41 7.96l-1.37-1.37c-.4-.4-.92-.59-1.43-.59-.52 0-1.04.2-1.43.59L10.3 9.45l-7.72 7.72c-.78.78-.78 2.05 0 2.83L4 21.41c.39.39.9.59 1.41.59.51 0 1.02-.2 1.41-.59l7.78-7.78 2.81-2.81c.8-.78.8-2.07 0-2.86zM5.41 20L4 18.59l7.72-7.72 1.47 1.35L5.41 20z\"/>\n",
              "  </svg>\n",
              "      </button>\n",
              "      \n",
              "  <style>\n",
              "    .colab-df-container {\n",
              "      display:flex;\n",
              "      flex-wrap:wrap;\n",
              "      gap: 12px;\n",
              "    }\n",
              "\n",
              "    .colab-df-convert {\n",
              "      background-color: #E8F0FE;\n",
              "      border: none;\n",
              "      border-radius: 50%;\n",
              "      cursor: pointer;\n",
              "      display: none;\n",
              "      fill: #1967D2;\n",
              "      height: 32px;\n",
              "      padding: 0 0 0 0;\n",
              "      width: 32px;\n",
              "    }\n",
              "\n",
              "    .colab-df-convert:hover {\n",
              "      background-color: #E2EBFA;\n",
              "      box-shadow: 0px 1px 2px rgba(60, 64, 67, 0.3), 0px 1px 3px 1px rgba(60, 64, 67, 0.15);\n",
              "      fill: #174EA6;\n",
              "    }\n",
              "\n",
              "    [theme=dark] .colab-df-convert {\n",
              "      background-color: #3B4455;\n",
              "      fill: #D2E3FC;\n",
              "    }\n",
              "\n",
              "    [theme=dark] .colab-df-convert:hover {\n",
              "      background-color: #434B5C;\n",
              "      box-shadow: 0px 1px 3px 1px rgba(0, 0, 0, 0.15);\n",
              "      filter: drop-shadow(0px 1px 2px rgba(0, 0, 0, 0.3));\n",
              "      fill: #FFFFFF;\n",
              "    }\n",
              "  </style>\n",
              "\n",
              "      <script>\n",
              "        const buttonEl =\n",
              "          document.querySelector('#df-cb4490a0-78d5-4ade-8aff-f41619e05f18 button.colab-df-convert');\n",
              "        buttonEl.style.display =\n",
              "          google.colab.kernel.accessAllowed ? 'block' : 'none';\n",
              "\n",
              "        async function convertToInteractive(key) {\n",
              "          const element = document.querySelector('#df-cb4490a0-78d5-4ade-8aff-f41619e05f18');\n",
              "          const dataTable =\n",
              "            await google.colab.kernel.invokeFunction('convertToInteractive',\n",
              "                                                     [key], {});\n",
              "          if (!dataTable) return;\n",
              "\n",
              "          const docLinkHtml = 'Like what you see? Visit the ' +\n",
              "            '<a target=\"_blank\" href=https://colab.research.google.com/notebooks/data_table.ipynb>data table notebook</a>'\n",
              "            + ' to learn more about interactive tables.';\n",
              "          element.innerHTML = '';\n",
              "          dataTable['output_type'] = 'display_data';\n",
              "          await google.colab.output.renderOutput(dataTable, element);\n",
              "          const docLink = document.createElement('div');\n",
              "          docLink.innerHTML = docLinkHtml;\n",
              "          element.appendChild(docLink);\n",
              "        }\n",
              "      </script>\n",
              "    </div>\n",
              "  </div>\n",
              "  "
            ]
          },
          "metadata": {},
          "execution_count": 90
        }
      ]
    },
    {
      "cell_type": "markdown",
      "source": [
        "**Using TF_IDF vectorizer**"
      ],
      "metadata": {
        "id": "gi2UossUHK6n"
      }
    },
    {
      "cell_type": "code",
      "source": [
        "from sklearn.feature_extraction.text import TfidfVectorizer\n",
        "import re"
      ],
      "metadata": {
        "id": "dZXZbVg9Daq5"
      },
      "execution_count": null,
      "outputs": []
    },
    {
      "cell_type": "code",
      "source": [
        "vtest = TfidfVectorizer()\n",
        "vtest = TfidfVectorizer(ngram_range=(1,2))\n",
        "vtest.fit([\"I am a robot who loves to play with people\"])\n",
        "print(\"Length of frequency matrix :\",len(vtest.vocabulary_))\n",
        "count = 1\n",
        "print(\" \")\n",
        "for key, val in vtest.vocabulary_.items():\n",
        "  if count%5:\n",
        "    print(key,\":\", val, end=\" \")\n",
        "  else:\n",
        "    print(key,\":\", val)\n",
        "  count = count+1\n",
        "tf_count = vtest.transform([\"I am a robot\"])\n",
        "print(\" \")\n",
        "print(\"Count Vector for sentence 'I am a robot' :\")\n",
        "tf_count.toarray()"
      ],
      "metadata": {
        "colab": {
          "base_uri": "https://localhost:8080/"
        },
        "id": "TZMHq9VJ2aw_",
        "outputId": "3135e570-108d-4597-8e48-8364c1cac73e"
      },
      "execution_count": null,
      "outputs": [
        {
          "output_type": "stream",
          "name": "stdout",
          "text": [
            "Length of frequency matrix : 15\n",
            " \n",
            "am : 0 robot : 7 who : 11 loves : 2 to : 9\n",
            "play : 5 with : 13 people : 4 am robot : 1 robot who : 8\n",
            "who loves : 12 loves to : 3 to play : 10 play with : 6 with people : 14\n",
            " \n",
            "Count Vector for sentence 'I am a robot' :\n"
          ]
        },
        {
          "output_type": "execute_result",
          "data": {
            "text/plain": [
              "array([[0.57735027, 0.57735027, 0.        , 0.        , 0.        ,\n",
              "        0.        , 0.        , 0.57735027, 0.        , 0.        ,\n",
              "        0.        , 0.        , 0.        , 0.        , 0.        ]])"
            ]
          },
          "metadata": {},
          "execution_count": 26
        }
      ]
    },
    {
      "cell_type": "code",
      "source": [
        "vectorizer = TfidfVectorizer(min_df=1, ngram_range=(1, 2))\n",
        "vectorizer.fit([jobseeker_skills])\n",
        "print(type(vectorizer.vocabulary_))\n",
        "print(len(vectorizer.vocabulary_))\n",
        "vectorizer.vocabulary_"
      ],
      "metadata": {
        "colab": {
          "base_uri": "https://localhost:8080/"
        },
        "id": "7GZqq06JDZzX",
        "outputId": "1cb18d5e-9cd6-4f63-81f5-e9e52d00fa89"
      },
      "execution_count": null,
      "outputs": [
        {
          "output_type": "stream",
          "name": "stdout",
          "text": [
            "<class 'dict'>\n",
            "29\n"
          ]
        },
        {
          "output_type": "execute_result",
          "data": {
            "text/plain": [
              "{'affiliate': 0,\n",
              " 'visual': 24,\n",
              " 'content': 6,\n",
              " 'html': 8,\n",
              " 'python': 20,\n",
              " 'computer': 4,\n",
              " 'science': 22,\n",
              " 'mobile': 12,\n",
              " 'android': 2,\n",
              " 'website': 26,\n",
              " 'presentation': 18,\n",
              " 'mysql': 14,\n",
              " 'php': 16,\n",
              " 'java': 10,\n",
              " 'xml': 28,\n",
              " 'affiliate visual': 1,\n",
              " 'visual content': 25,\n",
              " 'content html': 7,\n",
              " 'html python': 9,\n",
              " 'python computer': 21,\n",
              " 'computer science': 5,\n",
              " 'science mobile': 23,\n",
              " 'mobile android': 13,\n",
              " 'android website': 3,\n",
              " 'website presentation': 27,\n",
              " 'presentation mysql': 19,\n",
              " 'mysql php': 15,\n",
              " 'php java': 17,\n",
              " 'java xml': 11}"
            ]
          },
          "metadata": {},
          "execution_count": 145
        }
      ]
    },
    {
      "cell_type": "code",
      "source": [
        "tfidf = vectorizer.transform(all_jobs_df['test'])\n",
        "print(type(tfidf))\n",
        "tfidf_arr = tfidf.toarray()\n",
        "print(tfidf_arr.shape)\n",
        "\n",
        "print(vectorizer.get_feature_names_out())\n",
        "print(tfidf.indices)\n",
        "print(tfidf_arr)"
      ],
      "metadata": {
        "colab": {
          "base_uri": "https://localhost:8080/"
        },
        "id": "tZ2RJZkWEjW8",
        "outputId": "c30ee13e-1fc0-4e11-b48e-3285a2ba1365"
      },
      "execution_count": null,
      "outputs": [
        {
          "output_type": "stream",
          "name": "stdout",
          "text": [
            "<class 'scipy.sparse.csr.csr_matrix'>\n",
            "(1923, 29)\n",
            "['affiliate' 'affiliate visual' 'android' 'android website' 'computer'\n",
            " 'computer science' 'content' 'content html' 'html' 'html python' 'java'\n",
            " 'java xml' 'mobile' 'mobile android' 'mysql' 'mysql php' 'php' 'php java'\n",
            " 'presentation' 'presentation mysql' 'python' 'python computer' 'science'\n",
            " 'science mobile' 'visual' 'visual content' 'website'\n",
            " 'website presentation' 'xml']\n",
            "[22  5  4 ... 10  6 10]\n",
            "[[0.        0.        0.        ... 0.        0.        0.       ]\n",
            " [0.        0.        0.        ... 0.        0.        0.       ]\n",
            " [0.        0.        0.        ... 0.        0.        0.       ]\n",
            " ...\n",
            " [0.        0.        0.        ... 0.        0.        0.       ]\n",
            " [0.        0.        0.        ... 0.2236068 0.        0.2236068]\n",
            " [0.        0.        0.        ... 0.        0.        0.       ]]\n"
          ]
        }
      ]
    },
    {
      "cell_type": "code",
      "source": [
        "nbrs = NearestNeighbors(n_neighbors=10, n_jobs=-1).fit(tfidf)"
      ],
      "metadata": {
        "id": "9pKxPSSgHKEj"
      },
      "execution_count": null,
      "outputs": []
    },
    {
      "cell_type": "code",
      "source": [
        "def getNearestN(query):\n",
        "  q_tf_count = vectorizer.transform(query)\n",
        "  distances, indices = nbrs.kneighbors(q_tf_count)\n",
        "  return distances, indices"
      ],
      "metadata": {
        "id": "OWGy3M5zHfhb"
      },
      "execution_count": null,
      "outputs": []
    },
    {
      "cell_type": "code",
      "source": [
        "jobseeker_skills"
      ],
      "metadata": {
        "colab": {
          "base_uri": "https://localhost:8080/",
          "height": 36
        },
        "id": "Z52jHBuqH83s",
        "outputId": "966d215e-65e9-42bd-b130-94bc5b8e9bee"
      },
      "execution_count": null,
      "outputs": [
        {
          "output_type": "execute_result",
          "data": {
            "text/plain": [
              "'affiliate visual content html python computer science mobile android website presentation mysql php c++ java xml'"
            ],
            "application/vnd.google.colaboratory.intrinsic+json": {
              "type": "string"
            }
          },
          "metadata": {},
          "execution_count": 156
        }
      ]
    },
    {
      "cell_type": "code",
      "source": [
        "distances, indices = getNearestN([jobseeker_skills])"
      ],
      "metadata": {
        "id": "8qsHOuYTHjMZ"
      },
      "execution_count": null,
      "outputs": []
    },
    {
      "cell_type": "code",
      "source": [
        "print(\"Distances            \", \"Indices\")\n",
        "for i in range(1,len(distances[0])):\n",
        "  print(distances[0][i],\"    \", indices[0][i])"
      ],
      "metadata": {
        "colab": {
          "base_uri": "https://localhost:8080/"
        },
        "id": "ygaIn5C5IkAi",
        "outputId": "d273ae63-c091-4683-8d2b-dcea3c8d623d"
      },
      "execution_count": null,
      "outputs": [
        {
          "output_type": "stream",
          "name": "stdout",
          "text": [
            "Distances             Indices\n",
            "0.9744478113897219      710\n",
            "0.9744478113897219      1426\n",
            "0.9744478113897219      1524\n",
            "0.9960890925411551      1780\n",
            "0.9960890925411551      1779\n",
            "0.9999999999999998      686\n",
            "0.9999999999999998      667\n",
            "0.9999999999999998      655\n",
            "0.9999999999999998      703\n"
          ]
        }
      ]
    },
    {
      "cell_type": "code",
      "source": [
        "type(indices)\n",
        "for i in indices:\n",
        "    rec_jobs = all_jobs_df[['Position', 'Company','Location']].iloc[i] \n",
        "rec_jobs"
      ],
      "metadata": {
        "colab": {
          "base_uri": "https://localhost:8080/",
          "height": 363
        },
        "id": "gXiGBR7eIu1W",
        "outputId": "f5d61622-ac09-4065-98c0-3cfed1848274"
      },
      "execution_count": null,
      "outputs": [
        {
          "output_type": "execute_result",
          "data": {
            "text/plain": [
              "                                               Position               Company  \\\n",
              "1900                               Full Stack Developer  Indian Angel network   \n",
              "710                    Staff Engineer, Data Engineering       Western Digital   \n",
              "1427                                Front-end Developer                Toolyt   \n",
              "1525                            Full stack UI developer              Netskope   \n",
              "1781                             UI Developer (Angular)             Bengaluru   \n",
              "1780   Software Engineering - Senior Java Web Developer           J.P. Morgan   \n",
              "686   Lead - Global Advanced Analytics Data Scientist-2                Diageo   \n",
              "667                                        Data Analyst             SmartCoin   \n",
              "655   Data Scientist (3-8 Years) for a Leading Softw...                 Zyoin   \n",
              "703                                   Big Data Engineer                 Ganit   \n",
              "\n",
              "            Location  \n",
              "1900       Bengaluru  \n",
              "710    â€“ Bengaluru  \n",
              "1427       Bengaluru  \n",
              "1525       Bengaluru  \n",
              "1781       Bengaluru  \n",
              "1780       Bengaluru  \n",
              "686    â€“ Bengaluru  \n",
              "667    â€“ Bengaluru  \n",
              "655    â€“ Bengaluru  \n",
              "703    â€“ Bengaluru  "
            ],
            "text/html": [
              "\n",
              "  <div id=\"df-f37ec557-ba93-4318-b6e0-c58d45ed5ccd\">\n",
              "    <div class=\"colab-df-container\">\n",
              "      <div>\n",
              "<style scoped>\n",
              "    .dataframe tbody tr th:only-of-type {\n",
              "        vertical-align: middle;\n",
              "    }\n",
              "\n",
              "    .dataframe tbody tr th {\n",
              "        vertical-align: top;\n",
              "    }\n",
              "\n",
              "    .dataframe thead th {\n",
              "        text-align: right;\n",
              "    }\n",
              "</style>\n",
              "<table border=\"1\" class=\"dataframe\">\n",
              "  <thead>\n",
              "    <tr style=\"text-align: right;\">\n",
              "      <th></th>\n",
              "      <th>Position</th>\n",
              "      <th>Company</th>\n",
              "      <th>Location</th>\n",
              "    </tr>\n",
              "  </thead>\n",
              "  <tbody>\n",
              "    <tr>\n",
              "      <th>1900</th>\n",
              "      <td>Full Stack Developer</td>\n",
              "      <td>Indian Angel network</td>\n",
              "      <td>Bengaluru</td>\n",
              "    </tr>\n",
              "    <tr>\n",
              "      <th>710</th>\n",
              "      <td>Staff Engineer, Data Engineering</td>\n",
              "      <td>Western Digital</td>\n",
              "      <td>â€“ Bengaluru</td>\n",
              "    </tr>\n",
              "    <tr>\n",
              "      <th>1427</th>\n",
              "      <td>Front-end Developer</td>\n",
              "      <td>Toolyt</td>\n",
              "      <td>Bengaluru</td>\n",
              "    </tr>\n",
              "    <tr>\n",
              "      <th>1525</th>\n",
              "      <td>Full stack UI developer</td>\n",
              "      <td>Netskope</td>\n",
              "      <td>Bengaluru</td>\n",
              "    </tr>\n",
              "    <tr>\n",
              "      <th>1781</th>\n",
              "      <td>UI Developer (Angular)</td>\n",
              "      <td>Bengaluru</td>\n",
              "      <td>Bengaluru</td>\n",
              "    </tr>\n",
              "    <tr>\n",
              "      <th>1780</th>\n",
              "      <td>Software Engineering - Senior Java Web Developer</td>\n",
              "      <td>J.P. Morgan</td>\n",
              "      <td>Bengaluru</td>\n",
              "    </tr>\n",
              "    <tr>\n",
              "      <th>686</th>\n",
              "      <td>Lead - Global Advanced Analytics Data Scientist-2</td>\n",
              "      <td>Diageo</td>\n",
              "      <td>â€“ Bengaluru</td>\n",
              "    </tr>\n",
              "    <tr>\n",
              "      <th>667</th>\n",
              "      <td>Data Analyst</td>\n",
              "      <td>SmartCoin</td>\n",
              "      <td>â€“ Bengaluru</td>\n",
              "    </tr>\n",
              "    <tr>\n",
              "      <th>655</th>\n",
              "      <td>Data Scientist (3-8 Years) for a Leading Softw...</td>\n",
              "      <td>Zyoin</td>\n",
              "      <td>â€“ Bengaluru</td>\n",
              "    </tr>\n",
              "    <tr>\n",
              "      <th>703</th>\n",
              "      <td>Big Data Engineer</td>\n",
              "      <td>Ganit</td>\n",
              "      <td>â€“ Bengaluru</td>\n",
              "    </tr>\n",
              "  </tbody>\n",
              "</table>\n",
              "</div>\n",
              "      <button class=\"colab-df-convert\" onclick=\"convertToInteractive('df-f37ec557-ba93-4318-b6e0-c58d45ed5ccd')\"\n",
              "              title=\"Convert this dataframe to an interactive table.\"\n",
              "              style=\"display:none;\">\n",
              "        \n",
              "  <svg xmlns=\"http://www.w3.org/2000/svg\" height=\"24px\"viewBox=\"0 0 24 24\"\n",
              "       width=\"24px\">\n",
              "    <path d=\"M0 0h24v24H0V0z\" fill=\"none\"/>\n",
              "    <path d=\"M18.56 5.44l.94 2.06.94-2.06 2.06-.94-2.06-.94-.94-2.06-.94 2.06-2.06.94zm-11 1L8.5 8.5l.94-2.06 2.06-.94-2.06-.94L8.5 2.5l-.94 2.06-2.06.94zm10 10l.94 2.06.94-2.06 2.06-.94-2.06-.94-.94-2.06-.94 2.06-2.06.94z\"/><path d=\"M17.41 7.96l-1.37-1.37c-.4-.4-.92-.59-1.43-.59-.52 0-1.04.2-1.43.59L10.3 9.45l-7.72 7.72c-.78.78-.78 2.05 0 2.83L4 21.41c.39.39.9.59 1.41.59.51 0 1.02-.2 1.41-.59l7.78-7.78 2.81-2.81c.8-.78.8-2.07 0-2.86zM5.41 20L4 18.59l7.72-7.72 1.47 1.35L5.41 20z\"/>\n",
              "  </svg>\n",
              "      </button>\n",
              "      \n",
              "  <style>\n",
              "    .colab-df-container {\n",
              "      display:flex;\n",
              "      flex-wrap:wrap;\n",
              "      gap: 12px;\n",
              "    }\n",
              "\n",
              "    .colab-df-convert {\n",
              "      background-color: #E8F0FE;\n",
              "      border: none;\n",
              "      border-radius: 50%;\n",
              "      cursor: pointer;\n",
              "      display: none;\n",
              "      fill: #1967D2;\n",
              "      height: 32px;\n",
              "      padding: 0 0 0 0;\n",
              "      width: 32px;\n",
              "    }\n",
              "\n",
              "    .colab-df-convert:hover {\n",
              "      background-color: #E2EBFA;\n",
              "      box-shadow: 0px 1px 2px rgba(60, 64, 67, 0.3), 0px 1px 3px 1px rgba(60, 64, 67, 0.15);\n",
              "      fill: #174EA6;\n",
              "    }\n",
              "\n",
              "    [theme=dark] .colab-df-convert {\n",
              "      background-color: #3B4455;\n",
              "      fill: #D2E3FC;\n",
              "    }\n",
              "\n",
              "    [theme=dark] .colab-df-convert:hover {\n",
              "      background-color: #434B5C;\n",
              "      box-shadow: 0px 1px 3px 1px rgba(0, 0, 0, 0.15);\n",
              "      filter: drop-shadow(0px 1px 2px rgba(0, 0, 0, 0.3));\n",
              "      fill: #FFFFFF;\n",
              "    }\n",
              "  </style>\n",
              "\n",
              "      <script>\n",
              "        const buttonEl =\n",
              "          document.querySelector('#df-f37ec557-ba93-4318-b6e0-c58d45ed5ccd button.colab-df-convert');\n",
              "        buttonEl.style.display =\n",
              "          google.colab.kernel.accessAllowed ? 'block' : 'none';\n",
              "\n",
              "        async function convertToInteractive(key) {\n",
              "          const element = document.querySelector('#df-f37ec557-ba93-4318-b6e0-c58d45ed5ccd');\n",
              "          const dataTable =\n",
              "            await google.colab.kernel.invokeFunction('convertToInteractive',\n",
              "                                                     [key], {});\n",
              "          if (!dataTable) return;\n",
              "\n",
              "          const docLinkHtml = 'Like what you see? Visit the ' +\n",
              "            '<a target=\"_blank\" href=https://colab.research.google.com/notebooks/data_table.ipynb>data table notebook</a>'\n",
              "            + ' to learn more about interactive tables.';\n",
              "          element.innerHTML = '';\n",
              "          dataTable['output_type'] = 'display_data';\n",
              "          await google.colab.output.renderOutput(dataTable, element);\n",
              "          const docLink = document.createElement('div');\n",
              "          docLink.innerHTML = docLinkHtml;\n",
              "          element.appendChild(docLink);\n",
              "        }\n",
              "      </script>\n",
              "    </div>\n",
              "  </div>\n",
              "  "
            ]
          },
          "metadata": {},
          "execution_count": 161
        }
      ]
    },
    {
      "cell_type": "markdown",
      "source": [
        "# JOB RECRUITOR\n"
      ],
      "metadata": {
        "id": "jRzhE_M_2Zli"
      }
    },
    {
      "cell_type": "markdown",
      "source": [
        "UPLOAD JOB DETAILS"
      ],
      "metadata": {
        "id": "Z_bS0JhD4xxT"
      }
    },
    {
      "cell_type": "code",
      "source": [
        "job_details = {}\n",
        "\n",
        "job_details['company_name'] = input(\"Enter the company name: \")\n",
        "job_details['job_title']  = input(\"Enter the job title: \")\n",
        "job_details['job_des'] = input(\"Enter the job description: \")\n",
        "job_details['job_location'] = input(\"Enter the job location: \")\n",
        "job_details['exp_req']= input(\"Enter the experience required from candidate: \")\n",
        "job_details['edu_req']= input(\"Enter the educational qualifications required: \")\n",
        "job_details['cert_req']= input(\"Enter the exra certifications required (optional): \")"
      ],
      "metadata": {
        "colab": {
          "base_uri": "https://localhost:8080/",
          "height": 380
        },
        "id": "BB15FCJ32gSO",
        "outputId": "c3789a56-3a50-404c-b166-9d36f80cb98e"
      },
      "execution_count": null,
      "outputs": [
        {
          "output_type": "error",
          "ename": "KeyboardInterrupt",
          "evalue": "ignored",
          "traceback": [
            "\u001b[0;31m---------------------------------------------------------------------------\u001b[0m",
            "\u001b[0;31mKeyboardInterrupt\u001b[0m                         Traceback (most recent call last)",
            "\u001b[0;32m<ipython-input-110-8a3b1697328f>\u001b[0m in \u001b[0;36m<module>\u001b[0;34m\u001b[0m\n\u001b[1;32m      1\u001b[0m \u001b[0mjob_details\u001b[0m \u001b[0;34m=\u001b[0m \u001b[0;34m{\u001b[0m\u001b[0;34m}\u001b[0m\u001b[0;34m\u001b[0m\u001b[0;34m\u001b[0m\u001b[0m\n\u001b[1;32m      2\u001b[0m \u001b[0;34m\u001b[0m\u001b[0m\n\u001b[0;32m----> 3\u001b[0;31m \u001b[0mjob_details\u001b[0m\u001b[0;34m[\u001b[0m\u001b[0;34m'company_name'\u001b[0m\u001b[0;34m]\u001b[0m \u001b[0;34m=\u001b[0m \u001b[0minput\u001b[0m\u001b[0;34m(\u001b[0m\u001b[0;34m\"Enter the company name: \"\u001b[0m\u001b[0;34m)\u001b[0m\u001b[0;34m\u001b[0m\u001b[0;34m\u001b[0m\u001b[0m\n\u001b[0m\u001b[1;32m      4\u001b[0m \u001b[0mjob_details\u001b[0m\u001b[0;34m[\u001b[0m\u001b[0;34m'job_title'\u001b[0m\u001b[0;34m]\u001b[0m  \u001b[0;34m=\u001b[0m \u001b[0minput\u001b[0m\u001b[0;34m(\u001b[0m\u001b[0;34m\"Enter the job title: \"\u001b[0m\u001b[0;34m)\u001b[0m\u001b[0;34m\u001b[0m\u001b[0;34m\u001b[0m\u001b[0m\n\u001b[1;32m      5\u001b[0m \u001b[0mjob_details\u001b[0m\u001b[0;34m[\u001b[0m\u001b[0;34m'job_des'\u001b[0m\u001b[0;34m]\u001b[0m \u001b[0;34m=\u001b[0m \u001b[0minput\u001b[0m\u001b[0;34m(\u001b[0m\u001b[0;34m\"Enter the job description: \"\u001b[0m\u001b[0;34m)\u001b[0m\u001b[0;34m\u001b[0m\u001b[0;34m\u001b[0m\u001b[0m\n",
            "\u001b[0;32m/usr/local/lib/python3.8/dist-packages/ipykernel/kernelbase.py\u001b[0m in \u001b[0;36mraw_input\u001b[0;34m(self, prompt)\u001b[0m\n\u001b[1;32m    858\u001b[0m                 \u001b[0;34m\"raw_input was called, but this frontend does not support input requests.\"\u001b[0m\u001b[0;34m\u001b[0m\u001b[0;34m\u001b[0m\u001b[0m\n\u001b[1;32m    859\u001b[0m             )\n\u001b[0;32m--> 860\u001b[0;31m         return self._input_request(str(prompt),\n\u001b[0m\u001b[1;32m    861\u001b[0m             \u001b[0mself\u001b[0m\u001b[0;34m.\u001b[0m\u001b[0m_parent_ident\u001b[0m\u001b[0;34m,\u001b[0m\u001b[0;34m\u001b[0m\u001b[0;34m\u001b[0m\u001b[0m\n\u001b[1;32m    862\u001b[0m             \u001b[0mself\u001b[0m\u001b[0;34m.\u001b[0m\u001b[0m_parent_header\u001b[0m\u001b[0;34m,\u001b[0m\u001b[0;34m\u001b[0m\u001b[0;34m\u001b[0m\u001b[0m\n",
            "\u001b[0;32m/usr/local/lib/python3.8/dist-packages/ipykernel/kernelbase.py\u001b[0m in \u001b[0;36m_input_request\u001b[0;34m(self, prompt, ident, parent, password)\u001b[0m\n\u001b[1;32m    902\u001b[0m             \u001b[0;32mexcept\u001b[0m \u001b[0mKeyboardInterrupt\u001b[0m\u001b[0;34m:\u001b[0m\u001b[0;34m\u001b[0m\u001b[0;34m\u001b[0m\u001b[0m\n\u001b[1;32m    903\u001b[0m                 \u001b[0;31m# re-raise KeyboardInterrupt, to truncate traceback\u001b[0m\u001b[0;34m\u001b[0m\u001b[0;34m\u001b[0m\u001b[0;34m\u001b[0m\u001b[0m\n\u001b[0;32m--> 904\u001b[0;31m                 \u001b[0;32mraise\u001b[0m \u001b[0mKeyboardInterrupt\u001b[0m\u001b[0;34m(\u001b[0m\u001b[0;34m\"Interrupted by user\"\u001b[0m\u001b[0;34m)\u001b[0m \u001b[0;32mfrom\u001b[0m \u001b[0;32mNone\u001b[0m\u001b[0;34m\u001b[0m\u001b[0;34m\u001b[0m\u001b[0m\n\u001b[0m\u001b[1;32m    905\u001b[0m             \u001b[0;32mexcept\u001b[0m \u001b[0mException\u001b[0m \u001b[0;32mas\u001b[0m \u001b[0me\u001b[0m\u001b[0;34m:\u001b[0m\u001b[0;34m\u001b[0m\u001b[0;34m\u001b[0m\u001b[0m\n\u001b[1;32m    906\u001b[0m                 \u001b[0mself\u001b[0m\u001b[0;34m.\u001b[0m\u001b[0mlog\u001b[0m\u001b[0;34m.\u001b[0m\u001b[0mwarning\u001b[0m\u001b[0;34m(\u001b[0m\u001b[0;34m\"Invalid Message:\"\u001b[0m\u001b[0;34m,\u001b[0m \u001b[0mexc_info\u001b[0m\u001b[0;34m=\u001b[0m\u001b[0;32mTrue\u001b[0m\u001b[0;34m)\u001b[0m\u001b[0;34m\u001b[0m\u001b[0;34m\u001b[0m\u001b[0m\n",
            "\u001b[0;31mKeyboardInterrupt\u001b[0m: Interrupted by user"
          ]
        }
      ]
    },
    {
      "cell_type": "markdown",
      "source": [
        "APPEND JOB DETAILS"
      ],
      "metadata": {
        "id": "yJqdiVQS-e9f"
      }
    },
    {
      "cell_type": "code",
      "source": [
        "from csv import DictWriter\n",
        " \n",
        "field_names = job_details.keys()\n",
        " \n",
        "with open('/content/drive/MyDrive/AI_project/job_sample/job_dataset.csv', 'a') as f_object:\n",
        "  # TO ADD COLUMNS NAMES\n",
        "    # dictwriter_object = DictWriter(f_object, fieldnames=field_names)\n",
        "    # dictwriter_object.writerow(d1)\n",
        "    \n",
        "    # Pass the file object and a list of column names to DictWriter()\n",
        "    # You will get a object of DictWriter\n",
        "    dictwriter_object = DictWriter(f_object, fieldnames=field_names)\n",
        " \n",
        "    # Pass the dictionary as an argument to the Writerow()\n",
        "    dictwriter_object.writerow(job_details)\n",
        " \n",
        "    # Close the file object\n",
        "    f_object.close()"
      ],
      "metadata": {
        "id": "N1m-c8G845gk"
      },
      "execution_count": null,
      "outputs": []
    },
    {
      "cell_type": "code",
      "source": [
        "# listd1 = []\n",
        "# for i in job_details.keys():\n",
        "#   listd1.append(i)\n",
        "#   # print(i+\",\", end='')\n",
        "\n",
        "# listd1\n",
        "\n",
        "# d1 ={}\n",
        "# counter =0\n",
        "# for key, val in job_details.items():\n",
        "#     print(key,\" : \",val)\n",
        "#     d1.update( {key : listd1[counter]} )\n",
        "#     counter = counter+1\n",
        "\n",
        "# d1"
      ],
      "metadata": {
        "id": "wHWMNf37D76-"
      },
      "execution_count": null,
      "outputs": []
    },
    {
      "cell_type": "code",
      "source": [
        "jobs =pd.read_csv('/content/drive/MyDrive/Colab/AI_project/job_sample/jobs_dataset.csv')\n",
        "jobs.tail()"
      ],
      "metadata": {
        "id": "bFvAfuCI3w6y"
      },
      "execution_count": null,
      "outputs": []
    },
    {
      "cell_type": "markdown",
      "source": [
        "Skill extraction from job description"
      ],
      "metadata": {
        "id": "J-5z1FNy_1aK"
      }
    },
    {
      "cell_type": "code",
      "source": [
        "resumes =pd.read_csv('/content/drive/MyDrive/Colab/AI_project/resumes/resume_dataset.csv') \n",
        "resumes.tail()"
      ],
      "metadata": {
        "colab": {
          "base_uri": "https://localhost:8080/",
          "height": 513
        },
        "outputId": "efd3ff42-49d6-4f46-fa02-5c5feb2a5a5f",
        "id": "_KHuxDo8_1aK"
      },
      "execution_count": null,
      "outputs": [
        {
          "output_type": "execute_result",
          "data": {
            "text/plain": [
              "       name                            email mobile_number  \\\n",
              "17  Lavanya  lavanya.adhinarayanan@gmail.com     988403855   \n",
              "18      NaN                              NaN           NaN   \n",
              "19    Rohan               rohan230@gmail.com      011-2014   \n",
              "20    Aneet           aneetatomy23@gmail.com    8129945395   \n",
              "21   Himani              himaniftb@gmail.com    9182371544   \n",
              "\n",
              "                                               skills  \\\n",
              "17  ['Sports', 'Engineering', 'Scrum', 'Payments',...   \n",
              "18                                                NaN   \n",
              "19  ['Ai', 'Content', 'Mysql', 'C', 'Oracle', 'Min...   \n",
              "20  ['Engineering', 'Windows', 'Java', 'Social med...   \n",
              "21  ['Policies', 'Engagement', 'Agile', 'Engineeri...   \n",
              "\n",
              "                                college_name  \\\n",
              "17  Dayal Singh College, University of Delhi   \n",
              "18                                       NaN   \n",
              "19                                       NaN   \n",
              "20                           NSIT, New Delhi   \n",
              "21                                       NaN   \n",
              "\n",
              "                                 degree          designation  \\\n",
              "17                           B.Sc. Hons                  NaN   \n",
              "18                                  NaN                  NaN   \n",
              "19                       ['BCA', 'MCA']                  NaN   \n",
              "20            B.Tech (Computer Science)                  NaN   \n",
              "21  ['B.Tech (Bachelor of Technology)']  ['System Engineer']   \n",
              "\n",
              "                                           experience company_names  \\\n",
              "17  ['▪', '▪ Worked with Insoft.com Private Ltd, C...           NaN   \n",
              "18                                                NaN           NaN   \n",
              "19  ['ESAF CO-OPERATIVE', ':IT Assistant :  2019 –...           NaN   \n",
              "20  ['PageMe Consultancy [Digital Marketing Analys...           NaN   \n",
              "21  ['System Engineer', 'Infosys', 'Apr 2021 - Pre...   ['Infosys']   \n",
              "\n",
              "    no_of_pages  total_experience  \n",
              "17          9.0              0.00  \n",
              "18          NaN               NaN  \n",
              "19          3.0              0.00  \n",
              "20          2.0              0.25  \n",
              "21          2.0              1.92  "
            ],
            "text/html": [
              "\n",
              "  <div id=\"df-745eebc2-03f4-4845-b4e0-30dd629cd5e2\">\n",
              "    <div class=\"colab-df-container\">\n",
              "      <div>\n",
              "<style scoped>\n",
              "    .dataframe tbody tr th:only-of-type {\n",
              "        vertical-align: middle;\n",
              "    }\n",
              "\n",
              "    .dataframe tbody tr th {\n",
              "        vertical-align: top;\n",
              "    }\n",
              "\n",
              "    .dataframe thead th {\n",
              "        text-align: right;\n",
              "    }\n",
              "</style>\n",
              "<table border=\"1\" class=\"dataframe\">\n",
              "  <thead>\n",
              "    <tr style=\"text-align: right;\">\n",
              "      <th></th>\n",
              "      <th>name</th>\n",
              "      <th>email</th>\n",
              "      <th>mobile_number</th>\n",
              "      <th>skills</th>\n",
              "      <th>college_name</th>\n",
              "      <th>degree</th>\n",
              "      <th>designation</th>\n",
              "      <th>experience</th>\n",
              "      <th>company_names</th>\n",
              "      <th>no_of_pages</th>\n",
              "      <th>total_experience</th>\n",
              "    </tr>\n",
              "  </thead>\n",
              "  <tbody>\n",
              "    <tr>\n",
              "      <th>17</th>\n",
              "      <td>Lavanya</td>\n",
              "      <td>lavanya.adhinarayanan@gmail.com</td>\n",
              "      <td>988403855</td>\n",
              "      <td>['Sports', 'Engineering', 'Scrum', 'Payments',...</td>\n",
              "      <td>Dayal Singh College, University of Delhi</td>\n",
              "      <td>B.Sc. Hons</td>\n",
              "      <td>NaN</td>\n",
              "      <td>['▪', '▪ Worked with Insoft.com Private Ltd, C...</td>\n",
              "      <td>NaN</td>\n",
              "      <td>9.0</td>\n",
              "      <td>0.00</td>\n",
              "    </tr>\n",
              "    <tr>\n",
              "      <th>18</th>\n",
              "      <td>NaN</td>\n",
              "      <td>NaN</td>\n",
              "      <td>NaN</td>\n",
              "      <td>NaN</td>\n",
              "      <td>NaN</td>\n",
              "      <td>NaN</td>\n",
              "      <td>NaN</td>\n",
              "      <td>NaN</td>\n",
              "      <td>NaN</td>\n",
              "      <td>NaN</td>\n",
              "      <td>NaN</td>\n",
              "    </tr>\n",
              "    <tr>\n",
              "      <th>19</th>\n",
              "      <td>Rohan</td>\n",
              "      <td>rohan230@gmail.com</td>\n",
              "      <td>011-2014</td>\n",
              "      <td>['Ai', 'Content', 'Mysql', 'C', 'Oracle', 'Min...</td>\n",
              "      <td>NaN</td>\n",
              "      <td>['BCA', 'MCA']</td>\n",
              "      <td>NaN</td>\n",
              "      <td>['ESAF CO-OPERATIVE', ':IT Assistant :  2019 –...</td>\n",
              "      <td>NaN</td>\n",
              "      <td>3.0</td>\n",
              "      <td>0.00</td>\n",
              "    </tr>\n",
              "    <tr>\n",
              "      <th>20</th>\n",
              "      <td>Aneet</td>\n",
              "      <td>aneetatomy23@gmail.com</td>\n",
              "      <td>8129945395</td>\n",
              "      <td>['Engineering', 'Windows', 'Java', 'Social med...</td>\n",
              "      <td>NSIT, New Delhi</td>\n",
              "      <td>B.Tech (Computer Science)</td>\n",
              "      <td>NaN</td>\n",
              "      <td>['PageMe Consultancy [Digital Marketing Analys...</td>\n",
              "      <td>NaN</td>\n",
              "      <td>2.0</td>\n",
              "      <td>0.25</td>\n",
              "    </tr>\n",
              "    <tr>\n",
              "      <th>21</th>\n",
              "      <td>Himani</td>\n",
              "      <td>himaniftb@gmail.com</td>\n",
              "      <td>9182371544</td>\n",
              "      <td>['Policies', 'Engagement', 'Agile', 'Engineeri...</td>\n",
              "      <td>NaN</td>\n",
              "      <td>['B.Tech (Bachelor of Technology)']</td>\n",
              "      <td>['System Engineer']</td>\n",
              "      <td>['System Engineer', 'Infosys', 'Apr 2021 - Pre...</td>\n",
              "      <td>['Infosys']</td>\n",
              "      <td>2.0</td>\n",
              "      <td>1.92</td>\n",
              "    </tr>\n",
              "  </tbody>\n",
              "</table>\n",
              "</div>\n",
              "      <button class=\"colab-df-convert\" onclick=\"convertToInteractive('df-745eebc2-03f4-4845-b4e0-30dd629cd5e2')\"\n",
              "              title=\"Convert this dataframe to an interactive table.\"\n",
              "              style=\"display:none;\">\n",
              "        \n",
              "  <svg xmlns=\"http://www.w3.org/2000/svg\" height=\"24px\"viewBox=\"0 0 24 24\"\n",
              "       width=\"24px\">\n",
              "    <path d=\"M0 0h24v24H0V0z\" fill=\"none\"/>\n",
              "    <path d=\"M18.56 5.44l.94 2.06.94-2.06 2.06-.94-2.06-.94-.94-2.06-.94 2.06-2.06.94zm-11 1L8.5 8.5l.94-2.06 2.06-.94-2.06-.94L8.5 2.5l-.94 2.06-2.06.94zm10 10l.94 2.06.94-2.06 2.06-.94-2.06-.94-.94-2.06-.94 2.06-2.06.94z\"/><path d=\"M17.41 7.96l-1.37-1.37c-.4-.4-.92-.59-1.43-.59-.52 0-1.04.2-1.43.59L10.3 9.45l-7.72 7.72c-.78.78-.78 2.05 0 2.83L4 21.41c.39.39.9.59 1.41.59.51 0 1.02-.2 1.41-.59l7.78-7.78 2.81-2.81c.8-.78.8-2.07 0-2.86zM5.41 20L4 18.59l7.72-7.72 1.47 1.35L5.41 20z\"/>\n",
              "  </svg>\n",
              "      </button>\n",
              "      \n",
              "  <style>\n",
              "    .colab-df-container {\n",
              "      display:flex;\n",
              "      flex-wrap:wrap;\n",
              "      gap: 12px;\n",
              "    }\n",
              "\n",
              "    .colab-df-convert {\n",
              "      background-color: #E8F0FE;\n",
              "      border: none;\n",
              "      border-radius: 50%;\n",
              "      cursor: pointer;\n",
              "      display: none;\n",
              "      fill: #1967D2;\n",
              "      height: 32px;\n",
              "      padding: 0 0 0 0;\n",
              "      width: 32px;\n",
              "    }\n",
              "\n",
              "    .colab-df-convert:hover {\n",
              "      background-color: #E2EBFA;\n",
              "      box-shadow: 0px 1px 2px rgba(60, 64, 67, 0.3), 0px 1px 3px 1px rgba(60, 64, 67, 0.15);\n",
              "      fill: #174EA6;\n",
              "    }\n",
              "\n",
              "    [theme=dark] .colab-df-convert {\n",
              "      background-color: #3B4455;\n",
              "      fill: #D2E3FC;\n",
              "    }\n",
              "\n",
              "    [theme=dark] .colab-df-convert:hover {\n",
              "      background-color: #434B5C;\n",
              "      box-shadow: 0px 1px 3px 1px rgba(0, 0, 0, 0.15);\n",
              "      filter: drop-shadow(0px 1px 2px rgba(0, 0, 0, 0.3));\n",
              "      fill: #FFFFFF;\n",
              "    }\n",
              "  </style>\n",
              "\n",
              "      <script>\n",
              "        const buttonEl =\n",
              "          document.querySelector('#df-745eebc2-03f4-4845-b4e0-30dd629cd5e2 button.colab-df-convert');\n",
              "        buttonEl.style.display =\n",
              "          google.colab.kernel.accessAllowed ? 'block' : 'none';\n",
              "\n",
              "        async function convertToInteractive(key) {\n",
              "          const element = document.querySelector('#df-745eebc2-03f4-4845-b4e0-30dd629cd5e2');\n",
              "          const dataTable =\n",
              "            await google.colab.kernel.invokeFunction('convertToInteractive',\n",
              "                                                     [key], {});\n",
              "          if (!dataTable) return;\n",
              "\n",
              "          const docLinkHtml = 'Like what you see? Visit the ' +\n",
              "            '<a target=\"_blank\" href=https://colab.research.google.com/notebooks/data_table.ipynb>data table notebook</a>'\n",
              "            + ' to learn more about interactive tables.';\n",
              "          element.innerHTML = '';\n",
              "          dataTable['output_type'] = 'display_data';\n",
              "          await google.colab.output.renderOutput(dataTable, element);\n",
              "          const docLink = document.createElement('div');\n",
              "          docLink.innerHTML = docLinkHtml;\n",
              "          element.appendChild(docLink);\n",
              "        }\n",
              "      </script>\n",
              "    </div>\n",
              "  </div>\n",
              "  "
            ]
          },
          "metadata": {},
          "execution_count": 145
        }
      ]
    },
    {
      "cell_type": "code",
      "source": [
        "resumes['skills']"
      ],
      "metadata": {
        "colab": {
          "base_uri": "https://localhost:8080/"
        },
        "outputId": "dc45f1dc-c7cb-4bc6-af0a-c9d985c070eb",
        "id": "Zv-xZLC1_1aK"
      },
      "execution_count": null,
      "outputs": [
        {
          "output_type": "execute_result",
          "data": {
            "text/plain": [
              "0     ['Engineering', 'Java', 'Tensorflow', 'Researc...\n",
              "1     ['Digital marketing', 'Excel', 'Photoshop', 'P...\n",
              "2     ['Engineering', 'Java', 'Database', 'Documenta...\n",
              "3     ['Php', 'Computer science', 'Java', 'Website',...\n",
              "4                             ['English', 'Email', 'C']\n",
              "5     ['Data analytics', 'Seaborn', 'Matplotlib', 'P...\n",
              "6     ['Mysql', 'Purchasing', 'Windows', 'Tableau', ...\n",
              "7     ['Design', 'Certification', 'Engineering', 'Pr...\n",
              "8     ['Policies', 'Updates', 'Mysql', 'Engineering'...\n",
              "9     ['Java', 'Email', 'Html', 'Technical', 'Newspa...\n",
              "10    ['Salesforce', 'Finance', 'Mis', 'Seo', 'Websi...\n",
              "11    ['Php', 'Training', 'Mysql', 'Java', 'Engineer...\n",
              "12    ['Mysql', 'Vendors', 'Engineering', 'Distribut...\n",
              "13    ['Excel', 'Mysql', 'Engineering', 'Analytics',...\n",
              "14    ['C', 'Html', 'Technical', 'Javascript', 'Engl...\n",
              "15    ['Mechanical engineering', 'Reporting', 'Resea...\n",
              "16    ['Scripting', 'Java', 'Oracle', 'Windows', 'Sq...\n",
              "17    ['Sports', 'Engineering', 'Scrum', 'Payments',...\n",
              "18                                                  NaN\n",
              "19    ['Ai', 'Content', 'Mysql', 'C', 'Oracle', 'Min...\n",
              "20    ['Engineering', 'Windows', 'Java', 'Social med...\n",
              "21    ['Policies', 'Engagement', 'Agile', 'Engineeri...\n",
              "Name: skills, dtype: object"
            ]
          },
          "metadata": {},
          "execution_count": 146
        }
      ]
    },
    {
      "cell_type": "code",
      "source": [
        "print(resumes.columns)\n",
        "# all_jobs_df.rename(columns = {'Unnamed: 2':'index'}, inplace = True)"
      ],
      "metadata": {
        "colab": {
          "base_uri": "https://localhost:8080/"
        },
        "outputId": "5a6142a8-5d9f-4cbb-8220-92b1fdb408dd",
        "id": "WbUZDGOS_1aK"
      },
      "execution_count": null,
      "outputs": [
        {
          "output_type": "stream",
          "name": "stdout",
          "text": [
            "Index(['name', 'email', 'mobile_number', 'skills', 'college_name', 'degree',\n",
            "       'designation', 'experience', 'company_names', 'no_of_pages',\n",
            "       'total_experience'],\n",
            "      dtype='object')\n"
          ]
        }
      ]
    },
    {
      "cell_type": "code",
      "source": [
        "# jobs_df = jobs.dropna()\n",
        "resumes = resumes[resumes['skills'].notna()]\n",
        "print(\"Size of the data set : \", resumes.shape)"
      ],
      "metadata": {
        "colab": {
          "base_uri": "https://localhost:8080/"
        },
        "outputId": "1b5f61a6-0512-4d71-e251-315485afef12",
        "id": "n4EG57ul_1aK"
      },
      "execution_count": null,
      "outputs": [
        {
          "output_type": "stream",
          "name": "stdout",
          "text": [
            "Size of the data set :  (21, 11)\n"
          ]
        }
      ]
    },
    {
      "cell_type": "code",
      "source": [
        "resumes['test']=resumes['skills'].apply(preprocess)\n",
        "resumes['test']"
      ],
      "metadata": {
        "colab": {
          "base_uri": "https://localhost:8080/"
        },
        "outputId": "268c3171-cd04-4a2f-922f-3a6e14959c8c",
        "id": "2NJuIrIa_1aL"
      },
      "execution_count": null,
      "outputs": [
        {
          "output_type": "execute_result",
          "data": {
            "text/plain": [
              "0     engineering Java Tensorflow research Python Op...\n",
              "1     Digital marketing Excel Photoshop Python marke...\n",
              "2     engineering Java Database documentation softwa...\n",
              "3     Php computer science Java website Presentation...\n",
              "4                                       English email C\n",
              "5     datum analytic Seaborn Matplotlib Pandas Pytho...\n",
              "6     Mysql purchase Windows Tableau Linux schedule ...\n",
              "7     design certification engineering process email...\n",
              "8     policy update Mysql engineering forecast query...\n",
              "9     Java email Html technical newspaper English C+...\n",
              "10    salesforce Finance Mis Seo website design Crm ...\n",
              "11    Php training Mysql Java engineering proposal t...\n",
              "12    Mysql vendor engineering distribution query Cs...\n",
              "13    Excel Mysql engineering analytic sale Python t...\n",
              "14    C Html technical Javascript English administra...\n",
              "15    mechanical engineering report research technic...\n",
              "16    Scripting Java Oracle Windows Sql English Css ...\n",
              "17    sport engineering Scrum payment Erp Windows Xm...\n",
              "19    ai Content Mysql C Oracle mining bank .net Htm...\n",
              "20    engineering Windows Java social medium hotel c...\n",
              "21    policy Engagement Agile engineering plan Scrum...\n",
              "Name: test, dtype: object"
            ]
          },
          "metadata": {},
          "execution_count": 149
        }
      ]
    },
    {
      "cell_type": "code",
      "source": [
        "resumes['test']=resumes['skills'].apply(string_process)\n",
        "resumes['test']"
      ],
      "metadata": {
        "colab": {
          "base_uri": "https://localhost:8080/"
        },
        "outputId": "b29665cd-f709-4a97-e061-d289a7f7fe8c",
        "id": "q-ZxSXoB_1aL"
      },
      "execution_count": null,
      "outputs": [
        {
          "output_type": "execute_result",
          "data": {
            "text/plain": [
              "0      engineering java tensorflow research python o...\n",
              "1      digital marketing excel photoshop python mark...\n",
              "2      engineering java database documentation softw...\n",
              "3      php computer science java website presentatio...\n",
              "4                                      english email c \n",
              "5      data analytics seaborn matplotlib pandas pyth...\n",
              "6      mysql purchasing windows tableau linux schedu...\n",
              "7      design certification engineering process emai...\n",
              "8      policies updates mysql engineering forecastin...\n",
              "9      java email html technical newspaper english c...\n",
              "10     salesforce finance mis seo website design crm...\n",
              "11     php training mysql java engineering proposal ...\n",
              "12     mysql vendors engineering distribution querie...\n",
              "13     excel mysql engineering analytics sales pytho...\n",
              "14     c html technical javascript english administr...\n",
              "15     mechanical engineering reporting research tec...\n",
              "16     scripting java oracle windows sql english css...\n",
              "17     sports engineering scrum payments erp windows...\n",
              "19     ai content mysql c oracle mining banking net ...\n",
              "20     engineering windows java social media hotel c...\n",
              "21     policies engagement agile engineering plan sc...\n",
              "Name: test, dtype: object"
            ]
          },
          "metadata": {},
          "execution_count": 150
        }
      ]
    },
    {
      "cell_type": "markdown",
      "source": [
        "RECOMMENDING TOP 3 JOB-SEEKERS FOR A JOB"
      ],
      "metadata": {
        "id": "AaPfS16-U9fD"
      }
    },
    {
      "cell_type": "code",
      "source": [
        "test_job = jobs.iloc[0]\n",
        "type(test_job)"
      ],
      "metadata": {
        "colab": {
          "base_uri": "https://localhost:8080/"
        },
        "id": "kIjXxRaCW_Bo",
        "outputId": "2d8a4eae-c590-40e3-bf79-e8249c90c7f1"
      },
      "execution_count": null,
      "outputs": [
        {
          "output_type": "execute_result",
          "data": {
            "text/plain": [
              "pandas.core.series.Series"
            ]
          },
          "metadata": {},
          "execution_count": 117
        }
      ]
    },
    {
      "cell_type": "code",
      "source": [
        "test_job"
      ],
      "metadata": {
        "colab": {
          "base_uri": "https://localhost:8080/"
        },
        "id": "5QlJaVtlYUDk",
        "outputId": "032e436e-f235-4aa9-cc1d-9d9d364f3f22"
      },
      "execution_count": null,
      "outputs": [
        {
          "output_type": "execute_result",
          "data": {
            "text/plain": [
              "company_name                        Smart Food Safe Solutions Inc\n",
              "job_title                             Software Testing Internship\n",
              "Unnamed: 2                                                      -\n",
              "job_des         Selected intern's day-to-day responsibilities ...\n",
              "job_location                                            Bengaluru\n",
              "exp_req                                                         0\n",
              "edu_req         students or freshers can apply who: are availa...\n",
              "cert_req                                                        -\n",
              "test             selected interns day to day responsibilities ...\n",
              "Name: 0, dtype: object"
            ]
          },
          "metadata": {},
          "execution_count": 118
        }
      ]
    },
    {
      "cell_type": "code",
      "source": [
        "data_lower = []\n",
        "for s in test_job['job_des']:\n",
        "    data_lower.append(s.lower())\n",
        "\n",
        "test_job_des = \"\"\n",
        "test_job_des = test_job_des.join(data_lower)\n",
        "j=1\n",
        "for i in test_job_des:\n",
        "  if j%40:\n",
        "    print(i, end='')\n",
        "  else:\n",
        "    print(i)\n",
        "  j = j+1"
      ],
      "metadata": {
        "colab": {
          "base_uri": "https://localhost:8080/"
        },
        "outputId": "5dbff1f5-f777-4447-f5ae-266aff1ad716",
        "id": "qKpJF1VE_1aL"
      },
      "execution_count": null,
      "outputs": [
        {
          "output_type": "stream",
          "name": "stdout",
          "text": [
            "selected intern's day-to-day responsibil\n",
            "ities include: 1. reviewing software req\n",
            "uirements and preparing test cases 2. ex\n",
            "ecute test cases (manual or automated) a\n",
            "nd analyze results 3. evaluate product c\n",
            "ode according to specifications 4. repor\n",
            "t bugs and errors to development teams. \n",
            "skills req: basic knowledge of database/\n",
            "sql;knowledge of any scripting language \n",
            "like vbscript, javascript, c#, shell/per\n",
            "l scripting"
          ]
        }
      ]
    },
    {
      "cell_type": "code",
      "source": [
        "v = CountVectorizer()\n",
        "\n",
        "v = CountVectorizer(ngram_range=(1,2))\n",
        "v.fit([test_job_des])\n",
        "print(type(v.vocabulary_))\n",
        "print(len(v.vocabulary_))\n",
        "v.vocabulary_"
      ],
      "metadata": {
        "id": "vaF2MIwY_1aL",
        "colab": {
          "base_uri": "https://localhost:8080/"
        },
        "outputId": "99fa196f-8c25-451a-d023-77409fc75f97"
      },
      "execution_count": null,
      "outputs": [
        {
          "output_type": "stream",
          "name": "stdout",
          "text": [
            "<class 'dict'>\n",
            "95\n"
          ]
        },
        {
          "output_type": "execute_result",
          "data": {
            "text/plain": [
              "{'selected': 73,\n",
              " 'intern': 36,\n",
              " 'day': 23,\n",
              " 'to': 89,\n",
              " 'responsibilities': 65,\n",
              " 'include': 34,\n",
              " 'reviewing': 69,\n",
              " 'software': 79,\n",
              " 'requirements': 63,\n",
              " 'and': 4,\n",
              " 'preparing': 55,\n",
              " 'test': 87,\n",
              " 'cases': 16,\n",
              " 'execute': 32,\n",
              " 'manual': 46,\n",
              " 'or': 51,\n",
              " 'automated': 10,\n",
              " 'analyze': 2,\n",
              " 'results': 67,\n",
              " 'evaluate': 30,\n",
              " 'product': 57,\n",
              " 'code': 19,\n",
              " 'according': 0,\n",
              " 'specifications': 81,\n",
              " 'report': 59,\n",
              " 'bugs': 14,\n",
              " 'errors': 28,\n",
              " 'development': 26,\n",
              " 'teams': 85,\n",
              " 'skills': 77,\n",
              " 'req': 61,\n",
              " 'basic': 12,\n",
              " 'knowledge': 40,\n",
              " 'of': 48,\n",
              " 'database': 21,\n",
              " 'sql': 83,\n",
              " 'any': 8,\n",
              " 'scripting': 71,\n",
              " 'language': 42,\n",
              " 'like': 44,\n",
              " 'vbscript': 93,\n",
              " 'javascript': 38,\n",
              " 'shell': 75,\n",
              " 'perl': 53,\n",
              " 'selected intern': 74,\n",
              " 'intern day': 37,\n",
              " 'day to': 25,\n",
              " 'to day': 90,\n",
              " 'day responsibilities': 24,\n",
              " 'responsibilities include': 66,\n",
              " 'include reviewing': 35,\n",
              " 'reviewing software': 70,\n",
              " 'software requirements': 80,\n",
              " 'requirements and': 64,\n",
              " 'and preparing': 7,\n",
              " 'preparing test': 56,\n",
              " 'test cases': 88,\n",
              " 'cases execute': 17,\n",
              " 'execute test': 33,\n",
              " 'cases manual': 18,\n",
              " 'manual or': 47,\n",
              " 'or automated': 52,\n",
              " 'automated and': 11,\n",
              " 'and analyze': 5,\n",
              " 'analyze results': 3,\n",
              " 'results evaluate': 68,\n",
              " 'evaluate product': 31,\n",
              " 'product code': 58,\n",
              " 'code according': 20,\n",
              " 'according to': 1,\n",
              " 'to specifications': 92,\n",
              " 'specifications report': 82,\n",
              " 'report bugs': 60,\n",
              " 'bugs and': 15,\n",
              " 'and errors': 6,\n",
              " 'errors to': 29,\n",
              " 'to development': 91,\n",
              " 'development teams': 27,\n",
              " 'teams skills': 86,\n",
              " 'skills req': 78,\n",
              " 'req basic': 62,\n",
              " 'basic knowledge': 13,\n",
              " 'knowledge of': 41,\n",
              " 'of database': 50,\n",
              " 'database sql': 22,\n",
              " 'sql knowledge': 84,\n",
              " 'of any': 49,\n",
              " 'any scripting': 9,\n",
              " 'scripting language': 72,\n",
              " 'language like': 43,\n",
              " 'like vbscript': 45,\n",
              " 'vbscript javascript': 94,\n",
              " 'javascript shell': 39,\n",
              " 'shell perl': 76,\n",
              " 'perl scripting': 54}"
            ]
          },
          "metadata": {},
          "execution_count": 120
        }
      ]
    },
    {
      "cell_type": "code",
      "source": [
        "tf_count = v.transform(resumes['test'])\n",
        "tf_ud = tf_count.toarray()\n",
        "print(type(tf_count))\n",
        "print(tf_ud.shape)\n",
        "print(tf_ud)"
      ],
      "metadata": {
        "colab": {
          "base_uri": "https://localhost:8080/"
        },
        "outputId": "c52acb22-64ae-4ed9-de9e-9e79918272d7",
        "id": "7NJSQkdm_1aL"
      },
      "execution_count": null,
      "outputs": [
        {
          "output_type": "stream",
          "name": "stdout",
          "text": [
            "<class 'scipy.sparse.csr.csr_matrix'>\n",
            "(21, 95)\n",
            "[[0 0 0 ... 0 0 0]\n",
            " [0 0 0 ... 0 0 0]\n",
            " [0 0 0 ... 0 0 0]\n",
            " ...\n",
            " [0 0 0 ... 0 0 0]\n",
            " [0 0 0 ... 0 0 0]\n",
            " [0 0 0 ... 0 0 0]]\n"
          ]
        }
      ]
    },
    {
      "cell_type": "code",
      "source": [
        "nbrs = NearestNeighbors(n_neighbors=3, n_jobs=-1).fit(tf_count)"
      ],
      "metadata": {
        "id": "YPnS8tWe_1aL"
      },
      "execution_count": null,
      "outputs": []
    },
    {
      "cell_type": "code",
      "source": [
        "def getNearestN(query):\n",
        "  q_tf_count = v.transform(query)\n",
        "  distances, indices = nbrs.kneighbors(q_tf_count)\n",
        "  return distances, indices"
      ],
      "metadata": {
        "id": "5OQbNQHr_1aL"
      },
      "execution_count": null,
      "outputs": []
    },
    {
      "cell_type": "code",
      "source": [
        "distances, indices = getNearestN([test_job_des])"
      ],
      "metadata": {
        "id": "p6cXylDo_1aM"
      },
      "execution_count": null,
      "outputs": []
    },
    {
      "cell_type": "code",
      "source": [
        "len(distances[0])"
      ],
      "metadata": {
        "colab": {
          "base_uri": "https://localhost:8080/"
        },
        "id": "650huAcZawhD",
        "outputId": "d24c6a2b-b34d-4f4f-f71f-44c8e16ddc54"
      },
      "execution_count": null,
      "outputs": [
        {
          "output_type": "execute_result",
          "data": {
            "text/plain": [
              "3"
            ]
          },
          "metadata": {},
          "execution_count": 125
        }
      ]
    },
    {
      "cell_type": "code",
      "source": [
        "print(\"Distances          \", \"Indices\")\n",
        "for i in range(0,len(distances[0])):\n",
        "  print(distances[0][i],\"    \", indices[0][i])"
      ],
      "metadata": {
        "colab": {
          "base_uri": "https://localhost:8080/"
        },
        "outputId": "0571992e-57a8-40d6-8e4a-4456824791d8",
        "id": "F-S20uu9_1aM"
      },
      "execution_count": null,
      "outputs": [
        {
          "output_type": "stream",
          "name": "stdout",
          "text": [
            "Distances           Indices\n",
            "11.045361017187261      17\n",
            "11.180339887498949      19\n",
            "11.445523142259598      16\n"
          ]
        }
      ]
    },
    {
      "cell_type": "code",
      "source": [
        "type(indices)\n",
        "for i in indices:\n",
        "    rec_jobs = resumes.iloc[i] \n",
        "rec_jobs"
      ],
      "metadata": {
        "colab": {
          "base_uri": "https://localhost:8080/",
          "height": 433
        },
        "outputId": "32f24656-8cae-4c71-ec84-065b79b118d7",
        "id": "D77UsIFS_1aM"
      },
      "execution_count": null,
      "outputs": [
        {
          "output_type": "execute_result",
          "data": {
            "text/plain": [
              "        name                            email mobile_number  \\\n",
              "17   Lavanya  lavanya.adhinarayanan@gmail.com     988403855   \n",
              "20     Aneet           aneetatomy23@gmail.com    8129945395   \n",
              "16  Sireesha        karakondavenkat@gmail.com    9182382214   \n",
              "\n",
              "                                               skills  \\\n",
              "17  ['Sports', 'Engineering', 'Scrum', 'Payments',...   \n",
              "20  ['Engineering', 'Windows', 'Java', 'Social med...   \n",
              "16  ['Scripting', 'Java', 'Oracle', 'Windows', 'Sq...   \n",
              "\n",
              "                                college_name                      degree  \\\n",
              "17  Dayal Singh College, University of Delhi                  B.Sc. Hons   \n",
              "20                           NSIT, New Delhi  B.Tech (Computer Science)    \n",
              "16                                IIT Madras                         NaN   \n",
              "\n",
              "   designation                                         experience  \\\n",
              "17         NaN  ['▪', '▪ Worked with Insoft.com Private Ltd, C...   \n",
              "20         NaN  ['PageMe Consultancy [Digital Marketing Analys...   \n",
              "16         NaN                                                NaN   \n",
              "\n",
              "   company_names  no_of_pages  total_experience  \\\n",
              "17           NaN          9.0              0.00   \n",
              "20           NaN          2.0              0.25   \n",
              "16           NaN          2.0              0.00   \n",
              "\n",
              "                                                 test  \n",
              "17   sports engineering scrum payments erp windows...  \n",
              "20   engineering windows java social media hotel c...  \n",
              "16   scripting java oracle windows sql english css...  "
            ],
            "text/html": [
              "\n",
              "  <div id=\"df-e770895d-9b75-4f4b-900d-d9d6d499f7c3\">\n",
              "    <div class=\"colab-df-container\">\n",
              "      <div>\n",
              "<style scoped>\n",
              "    .dataframe tbody tr th:only-of-type {\n",
              "        vertical-align: middle;\n",
              "    }\n",
              "\n",
              "    .dataframe tbody tr th {\n",
              "        vertical-align: top;\n",
              "    }\n",
              "\n",
              "    .dataframe thead th {\n",
              "        text-align: right;\n",
              "    }\n",
              "</style>\n",
              "<table border=\"1\" class=\"dataframe\">\n",
              "  <thead>\n",
              "    <tr style=\"text-align: right;\">\n",
              "      <th></th>\n",
              "      <th>name</th>\n",
              "      <th>email</th>\n",
              "      <th>mobile_number</th>\n",
              "      <th>skills</th>\n",
              "      <th>college_name</th>\n",
              "      <th>degree</th>\n",
              "      <th>designation</th>\n",
              "      <th>experience</th>\n",
              "      <th>company_names</th>\n",
              "      <th>no_of_pages</th>\n",
              "      <th>total_experience</th>\n",
              "      <th>test</th>\n",
              "    </tr>\n",
              "  </thead>\n",
              "  <tbody>\n",
              "    <tr>\n",
              "      <th>17</th>\n",
              "      <td>Lavanya</td>\n",
              "      <td>lavanya.adhinarayanan@gmail.com</td>\n",
              "      <td>988403855</td>\n",
              "      <td>['Sports', 'Engineering', 'Scrum', 'Payments',...</td>\n",
              "      <td>Dayal Singh College, University of Delhi</td>\n",
              "      <td>B.Sc. Hons</td>\n",
              "      <td>NaN</td>\n",
              "      <td>['▪', '▪ Worked with Insoft.com Private Ltd, C...</td>\n",
              "      <td>NaN</td>\n",
              "      <td>9.0</td>\n",
              "      <td>0.00</td>\n",
              "      <td>sports engineering scrum payments erp windows...</td>\n",
              "    </tr>\n",
              "    <tr>\n",
              "      <th>20</th>\n",
              "      <td>Aneet</td>\n",
              "      <td>aneetatomy23@gmail.com</td>\n",
              "      <td>8129945395</td>\n",
              "      <td>['Engineering', 'Windows', 'Java', 'Social med...</td>\n",
              "      <td>NSIT, New Delhi</td>\n",
              "      <td>B.Tech (Computer Science)</td>\n",
              "      <td>NaN</td>\n",
              "      <td>['PageMe Consultancy [Digital Marketing Analys...</td>\n",
              "      <td>NaN</td>\n",
              "      <td>2.0</td>\n",
              "      <td>0.25</td>\n",
              "      <td>engineering windows java social media hotel c...</td>\n",
              "    </tr>\n",
              "    <tr>\n",
              "      <th>16</th>\n",
              "      <td>Sireesha</td>\n",
              "      <td>karakondavenkat@gmail.com</td>\n",
              "      <td>9182382214</td>\n",
              "      <td>['Scripting', 'Java', 'Oracle', 'Windows', 'Sq...</td>\n",
              "      <td>IIT Madras</td>\n",
              "      <td>NaN</td>\n",
              "      <td>NaN</td>\n",
              "      <td>NaN</td>\n",
              "      <td>NaN</td>\n",
              "      <td>2.0</td>\n",
              "      <td>0.00</td>\n",
              "      <td>scripting java oracle windows sql english css...</td>\n",
              "    </tr>\n",
              "  </tbody>\n",
              "</table>\n",
              "</div>\n",
              "      <button class=\"colab-df-convert\" onclick=\"convertToInteractive('df-e770895d-9b75-4f4b-900d-d9d6d499f7c3')\"\n",
              "              title=\"Convert this dataframe to an interactive table.\"\n",
              "              style=\"display:none;\">\n",
              "        \n",
              "  <svg xmlns=\"http://www.w3.org/2000/svg\" height=\"24px\"viewBox=\"0 0 24 24\"\n",
              "       width=\"24px\">\n",
              "    <path d=\"M0 0h24v24H0V0z\" fill=\"none\"/>\n",
              "    <path d=\"M18.56 5.44l.94 2.06.94-2.06 2.06-.94-2.06-.94-.94-2.06-.94 2.06-2.06.94zm-11 1L8.5 8.5l.94-2.06 2.06-.94-2.06-.94L8.5 2.5l-.94 2.06-2.06.94zm10 10l.94 2.06.94-2.06 2.06-.94-2.06-.94-.94-2.06-.94 2.06-2.06.94z\"/><path d=\"M17.41 7.96l-1.37-1.37c-.4-.4-.92-.59-1.43-.59-.52 0-1.04.2-1.43.59L10.3 9.45l-7.72 7.72c-.78.78-.78 2.05 0 2.83L4 21.41c.39.39.9.59 1.41.59.51 0 1.02-.2 1.41-.59l7.78-7.78 2.81-2.81c.8-.78.8-2.07 0-2.86zM5.41 20L4 18.59l7.72-7.72 1.47 1.35L5.41 20z\"/>\n",
              "  </svg>\n",
              "      </button>\n",
              "      \n",
              "  <style>\n",
              "    .colab-df-container {\n",
              "      display:flex;\n",
              "      flex-wrap:wrap;\n",
              "      gap: 12px;\n",
              "    }\n",
              "\n",
              "    .colab-df-convert {\n",
              "      background-color: #E8F0FE;\n",
              "      border: none;\n",
              "      border-radius: 50%;\n",
              "      cursor: pointer;\n",
              "      display: none;\n",
              "      fill: #1967D2;\n",
              "      height: 32px;\n",
              "      padding: 0 0 0 0;\n",
              "      width: 32px;\n",
              "    }\n",
              "\n",
              "    .colab-df-convert:hover {\n",
              "      background-color: #E2EBFA;\n",
              "      box-shadow: 0px 1px 2px rgba(60, 64, 67, 0.3), 0px 1px 3px 1px rgba(60, 64, 67, 0.15);\n",
              "      fill: #174EA6;\n",
              "    }\n",
              "\n",
              "    [theme=dark] .colab-df-convert {\n",
              "      background-color: #3B4455;\n",
              "      fill: #D2E3FC;\n",
              "    }\n",
              "\n",
              "    [theme=dark] .colab-df-convert:hover {\n",
              "      background-color: #434B5C;\n",
              "      box-shadow: 0px 1px 3px 1px rgba(0, 0, 0, 0.15);\n",
              "      filter: drop-shadow(0px 1px 2px rgba(0, 0, 0, 0.3));\n",
              "      fill: #FFFFFF;\n",
              "    }\n",
              "  </style>\n",
              "\n",
              "      <script>\n",
              "        const buttonEl =\n",
              "          document.querySelector('#df-e770895d-9b75-4f4b-900d-d9d6d499f7c3 button.colab-df-convert');\n",
              "        buttonEl.style.display =\n",
              "          google.colab.kernel.accessAllowed ? 'block' : 'none';\n",
              "\n",
              "        async function convertToInteractive(key) {\n",
              "          const element = document.querySelector('#df-e770895d-9b75-4f4b-900d-d9d6d499f7c3');\n",
              "          const dataTable =\n",
              "            await google.colab.kernel.invokeFunction('convertToInteractive',\n",
              "                                                     [key], {});\n",
              "          if (!dataTable) return;\n",
              "\n",
              "          const docLinkHtml = 'Like what you see? Visit the ' +\n",
              "            '<a target=\"_blank\" href=https://colab.research.google.com/notebooks/data_table.ipynb>data table notebook</a>'\n",
              "            + ' to learn more about interactive tables.';\n",
              "          element.innerHTML = '';\n",
              "          dataTable['output_type'] = 'display_data';\n",
              "          await google.colab.output.renderOutput(dataTable, element);\n",
              "          const docLink = document.createElement('div');\n",
              "          docLink.innerHTML = docLinkHtml;\n",
              "          element.appendChild(docLink);\n",
              "        }\n",
              "      </script>\n",
              "    </div>\n",
              "  </div>\n",
              "  "
            ]
          },
          "metadata": {},
          "execution_count": 127
        }
      ]
    },
    {
      "cell_type": "markdown",
      "source": [
        "# JOB TO JOB MATCHING"
      ],
      "metadata": {
        "id": "eT9ceu0ha7AC"
      }
    },
    {
      "cell_type": "code",
      "source": [
        "jobs.info()"
      ],
      "metadata": {
        "colab": {
          "base_uri": "https://localhost:8080/"
        },
        "outputId": "bbfe1d91-7843-4cc1-f7f6-bdc853f9ceb2",
        "id": "BIzi6bjaf4yf"
      },
      "execution_count": null,
      "outputs": [
        {
          "output_type": "stream",
          "name": "stdout",
          "text": [
            "<class 'pandas.core.frame.DataFrame'>\n",
            "Int64Index: 34 entries, 0 to 33\n",
            "Data columns (total 9 columns):\n",
            " #   Column        Non-Null Count  Dtype \n",
            "---  ------        --------------  ----- \n",
            " 0   company_name  34 non-null     object\n",
            " 1   job_title     34 non-null     object\n",
            " 2   Unnamed: 2    23 non-null     object\n",
            " 3   job_des       34 non-null     object\n",
            " 4   job_location  34 non-null     object\n",
            " 5   exp_req       16 non-null     object\n",
            " 6   edu_req       11 non-null     object\n",
            " 7   cert_req      3 non-null      object\n",
            " 8   test          34 non-null     object\n",
            "dtypes: object(9)\n",
            "memory usage: 2.7+ KB\n"
          ]
        }
      ]
    },
    {
      "cell_type": "code",
      "source": [
        "jobs.head()"
      ],
      "metadata": {
        "colab": {
          "base_uri": "https://localhost:8080/",
          "height": 493
        },
        "outputId": "86d5f484-a513-4d9a-e571-c5c9f5062ca1",
        "id": "5ROwmOLHf4yf"
      },
      "execution_count": null,
      "outputs": [
        {
          "output_type": "execute_result",
          "data": {
            "text/plain": [
              "                    company_name                           job_title  \\\n",
              "0  Smart Food Safe Solutions Inc         Software Testing Internship   \n",
              "1                       Mobiveil           Embedded Software Testing   \n",
              "2     Open Systems International  Senior Engineer - Software Testing   \n",
              "3           HyperLink InfoSystem        Business Development Manager   \n",
              "4                        Infosys        Oracle Functional Consultant   \n",
              "\n",
              "  Unnamed: 2                                            job_des job_location  \\\n",
              "0          -  Selected intern's day-to-day responsibilities ...    Bengaluru   \n",
              "1          -  Good in different type of testing and proficie...    Bangalore   \n",
              "2          -  Specific on-the-job training will be provided....    Bengaluru   \n",
              "3          -  Contacting potential clients to establish rapp...    Ahemdabad   \n",
              "4          -  Able to configure financial modules independen...    Mangalore   \n",
              "\n",
              "                                             exp_req  \\\n",
              "0                                                  0   \n",
              "1                                           4+ Years   \n",
              "2  Strong hands-on 2+ yearsâ€™ experience on Test...   \n",
              "3                                           2+ years   \n",
              "4                                5 to 8 years of exp   \n",
              "\n",
              "                                             edu_req  \\\n",
              "0  students or freshers can apply who: are availa...   \n",
              "1                                         Btech/ MCA   \n",
              "2  Masterâ€™s degree in Computer Science, Softwar...   \n",
              "3  Any graduation/post graduation, MBA/PGDM in Ma...   \n",
              "4                                                NaN   \n",
              "\n",
              "                                            cert_req  \\\n",
              "0                                                  -   \n",
              "1            should own a module/component end 2 end   \n",
              "2  Experience with Quality Assurance within an Ag...   \n",
              "3                                                NaN   \n",
              "4                                                NaN   \n",
              "\n",
              "                                                test  \n",
              "0   selected interns day to day responsibilities ...  \n",
              "1   good in different type of testing and profici...  \n",
              "2   specific on the job training will be provided...  \n",
              "3   contacting potential clients to establish rap...  \n",
              "4   able to configure financial modules independe...  "
            ],
            "text/html": [
              "\n",
              "  <div id=\"df-87f65ae4-e257-44b1-b9eb-41039103cab8\">\n",
              "    <div class=\"colab-df-container\">\n",
              "      <div>\n",
              "<style scoped>\n",
              "    .dataframe tbody tr th:only-of-type {\n",
              "        vertical-align: middle;\n",
              "    }\n",
              "\n",
              "    .dataframe tbody tr th {\n",
              "        vertical-align: top;\n",
              "    }\n",
              "\n",
              "    .dataframe thead th {\n",
              "        text-align: right;\n",
              "    }\n",
              "</style>\n",
              "<table border=\"1\" class=\"dataframe\">\n",
              "  <thead>\n",
              "    <tr style=\"text-align: right;\">\n",
              "      <th></th>\n",
              "      <th>company_name</th>\n",
              "      <th>job_title</th>\n",
              "      <th>Unnamed: 2</th>\n",
              "      <th>job_des</th>\n",
              "      <th>job_location</th>\n",
              "      <th>exp_req</th>\n",
              "      <th>edu_req</th>\n",
              "      <th>cert_req</th>\n",
              "      <th>test</th>\n",
              "    </tr>\n",
              "  </thead>\n",
              "  <tbody>\n",
              "    <tr>\n",
              "      <th>0</th>\n",
              "      <td>Smart Food Safe Solutions Inc</td>\n",
              "      <td>Software Testing Internship</td>\n",
              "      <td>-</td>\n",
              "      <td>Selected intern's day-to-day responsibilities ...</td>\n",
              "      <td>Bengaluru</td>\n",
              "      <td>0</td>\n",
              "      <td>students or freshers can apply who: are availa...</td>\n",
              "      <td>-</td>\n",
              "      <td>selected interns day to day responsibilities ...</td>\n",
              "    </tr>\n",
              "    <tr>\n",
              "      <th>1</th>\n",
              "      <td>Mobiveil</td>\n",
              "      <td>Embedded Software Testing</td>\n",
              "      <td>-</td>\n",
              "      <td>Good in different type of testing and proficie...</td>\n",
              "      <td>Bangalore</td>\n",
              "      <td>4+ Years</td>\n",
              "      <td>Btech/ MCA</td>\n",
              "      <td>should own a module/component end 2 end</td>\n",
              "      <td>good in different type of testing and profici...</td>\n",
              "    </tr>\n",
              "    <tr>\n",
              "      <th>2</th>\n",
              "      <td>Open Systems International</td>\n",
              "      <td>Senior Engineer - Software Testing</td>\n",
              "      <td>-</td>\n",
              "      <td>Specific on-the-job training will be provided....</td>\n",
              "      <td>Bengaluru</td>\n",
              "      <td>Strong hands-on 2+ yearsâ€™ experience on Test...</td>\n",
              "      <td>Masterâ€™s degree in Computer Science, Softwar...</td>\n",
              "      <td>Experience with Quality Assurance within an Ag...</td>\n",
              "      <td>specific on the job training will be provided...</td>\n",
              "    </tr>\n",
              "    <tr>\n",
              "      <th>3</th>\n",
              "      <td>HyperLink InfoSystem</td>\n",
              "      <td>Business Development Manager</td>\n",
              "      <td>-</td>\n",
              "      <td>Contacting potential clients to establish rapp...</td>\n",
              "      <td>Ahemdabad</td>\n",
              "      <td>2+ years</td>\n",
              "      <td>Any graduation/post graduation, MBA/PGDM in Ma...</td>\n",
              "      <td>NaN</td>\n",
              "      <td>contacting potential clients to establish rap...</td>\n",
              "    </tr>\n",
              "    <tr>\n",
              "      <th>4</th>\n",
              "      <td>Infosys</td>\n",
              "      <td>Oracle Functional Consultant</td>\n",
              "      <td>-</td>\n",
              "      <td>Able to configure financial modules independen...</td>\n",
              "      <td>Mangalore</td>\n",
              "      <td>5 to 8 years of exp</td>\n",
              "      <td>NaN</td>\n",
              "      <td>NaN</td>\n",
              "      <td>able to configure financial modules independe...</td>\n",
              "    </tr>\n",
              "  </tbody>\n",
              "</table>\n",
              "</div>\n",
              "      <button class=\"colab-df-convert\" onclick=\"convertToInteractive('df-87f65ae4-e257-44b1-b9eb-41039103cab8')\"\n",
              "              title=\"Convert this dataframe to an interactive table.\"\n",
              "              style=\"display:none;\">\n",
              "        \n",
              "  <svg xmlns=\"http://www.w3.org/2000/svg\" height=\"24px\"viewBox=\"0 0 24 24\"\n",
              "       width=\"24px\">\n",
              "    <path d=\"M0 0h24v24H0V0z\" fill=\"none\"/>\n",
              "    <path d=\"M18.56 5.44l.94 2.06.94-2.06 2.06-.94-2.06-.94-.94-2.06-.94 2.06-2.06.94zm-11 1L8.5 8.5l.94-2.06 2.06-.94-2.06-.94L8.5 2.5l-.94 2.06-2.06.94zm10 10l.94 2.06.94-2.06 2.06-.94-2.06-.94-.94-2.06-.94 2.06-2.06.94z\"/><path d=\"M17.41 7.96l-1.37-1.37c-.4-.4-.92-.59-1.43-.59-.52 0-1.04.2-1.43.59L10.3 9.45l-7.72 7.72c-.78.78-.78 2.05 0 2.83L4 21.41c.39.39.9.59 1.41.59.51 0 1.02-.2 1.41-.59l7.78-7.78 2.81-2.81c.8-.78.8-2.07 0-2.86zM5.41 20L4 18.59l7.72-7.72 1.47 1.35L5.41 20z\"/>\n",
              "  </svg>\n",
              "      </button>\n",
              "      \n",
              "  <style>\n",
              "    .colab-df-container {\n",
              "      display:flex;\n",
              "      flex-wrap:wrap;\n",
              "      gap: 12px;\n",
              "    }\n",
              "\n",
              "    .colab-df-convert {\n",
              "      background-color: #E8F0FE;\n",
              "      border: none;\n",
              "      border-radius: 50%;\n",
              "      cursor: pointer;\n",
              "      display: none;\n",
              "      fill: #1967D2;\n",
              "      height: 32px;\n",
              "      padding: 0 0 0 0;\n",
              "      width: 32px;\n",
              "    }\n",
              "\n",
              "    .colab-df-convert:hover {\n",
              "      background-color: #E2EBFA;\n",
              "      box-shadow: 0px 1px 2px rgba(60, 64, 67, 0.3), 0px 1px 3px 1px rgba(60, 64, 67, 0.15);\n",
              "      fill: #174EA6;\n",
              "    }\n",
              "\n",
              "    [theme=dark] .colab-df-convert {\n",
              "      background-color: #3B4455;\n",
              "      fill: #D2E3FC;\n",
              "    }\n",
              "\n",
              "    [theme=dark] .colab-df-convert:hover {\n",
              "      background-color: #434B5C;\n",
              "      box-shadow: 0px 1px 3px 1px rgba(0, 0, 0, 0.15);\n",
              "      filter: drop-shadow(0px 1px 2px rgba(0, 0, 0, 0.3));\n",
              "      fill: #FFFFFF;\n",
              "    }\n",
              "  </style>\n",
              "\n",
              "      <script>\n",
              "        const buttonEl =\n",
              "          document.querySelector('#df-87f65ae4-e257-44b1-b9eb-41039103cab8 button.colab-df-convert');\n",
              "        buttonEl.style.display =\n",
              "          google.colab.kernel.accessAllowed ? 'block' : 'none';\n",
              "\n",
              "        async function convertToInteractive(key) {\n",
              "          const element = document.querySelector('#df-87f65ae4-e257-44b1-b9eb-41039103cab8');\n",
              "          const dataTable =\n",
              "            await google.colab.kernel.invokeFunction('convertToInteractive',\n",
              "                                                     [key], {});\n",
              "          if (!dataTable) return;\n",
              "\n",
              "          const docLinkHtml = 'Like what you see? Visit the ' +\n",
              "            '<a target=\"_blank\" href=https://colab.research.google.com/notebooks/data_table.ipynb>data table notebook</a>'\n",
              "            + ' to learn more about interactive tables.';\n",
              "          element.innerHTML = '';\n",
              "          dataTable['output_type'] = 'display_data';\n",
              "          await google.colab.output.renderOutput(dataTable, element);\n",
              "          const docLink = document.createElement('div');\n",
              "          docLink.innerHTML = docLinkHtml;\n",
              "          element.appendChild(docLink);\n",
              "        }\n",
              "      </script>\n",
              "    </div>\n",
              "  </div>\n",
              "  "
            ]
          },
          "metadata": {},
          "execution_count": 79
        }
      ]
    },
    {
      "cell_type": "code",
      "source": [
        "jobs = jobs[jobs['job_des'].notna()]\n",
        "jobs.shape"
      ],
      "metadata": {
        "colab": {
          "base_uri": "https://localhost:8080/"
        },
        "outputId": "d64f8fa8-ead9-46b0-f52c-1704b8d84b8e",
        "id": "gMeObBMwf4yf"
      },
      "execution_count": null,
      "outputs": [
        {
          "output_type": "execute_result",
          "data": {
            "text/plain": [
              "(34, 9)"
            ]
          },
          "metadata": {},
          "execution_count": 80
        }
      ]
    },
    {
      "cell_type": "code",
      "source": [
        "jobs['job_des']"
      ],
      "metadata": {
        "colab": {
          "base_uri": "https://localhost:8080/"
        },
        "outputId": "46d28e24-faf8-4100-ebf1-c3c2769c68e6",
        "id": "tKESiyZ5f4yf"
      },
      "execution_count": null,
      "outputs": [
        {
          "output_type": "execute_result",
          "data": {
            "text/plain": [
              "0     Selected intern's day-to-day responsibilities ...\n",
              "1     Good in different type of testing and proficie...\n",
              "2     Specific on-the-job training will be provided....\n",
              "3     Contacting potential clients to establish rapp...\n",
              "4     Able to configure financial modules independen...\n",
              "5     As a data analyst, design and carry out survey...\n",
              "6     IT/systems associate analyst participates in t...\n",
              "7     As a business analyst, use data modelling tech...\n",
              "8     Understanding business objectives and developi...\n",
              "9     Responsibilities include: Identify valuable da...\n",
              "10    Require Strong Development & Test Resources fo...\n",
              "11    An Associate Developer works with and supports...\n",
              "12    The data scientist job description involves fe...\n",
              "13    As a data analyst, develop records management ...\n",
              "14    NLP, Machine Learning, with Java as operating ...\n",
              "15    Perform following duties: oversee the implemen...\n",
              "16    The hire is expected to have good knowledge of...\n",
              "17    Perform following duties: creating documents t...\n",
              "18    We are looking for a Machine Learning (ML) Eng...\n",
              "19    Create Project Plan, schedule and coordination...\n",
              "20    We are currently searching for a highly experi...\n",
              "21    AS a part of a cross-functional team that�s re...\n",
              "22    A full stack developer requires skills such as...\n",
              "23    Provide remote & on ground support to end user...\n",
              "24    To write an effective security operations anal...\n",
              "25    As a Programmer you will be responsible for de...\n",
              "26    As a data analyst, prepare reports for interna...\n",
              "27    Analyzing the ML algorithms that could be used...\n",
              "28    Day-to-day responsibilities include: 1. Review...\n",
              "29    Exploring and visualizing data to gain an unde...\n",
              "30    The Product Technical Specialist is responsibl...\n",
              "31    A full stack developer requires skills such as...\n",
              "32    To ensure success as a software test engineer,...\n",
              "33    We are looking for a skilled software engineer...\n",
              "Name: job_des, dtype: object"
            ]
          },
          "metadata": {},
          "execution_count": 81
        }
      ]
    },
    {
      "cell_type": "code",
      "source": [
        "# CREATING A BAG OF WORDS\n",
        "\n",
        "from sklearn.feature_extraction.text import TfidfVectorizer\n",
        "\n",
        "# Convert a collection of raw documents to a matrix of TF-IDF features.\n",
        "# tf-idf means term-frequency times inverse document-frequency\n",
        "# tf-idf for a term t of a document d in a document set is tf-idf(t, d) = tf(t, d) * idf(t)\n",
        "# idf is computed as idf(t) = log [ n / df(t) ] + 1 \n",
        "\n",
        "tdif = TfidfVectorizer(stop_words='english')\n",
        "# print(type(tdif))\n",
        "tdif_matrix = tdif.fit_transform(jobs['job_des'])\n",
        "tdif_matrix.shape"
      ],
      "metadata": {
        "colab": {
          "base_uri": "https://localhost:8080/"
        },
        "outputId": "30bdd844-4049-4380-d1c3-26a4f24120a9",
        "id": "nTUilPOTf4yf"
      },
      "execution_count": null,
      "outputs": [
        {
          "output_type": "execute_result",
          "data": {
            "text/plain": [
              "(34, 629)"
            ]
          },
          "metadata": {},
          "execution_count": 82
        }
      ]
    },
    {
      "cell_type": "code",
      "source": [
        "print(type(tdif_matrix))"
      ],
      "metadata": {
        "colab": {
          "base_uri": "https://localhost:8080/"
        },
        "outputId": "09a40563-c441-41ad-940f-2618299cb466",
        "id": "Tj4hKIEgf4yf"
      },
      "execution_count": null,
      "outputs": [
        {
          "output_type": "stream",
          "name": "stdout",
          "text": [
            "<class 'scipy.sparse._csr.csr_matrix'>\n"
          ]
        }
      ]
    },
    {
      "cell_type": "code",
      "source": [
        "from sklearn.metrics.pairwise import linear_kernel\n",
        "\n",
        "# considers not only the similarity between vectors under the same dimension,\n",
        "# but also across dimensions. When used in machine learning algorithms, \n",
        "# this allows to account for feature interaction.\n",
        "\n",
        "cosine_sim = linear_kernel(tdif_matrix, tdif_matrix)\n",
        "\n",
        "#  tf-idf functionality in sklearn.feature_extraction.text can produce normalized vectors, in which case cosine_similarity is equivalent to linear_kernel, only slower\n",
        "\n",
        "indices = pd.Series(jobs.index, index=jobs['job_title']).drop_duplicates()\n",
        "indices"
      ],
      "metadata": {
        "colab": {
          "base_uri": "https://localhost:8080/"
        },
        "outputId": "9cb762ef-18a9-4da2-e68d-5798a40e938d",
        "id": "WpUHYjyTf4yf"
      },
      "execution_count": null,
      "outputs": [
        {
          "output_type": "execute_result",
          "data": {
            "text/plain": [
              "job_title\n",
              "Software Testing Internship                            0\n",
              "Embedded Software Testing                              1\n",
              "Senior Engineer - Software Testing                     2\n",
              "Business Development Manager                           3\n",
              "Oracle Functional Consultant                           4\n",
              "Jr. Data Analyst                                       5\n",
              "IT/System Associate Analyst                            6\n",
              "Senior Business Analyst                                7\n",
              "Machine Learning Engineer                              8\n",
              "Data Scientist                                         9\n",
              "Software Testing Engineer                             10\n",
              "Associate Developer                                   11\n",
              "Data Scientist                                        12\n",
              "Data Analyst                                          13\n",
              "NLP / Machine Learning                                14\n",
              "Business Analyst                                      15\n",
              "Java GCP Data Engineer                                16\n",
              "Jr. Business Analyst                                  17\n",
              "Machine Learning Engineer                             18\n",
              "Microsoft Technology Project Manager                  19\n",
              "Web Developer Frontend                                20\n",
              "Developer Associate - FULL STACK DEVELOPER            21\n",
              "Developer Associate - FULL STACK DEVELOPER            22\n",
              "IT Administrator                                      23\n",
              "Information Security Operations Analyst               24\n",
              "Associate Developer (Python with Machine Learning)    25\n",
              "Data Analyst                                          26\n",
              "Machine Learning Engineer                             27\n",
              "Software Testing Engineer                             28\n",
              "Machine Learning Engineer                             29\n",
              "Product Technical Specialist                          30\n",
              "Developer Associate - FULL STACK DEVELOPER            31\n",
              "Software Testing Engineer                             32\n",
              "Software Engineer                                     33\n",
              "dtype: int64"
            ]
          },
          "metadata": {},
          "execution_count": 83
        }
      ]
    },
    {
      "cell_type": "code",
      "source": [
        "def get_recommendations(title,cosine_sim=cosine_sim):\n",
        "  idx = indices[title]\n",
        "  # print(idx)\n",
        "  sim_scores = list(enumerate(cosine_sim[idx]))\n",
        "  # print(sim_scores)\n",
        "  sim_scores = sorted(sim_scores, key=lambda X:X[1], reverse=True)\n",
        "  # we don't how this 'key=lambda X:X[1]' works\n",
        "  # print(sim_scores)\n",
        "  sim_scores = sim_scores[0:5]\n",
        "\n",
        "  tech_indices = [i[0] for i in sim_scores]\n",
        "  return jobs.iloc[tech_indices]"
      ],
      "metadata": {
        "id": "0qvWZtFRf4yf"
      },
      "execution_count": null,
      "outputs": []
    },
    {
      "cell_type": "code",
      "source": [
        "sim_jobs = get_recommendations('Software Testing Internship')\n",
        "sim_jobs"
      ],
      "metadata": {
        "colab": {
          "base_uri": "https://localhost:8080/",
          "height": 475
        },
        "id": "ZfKAs7QDyfi-",
        "outputId": "693fe588-6525-4934-dc07-530ec9da3099"
      },
      "execution_count": null,
      "outputs": [
        {
          "output_type": "execute_result",
          "data": {
            "text/plain": [
              "                     company_name                           job_title  \\\n",
              "0   Smart Food Safe Solutions Inc         Software Testing Internship   \n",
              "28          Hexaware Technologies           Software Testing Engineer   \n",
              "2      Open Systems International  Senior Engineer - Software Testing   \n",
              "32                          Cvent           Software Testing Engineer   \n",
              "10                          Wipro           Software Testing Engineer   \n",
              "\n",
              "   Unnamed: 2                                            job_des job_location  \\\n",
              "0           -  Selected intern's day-to-day responsibilities ...    Bengaluru   \n",
              "28          -  Day-to-day responsibilities include: 1. Review...  Navi Mumbai   \n",
              "2           -  Specific on-the-job training will be provided....    Bengaluru   \n",
              "32          -  To ensure success as a software test engineer,...   West Delhi   \n",
              "10          -  Require Strong Development & Test Resources fo...       Mumbai   \n",
              "\n",
              "                                              exp_req  \\\n",
              "0                                                   0   \n",
              "28                                                NaN   \n",
              "2   Strong hands-on 2+ yearsâ€™ experience on Test...   \n",
              "32  Experience working with popular operating syst...   \n",
              "10                                                NaN   \n",
              "\n",
              "                                              edu_req  \\\n",
              "0   students or freshers can apply who: are availa...   \n",
              "28                                                NaN   \n",
              "2   Masterâ€™s degree in Computer Science, Softwar...   \n",
              "32  Bachelor’s degree in computer science, softwar...   \n",
              "10                                                NaN   \n",
              "\n",
              "                                             cert_req  \\\n",
              "0                                                   -   \n",
              "28                                                NaN   \n",
              "2   Experience with Quality Assurance within an Ag...   \n",
              "32                                                NaN   \n",
              "10                                                NaN   \n",
              "\n",
              "                                                 test  \n",
              "0    selected interns day to day responsibilities ...  \n",
              "28   day to day responsibilities include: 1 review...  \n",
              "2    specific on the job training will be provided...  \n",
              "32   to ensure success as a software test engineer...  \n",
              "10   require strong development and test resources...  "
            ],
            "text/html": [
              "\n",
              "  <div id=\"df-f1fbc0e3-3d7e-4a59-91db-fbdcd2235804\">\n",
              "    <div class=\"colab-df-container\">\n",
              "      <div>\n",
              "<style scoped>\n",
              "    .dataframe tbody tr th:only-of-type {\n",
              "        vertical-align: middle;\n",
              "    }\n",
              "\n",
              "    .dataframe tbody tr th {\n",
              "        vertical-align: top;\n",
              "    }\n",
              "\n",
              "    .dataframe thead th {\n",
              "        text-align: right;\n",
              "    }\n",
              "</style>\n",
              "<table border=\"1\" class=\"dataframe\">\n",
              "  <thead>\n",
              "    <tr style=\"text-align: right;\">\n",
              "      <th></th>\n",
              "      <th>company_name</th>\n",
              "      <th>job_title</th>\n",
              "      <th>Unnamed: 2</th>\n",
              "      <th>job_des</th>\n",
              "      <th>job_location</th>\n",
              "      <th>exp_req</th>\n",
              "      <th>edu_req</th>\n",
              "      <th>cert_req</th>\n",
              "      <th>test</th>\n",
              "    </tr>\n",
              "  </thead>\n",
              "  <tbody>\n",
              "    <tr>\n",
              "      <th>0</th>\n",
              "      <td>Smart Food Safe Solutions Inc</td>\n",
              "      <td>Software Testing Internship</td>\n",
              "      <td>-</td>\n",
              "      <td>Selected intern's day-to-day responsibilities ...</td>\n",
              "      <td>Bengaluru</td>\n",
              "      <td>0</td>\n",
              "      <td>students or freshers can apply who: are availa...</td>\n",
              "      <td>-</td>\n",
              "      <td>selected interns day to day responsibilities ...</td>\n",
              "    </tr>\n",
              "    <tr>\n",
              "      <th>28</th>\n",
              "      <td>Hexaware Technologies</td>\n",
              "      <td>Software Testing Engineer</td>\n",
              "      <td>-</td>\n",
              "      <td>Day-to-day responsibilities include: 1. Review...</td>\n",
              "      <td>Navi Mumbai</td>\n",
              "      <td>NaN</td>\n",
              "      <td>NaN</td>\n",
              "      <td>NaN</td>\n",
              "      <td>day to day responsibilities include: 1 review...</td>\n",
              "    </tr>\n",
              "    <tr>\n",
              "      <th>2</th>\n",
              "      <td>Open Systems International</td>\n",
              "      <td>Senior Engineer - Software Testing</td>\n",
              "      <td>-</td>\n",
              "      <td>Specific on-the-job training will be provided....</td>\n",
              "      <td>Bengaluru</td>\n",
              "      <td>Strong hands-on 2+ yearsâ€™ experience on Test...</td>\n",
              "      <td>Masterâ€™s degree in Computer Science, Softwar...</td>\n",
              "      <td>Experience with Quality Assurance within an Ag...</td>\n",
              "      <td>specific on the job training will be provided...</td>\n",
              "    </tr>\n",
              "    <tr>\n",
              "      <th>32</th>\n",
              "      <td>Cvent</td>\n",
              "      <td>Software Testing Engineer</td>\n",
              "      <td>-</td>\n",
              "      <td>To ensure success as a software test engineer,...</td>\n",
              "      <td>West Delhi</td>\n",
              "      <td>Experience working with popular operating syst...</td>\n",
              "      <td>Bachelor’s degree in computer science, softwar...</td>\n",
              "      <td>NaN</td>\n",
              "      <td>to ensure success as a software test engineer...</td>\n",
              "    </tr>\n",
              "    <tr>\n",
              "      <th>10</th>\n",
              "      <td>Wipro</td>\n",
              "      <td>Software Testing Engineer</td>\n",
              "      <td>-</td>\n",
              "      <td>Require Strong Development &amp; Test Resources fo...</td>\n",
              "      <td>Mumbai</td>\n",
              "      <td>NaN</td>\n",
              "      <td>NaN</td>\n",
              "      <td>NaN</td>\n",
              "      <td>require strong development and test resources...</td>\n",
              "    </tr>\n",
              "  </tbody>\n",
              "</table>\n",
              "</div>\n",
              "      <button class=\"colab-df-convert\" onclick=\"convertToInteractive('df-f1fbc0e3-3d7e-4a59-91db-fbdcd2235804')\"\n",
              "              title=\"Convert this dataframe to an interactive table.\"\n",
              "              style=\"display:none;\">\n",
              "        \n",
              "  <svg xmlns=\"http://www.w3.org/2000/svg\" height=\"24px\"viewBox=\"0 0 24 24\"\n",
              "       width=\"24px\">\n",
              "    <path d=\"M0 0h24v24H0V0z\" fill=\"none\"/>\n",
              "    <path d=\"M18.56 5.44l.94 2.06.94-2.06 2.06-.94-2.06-.94-.94-2.06-.94 2.06-2.06.94zm-11 1L8.5 8.5l.94-2.06 2.06-.94-2.06-.94L8.5 2.5l-.94 2.06-2.06.94zm10 10l.94 2.06.94-2.06 2.06-.94-2.06-.94-.94-2.06-.94 2.06-2.06.94z\"/><path d=\"M17.41 7.96l-1.37-1.37c-.4-.4-.92-.59-1.43-.59-.52 0-1.04.2-1.43.59L10.3 9.45l-7.72 7.72c-.78.78-.78 2.05 0 2.83L4 21.41c.39.39.9.59 1.41.59.51 0 1.02-.2 1.41-.59l7.78-7.78 2.81-2.81c.8-.78.8-2.07 0-2.86zM5.41 20L4 18.59l7.72-7.72 1.47 1.35L5.41 20z\"/>\n",
              "  </svg>\n",
              "      </button>\n",
              "      \n",
              "  <style>\n",
              "    .colab-df-container {\n",
              "      display:flex;\n",
              "      flex-wrap:wrap;\n",
              "      gap: 12px;\n",
              "    }\n",
              "\n",
              "    .colab-df-convert {\n",
              "      background-color: #E8F0FE;\n",
              "      border: none;\n",
              "      border-radius: 50%;\n",
              "      cursor: pointer;\n",
              "      display: none;\n",
              "      fill: #1967D2;\n",
              "      height: 32px;\n",
              "      padding: 0 0 0 0;\n",
              "      width: 32px;\n",
              "    }\n",
              "\n",
              "    .colab-df-convert:hover {\n",
              "      background-color: #E2EBFA;\n",
              "      box-shadow: 0px 1px 2px rgba(60, 64, 67, 0.3), 0px 1px 3px 1px rgba(60, 64, 67, 0.15);\n",
              "      fill: #174EA6;\n",
              "    }\n",
              "\n",
              "    [theme=dark] .colab-df-convert {\n",
              "      background-color: #3B4455;\n",
              "      fill: #D2E3FC;\n",
              "    }\n",
              "\n",
              "    [theme=dark] .colab-df-convert:hover {\n",
              "      background-color: #434B5C;\n",
              "      box-shadow: 0px 1px 3px 1px rgba(0, 0, 0, 0.15);\n",
              "      filter: drop-shadow(0px 1px 2px rgba(0, 0, 0, 0.3));\n",
              "      fill: #FFFFFF;\n",
              "    }\n",
              "  </style>\n",
              "\n",
              "      <script>\n",
              "        const buttonEl =\n",
              "          document.querySelector('#df-f1fbc0e3-3d7e-4a59-91db-fbdcd2235804 button.colab-df-convert');\n",
              "        buttonEl.style.display =\n",
              "          google.colab.kernel.accessAllowed ? 'block' : 'none';\n",
              "\n",
              "        async function convertToInteractive(key) {\n",
              "          const element = document.querySelector('#df-f1fbc0e3-3d7e-4a59-91db-fbdcd2235804');\n",
              "          const dataTable =\n",
              "            await google.colab.kernel.invokeFunction('convertToInteractive',\n",
              "                                                     [key], {});\n",
              "          if (!dataTable) return;\n",
              "\n",
              "          const docLinkHtml = 'Like what you see? Visit the ' +\n",
              "            '<a target=\"_blank\" href=https://colab.research.google.com/notebooks/data_table.ipynb>data table notebook</a>'\n",
              "            + ' to learn more about interactive tables.';\n",
              "          element.innerHTML = '';\n",
              "          dataTable['output_type'] = 'display_data';\n",
              "          await google.colab.output.renderOutput(dataTable, element);\n",
              "          const docLink = document.createElement('div');\n",
              "          docLink.innerHTML = docLinkHtml;\n",
              "          element.appendChild(docLink);\n",
              "        }\n",
              "      </script>\n",
              "    </div>\n",
              "  </div>\n",
              "  "
            ]
          },
          "metadata": {},
          "execution_count": 85
        }
      ]
    },
    {
      "cell_type": "code",
      "source": [],
      "metadata": {
        "id": "cbo2TROAhDUI"
      },
      "execution_count": null,
      "outputs": []
    },
    {
      "cell_type": "markdown",
      "source": [
        "# RESUME TO RESUME MATCHING"
      ],
      "metadata": {
        "id": "i98z0QNRhDub"
      }
    },
    {
      "cell_type": "code",
      "source": [
        "resumes.info()"
      ],
      "metadata": {
        "colab": {
          "base_uri": "https://localhost:8080/"
        },
        "outputId": "8e8630d2-8601-4c4b-9ef2-b9d40be9dfb1",
        "id": "BhrgKvJRhDub"
      },
      "execution_count": null,
      "outputs": [
        {
          "output_type": "stream",
          "name": "stdout",
          "text": [
            "<class 'pandas.core.frame.DataFrame'>\n",
            "RangeIndex: 22 entries, 0 to 21\n",
            "Data columns (total 11 columns):\n",
            " #   Column            Non-Null Count  Dtype  \n",
            "---  ------            --------------  -----  \n",
            " 0   name              21 non-null     object \n",
            " 1   email             21 non-null     object \n",
            " 2   mobile_number     21 non-null     object \n",
            " 3   skills            21 non-null     object \n",
            " 4   college_name      3 non-null      object \n",
            " 5   degree            13 non-null     object \n",
            " 6   designation       5 non-null      object \n",
            " 7   experience        13 non-null     object \n",
            " 8   company_names     2 non-null      object \n",
            " 9   no_of_pages       21 non-null     float64\n",
            " 10  total_experience  21 non-null     float64\n",
            "dtypes: float64(2), object(9)\n",
            "memory usage: 2.0+ KB\n"
          ]
        }
      ]
    },
    {
      "cell_type": "code",
      "source": [
        "resumes.head()"
      ],
      "metadata": {
        "colab": {
          "base_uri": "https://localhost:8080/",
          "height": 530
        },
        "outputId": "8f413338-0daa-4bd8-b682-b10945124654",
        "id": "RzESRl6PhDub"
      },
      "execution_count": null,
      "outputs": [
        {
          "output_type": "execute_result",
          "data": {
            "text/plain": [
              "               name                       email mobile_number  \\\n",
              "0     Lakshay Yadav  lakshay.mcs21.du@gmail.com    7982993455   \n",
              "1  STUTI EDUCATION-      stuti.agg.16@gmail.com    8950764441   \n",
              "2     KARAMJOT KAUR       karamjotk03@gmail.com    9654226396   \n",
              "3    RITIKA MOHANTY   ritikamohanty38@gmail.com    9540643304   \n",
              "4     Email Contact       tupeamruta7@gmail.com    7249864331   \n",
              "\n",
              "                                              skills college_name  \\\n",
              "0  ['Engineering', 'Java', 'Tensorflow', 'Researc...          NaN   \n",
              "1  ['Digital marketing', 'Excel', 'Photoshop', 'P...          NaN   \n",
              "2  ['Engineering', 'Java', 'Database', 'Documenta...          NaN   \n",
              "3  ['Php', 'Computer science', 'Java', 'Website',...          NaN   \n",
              "4                          ['English', 'Email', 'C']          NaN   \n",
              "\n",
              "                                              degree  \\\n",
              "0  ['Department of Computer Science', 'Bachelor’s...   \n",
              "1                                                NaN   \n",
              "2                                                NaN   \n",
              "3                                                NaN   \n",
              "4                                ['Degree', 'BCOM.']   \n",
              "\n",
              "                                         designation  \\\n",
              "0                                                NaN   \n",
              "1                                                NaN   \n",
              "2                                                NaN   \n",
              "3  ['Machine Learning (Self-Paced) \\nBy: Stanford...   \n",
              "4                                                NaN   \n",
              "\n",
              "                                          experience company_names  \\\n",
              "0                                                NaN           NaN   \n",
              "1  ['real case study.', 'Achievements-', '➢  Cert...           NaN   \n",
              "2                                                NaN           NaN   \n",
              "3  ['Part-time Content Writer, Weblink.In', 'May ...           NaN   \n",
              "4                                                NaN           NaN   \n",
              "\n",
              "   no_of_pages  total_experience  \n",
              "0          1.0              0.00  \n",
              "1          2.0              0.00  \n",
              "2          2.0              0.00  \n",
              "3          1.0              0.75  \n",
              "4          2.0              0.00  "
            ],
            "text/html": [
              "\n",
              "  <div id=\"df-189564dd-e7a5-4681-8988-e603430b680f\">\n",
              "    <div class=\"colab-df-container\">\n",
              "      <div>\n",
              "<style scoped>\n",
              "    .dataframe tbody tr th:only-of-type {\n",
              "        vertical-align: middle;\n",
              "    }\n",
              "\n",
              "    .dataframe tbody tr th {\n",
              "        vertical-align: top;\n",
              "    }\n",
              "\n",
              "    .dataframe thead th {\n",
              "        text-align: right;\n",
              "    }\n",
              "</style>\n",
              "<table border=\"1\" class=\"dataframe\">\n",
              "  <thead>\n",
              "    <tr style=\"text-align: right;\">\n",
              "      <th></th>\n",
              "      <th>name</th>\n",
              "      <th>email</th>\n",
              "      <th>mobile_number</th>\n",
              "      <th>skills</th>\n",
              "      <th>college_name</th>\n",
              "      <th>degree</th>\n",
              "      <th>designation</th>\n",
              "      <th>experience</th>\n",
              "      <th>company_names</th>\n",
              "      <th>no_of_pages</th>\n",
              "      <th>total_experience</th>\n",
              "    </tr>\n",
              "  </thead>\n",
              "  <tbody>\n",
              "    <tr>\n",
              "      <th>0</th>\n",
              "      <td>Lakshay Yadav</td>\n",
              "      <td>lakshay.mcs21.du@gmail.com</td>\n",
              "      <td>7982993455</td>\n",
              "      <td>['Engineering', 'Java', 'Tensorflow', 'Researc...</td>\n",
              "      <td>NaN</td>\n",
              "      <td>['Department of Computer Science', 'Bachelor’s...</td>\n",
              "      <td>NaN</td>\n",
              "      <td>NaN</td>\n",
              "      <td>NaN</td>\n",
              "      <td>1.0</td>\n",
              "      <td>0.00</td>\n",
              "    </tr>\n",
              "    <tr>\n",
              "      <th>1</th>\n",
              "      <td>STUTI EDUCATION-</td>\n",
              "      <td>stuti.agg.16@gmail.com</td>\n",
              "      <td>8950764441</td>\n",
              "      <td>['Digital marketing', 'Excel', 'Photoshop', 'P...</td>\n",
              "      <td>NaN</td>\n",
              "      <td>NaN</td>\n",
              "      <td>NaN</td>\n",
              "      <td>['real case study.', 'Achievements-', '➢  Cert...</td>\n",
              "      <td>NaN</td>\n",
              "      <td>2.0</td>\n",
              "      <td>0.00</td>\n",
              "    </tr>\n",
              "    <tr>\n",
              "      <th>2</th>\n",
              "      <td>KARAMJOT KAUR</td>\n",
              "      <td>karamjotk03@gmail.com</td>\n",
              "      <td>9654226396</td>\n",
              "      <td>['Engineering', 'Java', 'Database', 'Documenta...</td>\n",
              "      <td>NaN</td>\n",
              "      <td>NaN</td>\n",
              "      <td>NaN</td>\n",
              "      <td>NaN</td>\n",
              "      <td>NaN</td>\n",
              "      <td>2.0</td>\n",
              "      <td>0.00</td>\n",
              "    </tr>\n",
              "    <tr>\n",
              "      <th>3</th>\n",
              "      <td>RITIKA MOHANTY</td>\n",
              "      <td>ritikamohanty38@gmail.com</td>\n",
              "      <td>9540643304</td>\n",
              "      <td>['Php', 'Computer science', 'Java', 'Website',...</td>\n",
              "      <td>NaN</td>\n",
              "      <td>NaN</td>\n",
              "      <td>['Machine Learning (Self-Paced) \\nBy: Stanford...</td>\n",
              "      <td>['Part-time Content Writer, Weblink.In', 'May ...</td>\n",
              "      <td>NaN</td>\n",
              "      <td>1.0</td>\n",
              "      <td>0.75</td>\n",
              "    </tr>\n",
              "    <tr>\n",
              "      <th>4</th>\n",
              "      <td>Email Contact</td>\n",
              "      <td>tupeamruta7@gmail.com</td>\n",
              "      <td>7249864331</td>\n",
              "      <td>['English', 'Email', 'C']</td>\n",
              "      <td>NaN</td>\n",
              "      <td>['Degree', 'BCOM.']</td>\n",
              "      <td>NaN</td>\n",
              "      <td>NaN</td>\n",
              "      <td>NaN</td>\n",
              "      <td>2.0</td>\n",
              "      <td>0.00</td>\n",
              "    </tr>\n",
              "  </tbody>\n",
              "</table>\n",
              "</div>\n",
              "      <button class=\"colab-df-convert\" onclick=\"convertToInteractive('df-189564dd-e7a5-4681-8988-e603430b680f')\"\n",
              "              title=\"Convert this dataframe to an interactive table.\"\n",
              "              style=\"display:none;\">\n",
              "        \n",
              "  <svg xmlns=\"http://www.w3.org/2000/svg\" height=\"24px\"viewBox=\"0 0 24 24\"\n",
              "       width=\"24px\">\n",
              "    <path d=\"M0 0h24v24H0V0z\" fill=\"none\"/>\n",
              "    <path d=\"M18.56 5.44l.94 2.06.94-2.06 2.06-.94-2.06-.94-.94-2.06-.94 2.06-2.06.94zm-11 1L8.5 8.5l.94-2.06 2.06-.94-2.06-.94L8.5 2.5l-.94 2.06-2.06.94zm10 10l.94 2.06.94-2.06 2.06-.94-2.06-.94-.94-2.06-.94 2.06-2.06.94z\"/><path d=\"M17.41 7.96l-1.37-1.37c-.4-.4-.92-.59-1.43-.59-.52 0-1.04.2-1.43.59L10.3 9.45l-7.72 7.72c-.78.78-.78 2.05 0 2.83L4 21.41c.39.39.9.59 1.41.59.51 0 1.02-.2 1.41-.59l7.78-7.78 2.81-2.81c.8-.78.8-2.07 0-2.86zM5.41 20L4 18.59l7.72-7.72 1.47 1.35L5.41 20z\"/>\n",
              "  </svg>\n",
              "      </button>\n",
              "      \n",
              "  <style>\n",
              "    .colab-df-container {\n",
              "      display:flex;\n",
              "      flex-wrap:wrap;\n",
              "      gap: 12px;\n",
              "    }\n",
              "\n",
              "    .colab-df-convert {\n",
              "      background-color: #E8F0FE;\n",
              "      border: none;\n",
              "      border-radius: 50%;\n",
              "      cursor: pointer;\n",
              "      display: none;\n",
              "      fill: #1967D2;\n",
              "      height: 32px;\n",
              "      padding: 0 0 0 0;\n",
              "      width: 32px;\n",
              "    }\n",
              "\n",
              "    .colab-df-convert:hover {\n",
              "      background-color: #E2EBFA;\n",
              "      box-shadow: 0px 1px 2px rgba(60, 64, 67, 0.3), 0px 1px 3px 1px rgba(60, 64, 67, 0.15);\n",
              "      fill: #174EA6;\n",
              "    }\n",
              "\n",
              "    [theme=dark] .colab-df-convert {\n",
              "      background-color: #3B4455;\n",
              "      fill: #D2E3FC;\n",
              "    }\n",
              "\n",
              "    [theme=dark] .colab-df-convert:hover {\n",
              "      background-color: #434B5C;\n",
              "      box-shadow: 0px 1px 3px 1px rgba(0, 0, 0, 0.15);\n",
              "      filter: drop-shadow(0px 1px 2px rgba(0, 0, 0, 0.3));\n",
              "      fill: #FFFFFF;\n",
              "    }\n",
              "  </style>\n",
              "\n",
              "      <script>\n",
              "        const buttonEl =\n",
              "          document.querySelector('#df-189564dd-e7a5-4681-8988-e603430b680f button.colab-df-convert');\n",
              "        buttonEl.style.display =\n",
              "          google.colab.kernel.accessAllowed ? 'block' : 'none';\n",
              "\n",
              "        async function convertToInteractive(key) {\n",
              "          const element = document.querySelector('#df-189564dd-e7a5-4681-8988-e603430b680f');\n",
              "          const dataTable =\n",
              "            await google.colab.kernel.invokeFunction('convertToInteractive',\n",
              "                                                     [key], {});\n",
              "          if (!dataTable) return;\n",
              "\n",
              "          const docLinkHtml = 'Like what you see? Visit the ' +\n",
              "            '<a target=\"_blank\" href=https://colab.research.google.com/notebooks/data_table.ipynb>data table notebook</a>'\n",
              "            + ' to learn more about interactive tables.';\n",
              "          element.innerHTML = '';\n",
              "          dataTable['output_type'] = 'display_data';\n",
              "          await google.colab.output.renderOutput(dataTable, element);\n",
              "          const docLink = document.createElement('div');\n",
              "          docLink.innerHTML = docLinkHtml;\n",
              "          element.appendChild(docLink);\n",
              "        }\n",
              "      </script>\n",
              "    </div>\n",
              "  </div>\n",
              "  "
            ]
          },
          "metadata": {},
          "execution_count": 141
        }
      ]
    },
    {
      "cell_type": "code",
      "source": [
        "resumes = resumes[resumes['skills'].notna()]\n",
        "resumes.shape"
      ],
      "metadata": {
        "colab": {
          "base_uri": "https://localhost:8080/"
        },
        "outputId": "8b80fa24-297f-47f7-b3e8-2a330fac359a",
        "id": "wM8ahLxJhDuc"
      },
      "execution_count": null,
      "outputs": [
        {
          "output_type": "execute_result",
          "data": {
            "text/plain": [
              "(21, 11)"
            ]
          },
          "metadata": {},
          "execution_count": 142
        }
      ]
    },
    {
      "cell_type": "code",
      "source": [
        "resumes['test']"
      ],
      "metadata": {
        "colab": {
          "base_uri": "https://localhost:8080/"
        },
        "outputId": "def5f982-750b-4c0d-b8c2-e6ee7b730936",
        "id": "wyFL40gMhDuc"
      },
      "execution_count": null,
      "outputs": [
        {
          "output_type": "execute_result",
          "data": {
            "text/plain": [
              "0      engineering java tensorflow research python o...\n",
              "1      digital marketing excel photoshop python mark...\n",
              "2      engineering java database documentation softw...\n",
              "3      php computer science java website presentatio...\n",
              "4                                      english email c \n",
              "5      data analytics seaborn matplotlib pandas pyth...\n",
              "6      mysql purchasing windows tableau linux schedu...\n",
              "7      design certification engineering process emai...\n",
              "8      policies updates mysql engineering forecastin...\n",
              "9      java email html technical newspaper english c...\n",
              "10     salesforce finance mis seo website design crm...\n",
              "11     php training mysql java engineering proposal ...\n",
              "12     mysql vendors engineering distribution querie...\n",
              "13     excel mysql engineering analytics sales pytho...\n",
              "14     c html technical javascript english administr...\n",
              "15     mechanical engineering reporting research tec...\n",
              "16     scripting java oracle windows sql english css...\n",
              "17     sports engineering scrum payments erp windows...\n",
              "19     ai content mysql c oracle mining banking net ...\n",
              "20     engineering windows java social media hotel c...\n",
              "21     policies engagement agile engineering plan sc...\n",
              "Name: test, dtype: object"
            ]
          },
          "metadata": {},
          "execution_count": 152
        }
      ]
    },
    {
      "cell_type": "code",
      "source": [
        "# CREATING A BAG OF WORDS\n",
        "\n",
        "from sklearn.feature_extraction.text import TfidfVectorizer\n",
        "\n",
        "# Convert a collection of raw documents to a matrix of TF-IDF features.\n",
        "# tf-idf means term-frequency times inverse document-frequency\n",
        "# tf-idf for a term t of a document d in a document set is tf-idf(t, d) = tf(t, d) * idf(t)\n",
        "# idf is computed as idf(t) = log [ n / df(t) ] + 1 \n",
        "\n",
        "tdif = TfidfVectorizer(stop_words='english')\n",
        "# print(type(tdif))\n",
        "tdif_matrix = tdif.fit_transform(resumes['test'])\n",
        "tdif_matrix.shape"
      ],
      "metadata": {
        "colab": {
          "base_uri": "https://localhost:8080/"
        },
        "outputId": "4012e079-6178-4506-fdba-9e74fbf1d322",
        "id": "rkUh6rO1hDuc"
      },
      "execution_count": null,
      "outputs": [
        {
          "output_type": "execute_result",
          "data": {
            "text/plain": [
              "(21, 167)"
            ]
          },
          "metadata": {},
          "execution_count": 153
        }
      ]
    },
    {
      "cell_type": "code",
      "source": [
        "print(type(tdif_matrix))"
      ],
      "metadata": {
        "colab": {
          "base_uri": "https://localhost:8080/"
        },
        "outputId": "93ace52d-ff6f-400b-d6cb-bd6127b5de50",
        "id": "qrhm7vFrhDuc"
      },
      "execution_count": null,
      "outputs": [
        {
          "output_type": "stream",
          "name": "stdout",
          "text": [
            "<class 'scipy.sparse.csr.csr_matrix'>\n"
          ]
        }
      ]
    },
    {
      "cell_type": "code",
      "source": [
        "from sklearn.metrics.pairwise import linear_kernel\n",
        "\n",
        "# considers not only the similarity between vectors under the same dimension,\n",
        "# but also across dimensions. When used in machine learning algorithms, \n",
        "# this allows to account for feature interaction.\n",
        "\n",
        "cosine_sim = linear_kernel(tdif_matrix, tdif_matrix)\n",
        "\n",
        "#  tf-idf functionality in sklearn.feature_extraction.text can produce \n",
        "# normalized vectors, in which case cosine_similarity is equivalent to\n",
        "#  linear_kernel, only slower\n",
        "\n",
        "indices = pd.Series(resumes.index, index=resumes['name']).drop_duplicates()\n",
        "indices"
      ],
      "metadata": {
        "colab": {
          "base_uri": "https://localhost:8080/"
        },
        "outputId": "8f92502b-c613-4d5a-8cd4-ba7904337e76",
        "id": "5Es7xTXrhDuc"
      },
      "execution_count": null,
      "outputs": [
        {
          "output_type": "execute_result",
          "data": {
            "text/plain": [
              "name\n",
              "Lakshay Yadav                      0\n",
              "STUTI                              1\n",
              "KARAMJOT KAUR                      2\n",
              "RITIKA MOHANTY                     3\n",
              "Email Contact                      4\n",
              "Akash Shetty                       5\n",
              "ANURAG CHAUHAN                     6\n",
              "R.Vimalraj EDUCATION               7\n",
              "Avi Sharma                         8\n",
              "RESUME SATYAJIT                    9\n",
              "BL Karnataka                      10\n",
              "Ansari                            11\n",
              "JJ COLLEGE OF ARTS AND SCIENCE    12\n",
              "KISHORE KUMAR                     13\n",
              "KRISHNA PRABU                     14\n",
              "PRASAD Digital                    15\n",
              "Sireesha                          16\n",
              "Lavanya                           17\n",
              "Rohan                             19\n",
              "Aneet                             20\n",
              " Himani                           21\n",
              "dtype: int64"
            ]
          },
          "metadata": {},
          "execution_count": 155
        }
      ]
    },
    {
      "cell_type": "code",
      "source": [
        "def get_recommendations(title,cosine_sim=cosine_sim):\n",
        "  idx = indices[title]\n",
        "  # print(idx)\n",
        "  sim_scores = list(enumerate(cosine_sim[idx]))\n",
        "  # print(sim_scores)\n",
        "  sim_scores = sorted(sim_scores, key=lambda X:X[1], reverse=True)\n",
        "  # we don't how this 'key=lambda X:X[1]' works\n",
        "  # print(sim_scores)\n",
        "  sim_scores = sim_scores[1:4]\n",
        "\n",
        "  tech_indices = [i[0] for i in sim_scores]\n",
        "  return resumes.iloc[tech_indices]"
      ],
      "metadata": {
        "id": "eWSXXx7whDuc"
      },
      "execution_count": null,
      "outputs": []
    },
    {
      "cell_type": "code",
      "source": [
        "sim_res = get_recommendations('Lakshay Yadav')\n",
        "sim_res"
      ],
      "metadata": {
        "colab": {
          "base_uri": "https://localhost:8080/",
          "height": 398
        },
        "outputId": "10593d81-2ada-4b64-aea4-42c43d765727",
        "id": "U6yLafpPhDuc"
      },
      "execution_count": null,
      "outputs": [
        {
          "output_type": "execute_result",
          "data": {
            "text/plain": [
              "             name                       email mobile_number  \\\n",
              "2   KARAMJOT KAUR       karamjotk03@gmail.com    9654226396   \n",
              "10   BL Karnataka      Varunbl.vrun@gmail.com       1767605   \n",
              "11         Ansari  ansarialiasgar40@gmail.com    9779811193   \n",
              "\n",
              "                                               skills college_name  \\\n",
              "2   ['Engineering', 'Java', 'Database', 'Documenta...          NaN   \n",
              "10  ['Salesforce', 'Finance', 'Mis', 'Seo', 'Websi...          NaN   \n",
              "11  ['Php', 'Training', 'Mysql', 'Java', 'Engineer...          NaN   \n",
              "\n",
              "                                        degree  \\\n",
              "2                                          NaN   \n",
              "10                                         NaN   \n",
              "11  ['BE in Computer Science and Engineering']   \n",
              "\n",
              "                                     designation  \\\n",
              "2                                            NaN   \n",
              "10  ['Bot Developer', 'Data Processing Analyst']   \n",
              "11                           ['Playing Cricket']   \n",
              "\n",
              "                                           experience  company_names  \\\n",
              "2                                                 NaN            NaN   \n",
              "10  ['Data Processing Analyst', 'NielsenIQ', 'Oct ...  ['Microsoft']   \n",
              "11              ['15-Sep-', '2021 - 19-', 'Oct-2021']            NaN   \n",
              "\n",
              "    no_of_pages  total_experience  \\\n",
              "2           2.0              0.00   \n",
              "10          2.0              1.42   \n",
              "11          1.0              0.00   \n",
              "\n",
              "                                                 test  \n",
              "2    engineering java database documentation softw...  \n",
              "10   salesforce finance mis seo website design crm...  \n",
              "11   php training mysql java engineering proposal ...  "
            ],
            "text/html": [
              "\n",
              "  <div id=\"df-843f564d-5c8a-482f-9b69-b6194f525774\">\n",
              "    <div class=\"colab-df-container\">\n",
              "      <div>\n",
              "<style scoped>\n",
              "    .dataframe tbody tr th:only-of-type {\n",
              "        vertical-align: middle;\n",
              "    }\n",
              "\n",
              "    .dataframe tbody tr th {\n",
              "        vertical-align: top;\n",
              "    }\n",
              "\n",
              "    .dataframe thead th {\n",
              "        text-align: right;\n",
              "    }\n",
              "</style>\n",
              "<table border=\"1\" class=\"dataframe\">\n",
              "  <thead>\n",
              "    <tr style=\"text-align: right;\">\n",
              "      <th></th>\n",
              "      <th>name</th>\n",
              "      <th>email</th>\n",
              "      <th>mobile_number</th>\n",
              "      <th>skills</th>\n",
              "      <th>college_name</th>\n",
              "      <th>degree</th>\n",
              "      <th>designation</th>\n",
              "      <th>experience</th>\n",
              "      <th>company_names</th>\n",
              "      <th>no_of_pages</th>\n",
              "      <th>total_experience</th>\n",
              "      <th>test</th>\n",
              "    </tr>\n",
              "  </thead>\n",
              "  <tbody>\n",
              "    <tr>\n",
              "      <th>2</th>\n",
              "      <td>KARAMJOT KAUR</td>\n",
              "      <td>karamjotk03@gmail.com</td>\n",
              "      <td>9654226396</td>\n",
              "      <td>['Engineering', 'Java', 'Database', 'Documenta...</td>\n",
              "      <td>NaN</td>\n",
              "      <td>NaN</td>\n",
              "      <td>NaN</td>\n",
              "      <td>NaN</td>\n",
              "      <td>NaN</td>\n",
              "      <td>2.0</td>\n",
              "      <td>0.00</td>\n",
              "      <td>engineering java database documentation softw...</td>\n",
              "    </tr>\n",
              "    <tr>\n",
              "      <th>10</th>\n",
              "      <td>BL Karnataka</td>\n",
              "      <td>Varunbl.vrun@gmail.com</td>\n",
              "      <td>1767605</td>\n",
              "      <td>['Salesforce', 'Finance', 'Mis', 'Seo', 'Websi...</td>\n",
              "      <td>NaN</td>\n",
              "      <td>NaN</td>\n",
              "      <td>['Bot Developer', 'Data Processing Analyst']</td>\n",
              "      <td>['Data Processing Analyst', 'NielsenIQ', 'Oct ...</td>\n",
              "      <td>['Microsoft']</td>\n",
              "      <td>2.0</td>\n",
              "      <td>1.42</td>\n",
              "      <td>salesforce finance mis seo website design crm...</td>\n",
              "    </tr>\n",
              "    <tr>\n",
              "      <th>11</th>\n",
              "      <td>Ansari</td>\n",
              "      <td>ansarialiasgar40@gmail.com</td>\n",
              "      <td>9779811193</td>\n",
              "      <td>['Php', 'Training', 'Mysql', 'Java', 'Engineer...</td>\n",
              "      <td>NaN</td>\n",
              "      <td>['BE in Computer Science and Engineering']</td>\n",
              "      <td>['Playing Cricket']</td>\n",
              "      <td>['15-Sep-', '2021 - 19-', 'Oct-2021']</td>\n",
              "      <td>NaN</td>\n",
              "      <td>1.0</td>\n",
              "      <td>0.00</td>\n",
              "      <td>php training mysql java engineering proposal ...</td>\n",
              "    </tr>\n",
              "  </tbody>\n",
              "</table>\n",
              "</div>\n",
              "      <button class=\"colab-df-convert\" onclick=\"convertToInteractive('df-843f564d-5c8a-482f-9b69-b6194f525774')\"\n",
              "              title=\"Convert this dataframe to an interactive table.\"\n",
              "              style=\"display:none;\">\n",
              "        \n",
              "  <svg xmlns=\"http://www.w3.org/2000/svg\" height=\"24px\"viewBox=\"0 0 24 24\"\n",
              "       width=\"24px\">\n",
              "    <path d=\"M0 0h24v24H0V0z\" fill=\"none\"/>\n",
              "    <path d=\"M18.56 5.44l.94 2.06.94-2.06 2.06-.94-2.06-.94-.94-2.06-.94 2.06-2.06.94zm-11 1L8.5 8.5l.94-2.06 2.06-.94-2.06-.94L8.5 2.5l-.94 2.06-2.06.94zm10 10l.94 2.06.94-2.06 2.06-.94-2.06-.94-.94-2.06-.94 2.06-2.06.94z\"/><path d=\"M17.41 7.96l-1.37-1.37c-.4-.4-.92-.59-1.43-.59-.52 0-1.04.2-1.43.59L10.3 9.45l-7.72 7.72c-.78.78-.78 2.05 0 2.83L4 21.41c.39.39.9.59 1.41.59.51 0 1.02-.2 1.41-.59l7.78-7.78 2.81-2.81c.8-.78.8-2.07 0-2.86zM5.41 20L4 18.59l7.72-7.72 1.47 1.35L5.41 20z\"/>\n",
              "  </svg>\n",
              "      </button>\n",
              "      \n",
              "  <style>\n",
              "    .colab-df-container {\n",
              "      display:flex;\n",
              "      flex-wrap:wrap;\n",
              "      gap: 12px;\n",
              "    }\n",
              "\n",
              "    .colab-df-convert {\n",
              "      background-color: #E8F0FE;\n",
              "      border: none;\n",
              "      border-radius: 50%;\n",
              "      cursor: pointer;\n",
              "      display: none;\n",
              "      fill: #1967D2;\n",
              "      height: 32px;\n",
              "      padding: 0 0 0 0;\n",
              "      width: 32px;\n",
              "    }\n",
              "\n",
              "    .colab-df-convert:hover {\n",
              "      background-color: #E2EBFA;\n",
              "      box-shadow: 0px 1px 2px rgba(60, 64, 67, 0.3), 0px 1px 3px 1px rgba(60, 64, 67, 0.15);\n",
              "      fill: #174EA6;\n",
              "    }\n",
              "\n",
              "    [theme=dark] .colab-df-convert {\n",
              "      background-color: #3B4455;\n",
              "      fill: #D2E3FC;\n",
              "    }\n",
              "\n",
              "    [theme=dark] .colab-df-convert:hover {\n",
              "      background-color: #434B5C;\n",
              "      box-shadow: 0px 1px 3px 1px rgba(0, 0, 0, 0.15);\n",
              "      filter: drop-shadow(0px 1px 2px rgba(0, 0, 0, 0.3));\n",
              "      fill: #FFFFFF;\n",
              "    }\n",
              "  </style>\n",
              "\n",
              "      <script>\n",
              "        const buttonEl =\n",
              "          document.querySelector('#df-843f564d-5c8a-482f-9b69-b6194f525774 button.colab-df-convert');\n",
              "        buttonEl.style.display =\n",
              "          google.colab.kernel.accessAllowed ? 'block' : 'none';\n",
              "\n",
              "        async function convertToInteractive(key) {\n",
              "          const element = document.querySelector('#df-843f564d-5c8a-482f-9b69-b6194f525774');\n",
              "          const dataTable =\n",
              "            await google.colab.kernel.invokeFunction('convertToInteractive',\n",
              "                                                     [key], {});\n",
              "          if (!dataTable) return;\n",
              "\n",
              "          const docLinkHtml = 'Like what you see? Visit the ' +\n",
              "            '<a target=\"_blank\" href=https://colab.research.google.com/notebooks/data_table.ipynb>data table notebook</a>'\n",
              "            + ' to learn more about interactive tables.';\n",
              "          element.innerHTML = '';\n",
              "          dataTable['output_type'] = 'display_data';\n",
              "          await google.colab.output.renderOutput(dataTable, element);\n",
              "          const docLink = document.createElement('div');\n",
              "          docLink.innerHTML = docLinkHtml;\n",
              "          element.appendChild(docLink);\n",
              "        }\n",
              "      </script>\n",
              "    </div>\n",
              "  </div>\n",
              "  "
            ]
          },
          "metadata": {},
          "execution_count": 157
        }
      ]
    },
    {
      "cell_type": "markdown",
      "source": [
        "# COLABORATIVE FILTERING"
      ],
      "metadata": {
        "id": "dZP0i-QJoRpL"
      }
    },
    {
      "cell_type": "code",
      "source": [
        "sim_res['test']"
      ],
      "metadata": {
        "colab": {
          "base_uri": "https://localhost:8080/"
        },
        "id": "XXMZfNmDoVg8",
        "outputId": "2207e6a3-e7e6-48b1-b9ed-027a01902b84"
      },
      "execution_count": null,
      "outputs": [
        {
          "output_type": "execute_result",
          "data": {
            "text/plain": [
              "2      engineering java database documentation softw...\n",
              "10     salesforce finance mis seo website design crm...\n",
              "11     php training mysql java engineering proposal ...\n",
              "Name: test, dtype: object"
            ]
          },
          "metadata": {},
          "execution_count": 168
        }
      ]
    },
    {
      "cell_type": "code",
      "source": [
        "sim_skills = \"\"\n",
        "for res in sim_res['test']:\n",
        "  sim_skills = sim_skills +\" \"+ res\n",
        "\n",
        "sim_skills"
      ],
      "metadata": {
        "colab": {
          "base_uri": "https://localhost:8080/",
          "height": 88
        },
        "id": "P3Swi42LvMmy",
        "outputId": "29c15924-0f4f-40c9-850d-228b4caeb3c0"
      },
      "execution_count": null,
      "outputs": [
        {
          "output_type": "execute_result",
          "data": {
            "text/plain": [
              "'  engineering java database documentation software engineering sql communication system technical c++ html computer science time management english css   salesforce finance mis seo website design crm computer science data analytics reporting excel research migration process procurement training automation ui certification data analysis python analytics analysis security   php training mysql java engineering proposal technical computer science english html5 system '"
            ],
            "application/vnd.google.colaboratory.intrinsic+json": {
              "type": "string"
            }
          },
          "metadata": {},
          "execution_count": 172
        }
      ]
    },
    {
      "cell_type": "code",
      "source": [
        "v = CountVectorizer()\n",
        "\n",
        "v = CountVectorizer(ngram_range=(1,2))\n",
        "v.fit([sim_skills])\n",
        "print(type(v.vocabulary_))\n",
        "print(len(v.vocabulary_))\n",
        "v.vocabulary_"
      ],
      "metadata": {
        "colab": {
          "base_uri": "https://localhost:8080/"
        },
        "outputId": "e749129a-18b2-4e1c-b2a4-85168e880f97",
        "id": "EQjzQ1TIx2yW"
      },
      "execution_count": null,
      "outputs": [
        {
          "output_type": "stream",
          "name": "stdout",
          "text": [
            "<class 'dict'>\n",
            "95\n"
          ]
        },
        {
          "output_type": "execute_result",
          "data": {
            "text/plain": [
              "{'engineering': 27,\n",
              " 'java': 42,\n",
              " 'database': 21,\n",
              " 'documentation': 25,\n",
              " 'software': 77,\n",
              " 'sql': 79,\n",
              " 'communication': 10,\n",
              " 'system': 81,\n",
              " 'technical': 83,\n",
              " 'html': 38,\n",
              " 'computer': 12,\n",
              " 'science': 69,\n",
              " 'time': 86,\n",
              " 'management': 45,\n",
              " 'english': 31,\n",
              " 'css': 16,\n",
              " 'salesforce': 67,\n",
              " 'finance': 36,\n",
              " 'mis': 49,\n",
              " 'seo': 75,\n",
              " 'website': 93,\n",
              " 'design': 23,\n",
              " 'crm': 14,\n",
              " 'data': 18,\n",
              " 'analytics': 3,\n",
              " 'reporting': 63,\n",
              " 'excel': 34,\n",
              " 'research': 65,\n",
              " 'migration': 47,\n",
              " 'process': 55,\n",
              " 'procurement': 57,\n",
              " 'training': 88,\n",
              " 'automation': 6,\n",
              " 'ui': 91,\n",
              " 'certification': 8,\n",
              " 'analysis': 0,\n",
              " 'python': 61,\n",
              " 'security': 73,\n",
              " 'php': 53,\n",
              " 'mysql': 51,\n",
              " 'proposal': 59,\n",
              " 'html5': 40,\n",
              " 'engineering java': 28,\n",
              " 'java database': 43,\n",
              " 'database documentation': 22,\n",
              " 'documentation software': 26,\n",
              " 'software engineering': 78,\n",
              " 'engineering sql': 30,\n",
              " 'sql communication': 80,\n",
              " 'communication system': 11,\n",
              " 'system technical': 82,\n",
              " 'technical html': 85,\n",
              " 'html computer': 39,\n",
              " 'computer science': 13,\n",
              " 'science time': 72,\n",
              " 'time management': 87,\n",
              " 'management english': 46,\n",
              " 'english css': 32,\n",
              " 'css salesforce': 17,\n",
              " 'salesforce finance': 68,\n",
              " 'finance mis': 37,\n",
              " 'mis seo': 50,\n",
              " 'seo website': 76,\n",
              " 'website design': 94,\n",
              " 'design crm': 24,\n",
              " 'crm computer': 15,\n",
              " 'science data': 70,\n",
              " 'data analytics': 20,\n",
              " 'analytics reporting': 5,\n",
              " 'reporting excel': 64,\n",
              " 'excel research': 35,\n",
              " 'research migration': 66,\n",
              " 'migration process': 48,\n",
              " 'process procurement': 56,\n",
              " 'procurement training': 58,\n",
              " 'training automation': 89,\n",
              " 'automation ui': 7,\n",
              " 'ui certification': 92,\n",
              " 'certification data': 9,\n",
              " 'data analysis': 19,\n",
              " 'analysis python': 1,\n",
              " 'python analytics': 62,\n",
              " 'analytics analysis': 4,\n",
              " 'analysis security': 2,\n",
              " 'security php': 74,\n",
              " 'php training': 54,\n",
              " 'training mysql': 90,\n",
              " 'mysql java': 52,\n",
              " 'java engineering': 44,\n",
              " 'engineering proposal': 29,\n",
              " 'proposal technical': 60,\n",
              " 'technical computer': 84,\n",
              " 'science english': 71,\n",
              " 'english html5': 33,\n",
              " 'html5 system': 41}"
            ]
          },
          "metadata": {},
          "execution_count": 173
        }
      ]
    },
    {
      "cell_type": "code",
      "source": [
        "tf_count = v.transform(jobs['test'])\n",
        "tf_ud = tf_count.toarray()\n",
        "print(type(tf_count))\n",
        "print(tf_ud.shape)\n",
        "print(tf_ud)"
      ],
      "metadata": {
        "colab": {
          "base_uri": "https://localhost:8080/"
        },
        "outputId": "3bf6dd47-0aed-44f1-f6a6-1683ea02a704",
        "id": "IbS-LNCcx2yX"
      },
      "execution_count": null,
      "outputs": [
        {
          "output_type": "stream",
          "name": "stdout",
          "text": [
            "<class 'scipy.sparse.csr.csr_matrix'>\n",
            "(34, 95)\n",
            "[[0 0 0 ... 0 0 0]\n",
            " [0 0 0 ... 0 0 0]\n",
            " [0 0 0 ... 0 0 0]\n",
            " ...\n",
            " [0 0 0 ... 0 0 0]\n",
            " [0 0 0 ... 0 0 0]\n",
            " [0 0 0 ... 0 0 0]]\n"
          ]
        }
      ]
    },
    {
      "cell_type": "code",
      "source": [
        "nbrs = NearestNeighbors(n_neighbors=5, n_jobs=-1).fit(tf_count)"
      ],
      "metadata": {
        "id": "ChAdvLchx2yY"
      },
      "execution_count": null,
      "outputs": []
    },
    {
      "cell_type": "code",
      "source": [
        "def getNearestN(query):\n",
        "  q_tf_count = v.transform(query)\n",
        "  distances, indices = nbrs.kneighbors(q_tf_count)\n",
        "  return distances, indices"
      ],
      "metadata": {
        "id": "uvT6R5nmx2yY"
      },
      "execution_count": null,
      "outputs": []
    },
    {
      "cell_type": "code",
      "source": [
        "distances, indices = getNearestN([jobseeker_skills])"
      ],
      "metadata": {
        "id": "tcNwAUakx2yY"
      },
      "execution_count": null,
      "outputs": []
    },
    {
      "cell_type": "code",
      "source": [
        "print(\"Distances          \", \"Indices\")\n",
        "for i in range(1,len(distances[0])):\n",
        "  print(distances[0][i],\"    \", indices[0][i])"
      ],
      "metadata": {
        "colab": {
          "base_uri": "https://localhost:8080/"
        },
        "outputId": "13d5cb84-1de1-487b-cce6-056d20ea8874",
        "id": "yT_GbIewx2yY"
      },
      "execution_count": null,
      "outputs": [
        {
          "output_type": "stream",
          "name": "stdout",
          "text": [
            "Distances           Indices\n",
            "1.0      0\n",
            "1.0      14\n",
            "1.0      28\n",
            "1.4142135623730951      19\n"
          ]
        }
      ]
    },
    {
      "cell_type": "markdown",
      "source": [
        "TOP N JOBS RECOMMENDED TO LAKSHAY YADAV USING COLLABORATIVE FILTERING"
      ],
      "metadata": {
        "id": "xMFuPSUWy-XU"
      }
    },
    {
      "cell_type": "code",
      "source": [
        "type(indices)\n",
        "for i in indices:\n",
        "    rec_jobs = jobs[['job_title', 'company_name','job_location']].iloc[i] \n",
        "rec_jobs"
      ],
      "metadata": {
        "colab": {
          "base_uri": "https://localhost:8080/",
          "height": 206
        },
        "outputId": "b00027b8-94c5-4bfc-aaaf-e351bd91f612",
        "id": "pDF8OQaDx2yZ"
      },
      "execution_count": null,
      "outputs": [
        {
          "output_type": "execute_result",
          "data": {
            "text/plain": [
              "                                            job_title  \\\n",
              "25  Associate Developer (Python with Machine Learn...   \n",
              "0                         Software Testing Internship   \n",
              "14                             NLP / Machine Learning   \n",
              "28                          Software Testing Engineer   \n",
              "19               Microsoft Technology Project Manager   \n",
              "\n",
              "                          company_name job_location  \n",
              "25                           Capgemini         Pune  \n",
              "0        Smart Food Safe Solutions Inc    Bengaluru  \n",
              "14  Oracle Financial Services Software         Pune  \n",
              "28               Hexaware Technologies  Navi Mumbai  \n",
              "19                   AD Infosystem.LLC        Delhi  "
            ],
            "text/html": [
              "\n",
              "  <div id=\"df-fc0d025e-a6c4-4b53-955d-8e3aeb0f9d23\">\n",
              "    <div class=\"colab-df-container\">\n",
              "      <div>\n",
              "<style scoped>\n",
              "    .dataframe tbody tr th:only-of-type {\n",
              "        vertical-align: middle;\n",
              "    }\n",
              "\n",
              "    .dataframe tbody tr th {\n",
              "        vertical-align: top;\n",
              "    }\n",
              "\n",
              "    .dataframe thead th {\n",
              "        text-align: right;\n",
              "    }\n",
              "</style>\n",
              "<table border=\"1\" class=\"dataframe\">\n",
              "  <thead>\n",
              "    <tr style=\"text-align: right;\">\n",
              "      <th></th>\n",
              "      <th>job_title</th>\n",
              "      <th>company_name</th>\n",
              "      <th>job_location</th>\n",
              "    </tr>\n",
              "  </thead>\n",
              "  <tbody>\n",
              "    <tr>\n",
              "      <th>25</th>\n",
              "      <td>Associate Developer (Python with Machine Learn...</td>\n",
              "      <td>Capgemini</td>\n",
              "      <td>Pune</td>\n",
              "    </tr>\n",
              "    <tr>\n",
              "      <th>0</th>\n",
              "      <td>Software Testing Internship</td>\n",
              "      <td>Smart Food Safe Solutions Inc</td>\n",
              "      <td>Bengaluru</td>\n",
              "    </tr>\n",
              "    <tr>\n",
              "      <th>14</th>\n",
              "      <td>NLP / Machine Learning</td>\n",
              "      <td>Oracle Financial Services Software</td>\n",
              "      <td>Pune</td>\n",
              "    </tr>\n",
              "    <tr>\n",
              "      <th>28</th>\n",
              "      <td>Software Testing Engineer</td>\n",
              "      <td>Hexaware Technologies</td>\n",
              "      <td>Navi Mumbai</td>\n",
              "    </tr>\n",
              "    <tr>\n",
              "      <th>19</th>\n",
              "      <td>Microsoft Technology Project Manager</td>\n",
              "      <td>AD Infosystem.LLC</td>\n",
              "      <td>Delhi</td>\n",
              "    </tr>\n",
              "  </tbody>\n",
              "</table>\n",
              "</div>\n",
              "      <button class=\"colab-df-convert\" onclick=\"convertToInteractive('df-fc0d025e-a6c4-4b53-955d-8e3aeb0f9d23')\"\n",
              "              title=\"Convert this dataframe to an interactive table.\"\n",
              "              style=\"display:none;\">\n",
              "        \n",
              "  <svg xmlns=\"http://www.w3.org/2000/svg\" height=\"24px\"viewBox=\"0 0 24 24\"\n",
              "       width=\"24px\">\n",
              "    <path d=\"M0 0h24v24H0V0z\" fill=\"none\"/>\n",
              "    <path d=\"M18.56 5.44l.94 2.06.94-2.06 2.06-.94-2.06-.94-.94-2.06-.94 2.06-2.06.94zm-11 1L8.5 8.5l.94-2.06 2.06-.94-2.06-.94L8.5 2.5l-.94 2.06-2.06.94zm10 10l.94 2.06.94-2.06 2.06-.94-2.06-.94-.94-2.06-.94 2.06-2.06.94z\"/><path d=\"M17.41 7.96l-1.37-1.37c-.4-.4-.92-.59-1.43-.59-.52 0-1.04.2-1.43.59L10.3 9.45l-7.72 7.72c-.78.78-.78 2.05 0 2.83L4 21.41c.39.39.9.59 1.41.59.51 0 1.02-.2 1.41-.59l7.78-7.78 2.81-2.81c.8-.78.8-2.07 0-2.86zM5.41 20L4 18.59l7.72-7.72 1.47 1.35L5.41 20z\"/>\n",
              "  </svg>\n",
              "      </button>\n",
              "      \n",
              "  <style>\n",
              "    .colab-df-container {\n",
              "      display:flex;\n",
              "      flex-wrap:wrap;\n",
              "      gap: 12px;\n",
              "    }\n",
              "\n",
              "    .colab-df-convert {\n",
              "      background-color: #E8F0FE;\n",
              "      border: none;\n",
              "      border-radius: 50%;\n",
              "      cursor: pointer;\n",
              "      display: none;\n",
              "      fill: #1967D2;\n",
              "      height: 32px;\n",
              "      padding: 0 0 0 0;\n",
              "      width: 32px;\n",
              "    }\n",
              "\n",
              "    .colab-df-convert:hover {\n",
              "      background-color: #E2EBFA;\n",
              "      box-shadow: 0px 1px 2px rgba(60, 64, 67, 0.3), 0px 1px 3px 1px rgba(60, 64, 67, 0.15);\n",
              "      fill: #174EA6;\n",
              "    }\n",
              "\n",
              "    [theme=dark] .colab-df-convert {\n",
              "      background-color: #3B4455;\n",
              "      fill: #D2E3FC;\n",
              "    }\n",
              "\n",
              "    [theme=dark] .colab-df-convert:hover {\n",
              "      background-color: #434B5C;\n",
              "      box-shadow: 0px 1px 3px 1px rgba(0, 0, 0, 0.15);\n",
              "      filter: drop-shadow(0px 1px 2px rgba(0, 0, 0, 0.3));\n",
              "      fill: #FFFFFF;\n",
              "    }\n",
              "  </style>\n",
              "\n",
              "      <script>\n",
              "        const buttonEl =\n",
              "          document.querySelector('#df-fc0d025e-a6c4-4b53-955d-8e3aeb0f9d23 button.colab-df-convert');\n",
              "        buttonEl.style.display =\n",
              "          google.colab.kernel.accessAllowed ? 'block' : 'none';\n",
              "\n",
              "        async function convertToInteractive(key) {\n",
              "          const element = document.querySelector('#df-fc0d025e-a6c4-4b53-955d-8e3aeb0f9d23');\n",
              "          const dataTable =\n",
              "            await google.colab.kernel.invokeFunction('convertToInteractive',\n",
              "                                                     [key], {});\n",
              "          if (!dataTable) return;\n",
              "\n",
              "          const docLinkHtml = 'Like what you see? Visit the ' +\n",
              "            '<a target=\"_blank\" href=https://colab.research.google.com/notebooks/data_table.ipynb>data table notebook</a>'\n",
              "            + ' to learn more about interactive tables.';\n",
              "          element.innerHTML = '';\n",
              "          dataTable['output_type'] = 'display_data';\n",
              "          await google.colab.output.renderOutput(dataTable, element);\n",
              "          const docLink = document.createElement('div');\n",
              "          docLink.innerHTML = docLinkHtml;\n",
              "          element.appendChild(docLink);\n",
              "        }\n",
              "      </script>\n",
              "    </div>\n",
              "  </div>\n",
              "  "
            ]
          },
          "metadata": {},
          "execution_count": 180
        }
      ]
    }
  ]
}